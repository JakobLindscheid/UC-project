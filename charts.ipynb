{
 "cells": [
  {
   "cell_type": "code",
   "execution_count": 1,
   "metadata": {},
   "outputs": [],
   "source": [
    "import pandas as pd\n",
    "import plotly.graph_objects as go"
   ]
  },
  {
   "cell_type": "code",
   "execution_count": 11,
   "metadata": {},
   "outputs": [],
   "source": [
    "data = pd.DataFrame({\n",
    "    \"temperature\":[0.1,0.5,1.0]*4,\n",
    "    \"scores\":[0.305, 0.384, 0.382]+[0.327, 0.390, 0.380]+[0.328, 0.395, 0.370]+[0.309, 0.398, 0.373],\n",
    "    \"name\":[\"base\"]*3 + [\"batch_size=128\"]*3 + [\"batch_size=128 & <br>layers=(256,128)\"]*3 + [\"batch_size=512 & <br>layers=(256,128)\"]*3\n",
    "}).sort_values(\"temperature\")"
   ]
  },
  {
   "cell_type": "code",
   "execution_count": 12,
   "metadata": {},
   "outputs": [
    {
     "data": {
      "application/vnd.plotly.v1+json": {
       "config": {
        "plotlyServerURL": "https://plot.ly"
       },
       "data": [
        {
         "marker": {
          "size": 10
         },
         "mode": "markers+lines",
         "name": "base",
         "type": "scatter",
         "x": [
          0.1,
          0.5,
          1
         ],
         "y": [
          0.305,
          0.384,
          0.382
         ]
        },
        {
         "marker": {
          "size": 10
         },
         "mode": "markers+lines",
         "name": "batch_size=128",
         "type": "scatter",
         "x": [
          0.1,
          0.5,
          1
         ],
         "y": [
          0.327,
          0.39,
          0.38
         ]
        },
        {
         "marker": {
          "size": 10
         },
         "mode": "markers+lines",
         "name": "batch_size=128 & <br>layers=(256,128)",
         "type": "scatter",
         "x": [
          0.1,
          0.5,
          1
         ],
         "y": [
          0.328,
          0.395,
          0.37
         ]
        },
        {
         "marker": {
          "size": 10
         },
         "mode": "markers+lines",
         "name": "batch_size=512 & <br>layers=(256,128)",
         "type": "scatter",
         "x": [
          0.1,
          0.5,
          1
         ],
         "y": [
          0.309,
          0.398,
          0.373
         ]
        }
       ],
       "layout": {
        "height": 600,
        "legend": {
         "title": {
          "text": "Parameter Set"
         }
        },
        "template": {
         "data": {
          "bar": [
           {
            "error_x": {
             "color": "#2a3f5f"
            },
            "error_y": {
             "color": "#2a3f5f"
            },
            "marker": {
             "line": {
              "color": "#E5ECF6",
              "width": 0.5
             },
             "pattern": {
              "fillmode": "overlay",
              "size": 10,
              "solidity": 0.2
             }
            },
            "type": "bar"
           }
          ],
          "barpolar": [
           {
            "marker": {
             "line": {
              "color": "#E5ECF6",
              "width": 0.5
             },
             "pattern": {
              "fillmode": "overlay",
              "size": 10,
              "solidity": 0.2
             }
            },
            "type": "barpolar"
           }
          ],
          "carpet": [
           {
            "aaxis": {
             "endlinecolor": "#2a3f5f",
             "gridcolor": "white",
             "linecolor": "white",
             "minorgridcolor": "white",
             "startlinecolor": "#2a3f5f"
            },
            "baxis": {
             "endlinecolor": "#2a3f5f",
             "gridcolor": "white",
             "linecolor": "white",
             "minorgridcolor": "white",
             "startlinecolor": "#2a3f5f"
            },
            "type": "carpet"
           }
          ],
          "choropleth": [
           {
            "colorbar": {
             "outlinewidth": 0,
             "ticks": ""
            },
            "type": "choropleth"
           }
          ],
          "contour": [
           {
            "colorbar": {
             "outlinewidth": 0,
             "ticks": ""
            },
            "colorscale": [
             [
              0,
              "#0d0887"
             ],
             [
              0.1111111111111111,
              "#46039f"
             ],
             [
              0.2222222222222222,
              "#7201a8"
             ],
             [
              0.3333333333333333,
              "#9c179e"
             ],
             [
              0.4444444444444444,
              "#bd3786"
             ],
             [
              0.5555555555555556,
              "#d8576b"
             ],
             [
              0.6666666666666666,
              "#ed7953"
             ],
             [
              0.7777777777777778,
              "#fb9f3a"
             ],
             [
              0.8888888888888888,
              "#fdca26"
             ],
             [
              1,
              "#f0f921"
             ]
            ],
            "type": "contour"
           }
          ],
          "contourcarpet": [
           {
            "colorbar": {
             "outlinewidth": 0,
             "ticks": ""
            },
            "type": "contourcarpet"
           }
          ],
          "heatmap": [
           {
            "colorbar": {
             "outlinewidth": 0,
             "ticks": ""
            },
            "colorscale": [
             [
              0,
              "#0d0887"
             ],
             [
              0.1111111111111111,
              "#46039f"
             ],
             [
              0.2222222222222222,
              "#7201a8"
             ],
             [
              0.3333333333333333,
              "#9c179e"
             ],
             [
              0.4444444444444444,
              "#bd3786"
             ],
             [
              0.5555555555555556,
              "#d8576b"
             ],
             [
              0.6666666666666666,
              "#ed7953"
             ],
             [
              0.7777777777777778,
              "#fb9f3a"
             ],
             [
              0.8888888888888888,
              "#fdca26"
             ],
             [
              1,
              "#f0f921"
             ]
            ],
            "type": "heatmap"
           }
          ],
          "heatmapgl": [
           {
            "colorbar": {
             "outlinewidth": 0,
             "ticks": ""
            },
            "colorscale": [
             [
              0,
              "#0d0887"
             ],
             [
              0.1111111111111111,
              "#46039f"
             ],
             [
              0.2222222222222222,
              "#7201a8"
             ],
             [
              0.3333333333333333,
              "#9c179e"
             ],
             [
              0.4444444444444444,
              "#bd3786"
             ],
             [
              0.5555555555555556,
              "#d8576b"
             ],
             [
              0.6666666666666666,
              "#ed7953"
             ],
             [
              0.7777777777777778,
              "#fb9f3a"
             ],
             [
              0.8888888888888888,
              "#fdca26"
             ],
             [
              1,
              "#f0f921"
             ]
            ],
            "type": "heatmapgl"
           }
          ],
          "histogram": [
           {
            "marker": {
             "pattern": {
              "fillmode": "overlay",
              "size": 10,
              "solidity": 0.2
             }
            },
            "type": "histogram"
           }
          ],
          "histogram2d": [
           {
            "colorbar": {
             "outlinewidth": 0,
             "ticks": ""
            },
            "colorscale": [
             [
              0,
              "#0d0887"
             ],
             [
              0.1111111111111111,
              "#46039f"
             ],
             [
              0.2222222222222222,
              "#7201a8"
             ],
             [
              0.3333333333333333,
              "#9c179e"
             ],
             [
              0.4444444444444444,
              "#bd3786"
             ],
             [
              0.5555555555555556,
              "#d8576b"
             ],
             [
              0.6666666666666666,
              "#ed7953"
             ],
             [
              0.7777777777777778,
              "#fb9f3a"
             ],
             [
              0.8888888888888888,
              "#fdca26"
             ],
             [
              1,
              "#f0f921"
             ]
            ],
            "type": "histogram2d"
           }
          ],
          "histogram2dcontour": [
           {
            "colorbar": {
             "outlinewidth": 0,
             "ticks": ""
            },
            "colorscale": [
             [
              0,
              "#0d0887"
             ],
             [
              0.1111111111111111,
              "#46039f"
             ],
             [
              0.2222222222222222,
              "#7201a8"
             ],
             [
              0.3333333333333333,
              "#9c179e"
             ],
             [
              0.4444444444444444,
              "#bd3786"
             ],
             [
              0.5555555555555556,
              "#d8576b"
             ],
             [
              0.6666666666666666,
              "#ed7953"
             ],
             [
              0.7777777777777778,
              "#fb9f3a"
             ],
             [
              0.8888888888888888,
              "#fdca26"
             ],
             [
              1,
              "#f0f921"
             ]
            ],
            "type": "histogram2dcontour"
           }
          ],
          "mesh3d": [
           {
            "colorbar": {
             "outlinewidth": 0,
             "ticks": ""
            },
            "type": "mesh3d"
           }
          ],
          "parcoords": [
           {
            "line": {
             "colorbar": {
              "outlinewidth": 0,
              "ticks": ""
             }
            },
            "type": "parcoords"
           }
          ],
          "pie": [
           {
            "automargin": true,
            "type": "pie"
           }
          ],
          "scatter": [
           {
            "fillpattern": {
             "fillmode": "overlay",
             "size": 10,
             "solidity": 0.2
            },
            "type": "scatter"
           }
          ],
          "scatter3d": [
           {
            "line": {
             "colorbar": {
              "outlinewidth": 0,
              "ticks": ""
             }
            },
            "marker": {
             "colorbar": {
              "outlinewidth": 0,
              "ticks": ""
             }
            },
            "type": "scatter3d"
           }
          ],
          "scattercarpet": [
           {
            "marker": {
             "colorbar": {
              "outlinewidth": 0,
              "ticks": ""
             }
            },
            "type": "scattercarpet"
           }
          ],
          "scattergeo": [
           {
            "marker": {
             "colorbar": {
              "outlinewidth": 0,
              "ticks": ""
             }
            },
            "type": "scattergeo"
           }
          ],
          "scattergl": [
           {
            "marker": {
             "colorbar": {
              "outlinewidth": 0,
              "ticks": ""
             }
            },
            "type": "scattergl"
           }
          ],
          "scattermapbox": [
           {
            "marker": {
             "colorbar": {
              "outlinewidth": 0,
              "ticks": ""
             }
            },
            "type": "scattermapbox"
           }
          ],
          "scatterpolar": [
           {
            "marker": {
             "colorbar": {
              "outlinewidth": 0,
              "ticks": ""
             }
            },
            "type": "scatterpolar"
           }
          ],
          "scatterpolargl": [
           {
            "marker": {
             "colorbar": {
              "outlinewidth": 0,
              "ticks": ""
             }
            },
            "type": "scatterpolargl"
           }
          ],
          "scatterternary": [
           {
            "marker": {
             "colorbar": {
              "outlinewidth": 0,
              "ticks": ""
             }
            },
            "type": "scatterternary"
           }
          ],
          "surface": [
           {
            "colorbar": {
             "outlinewidth": 0,
             "ticks": ""
            },
            "colorscale": [
             [
              0,
              "#0d0887"
             ],
             [
              0.1111111111111111,
              "#46039f"
             ],
             [
              0.2222222222222222,
              "#7201a8"
             ],
             [
              0.3333333333333333,
              "#9c179e"
             ],
             [
              0.4444444444444444,
              "#bd3786"
             ],
             [
              0.5555555555555556,
              "#d8576b"
             ],
             [
              0.6666666666666666,
              "#ed7953"
             ],
             [
              0.7777777777777778,
              "#fb9f3a"
             ],
             [
              0.8888888888888888,
              "#fdca26"
             ],
             [
              1,
              "#f0f921"
             ]
            ],
            "type": "surface"
           }
          ],
          "table": [
           {
            "cells": {
             "fill": {
              "color": "#EBF0F8"
             },
             "line": {
              "color": "white"
             }
            },
            "header": {
             "fill": {
              "color": "#C8D4E3"
             },
             "line": {
              "color": "white"
             }
            },
            "type": "table"
           }
          ]
         },
         "layout": {
          "annotationdefaults": {
           "arrowcolor": "#2a3f5f",
           "arrowhead": 0,
           "arrowwidth": 1
          },
          "autotypenumbers": "strict",
          "coloraxis": {
           "colorbar": {
            "outlinewidth": 0,
            "ticks": ""
           }
          },
          "colorscale": {
           "diverging": [
            [
             0,
             "#8e0152"
            ],
            [
             0.1,
             "#c51b7d"
            ],
            [
             0.2,
             "#de77ae"
            ],
            [
             0.3,
             "#f1b6da"
            ],
            [
             0.4,
             "#fde0ef"
            ],
            [
             0.5,
             "#f7f7f7"
            ],
            [
             0.6,
             "#e6f5d0"
            ],
            [
             0.7,
             "#b8e186"
            ],
            [
             0.8,
             "#7fbc41"
            ],
            [
             0.9,
             "#4d9221"
            ],
            [
             1,
             "#276419"
            ]
           ],
           "sequential": [
            [
             0,
             "#0d0887"
            ],
            [
             0.1111111111111111,
             "#46039f"
            ],
            [
             0.2222222222222222,
             "#7201a8"
            ],
            [
             0.3333333333333333,
             "#9c179e"
            ],
            [
             0.4444444444444444,
             "#bd3786"
            ],
            [
             0.5555555555555556,
             "#d8576b"
            ],
            [
             0.6666666666666666,
             "#ed7953"
            ],
            [
             0.7777777777777778,
             "#fb9f3a"
            ],
            [
             0.8888888888888888,
             "#fdca26"
            ],
            [
             1,
             "#f0f921"
            ]
           ],
           "sequentialminus": [
            [
             0,
             "#0d0887"
            ],
            [
             0.1111111111111111,
             "#46039f"
            ],
            [
             0.2222222222222222,
             "#7201a8"
            ],
            [
             0.3333333333333333,
             "#9c179e"
            ],
            [
             0.4444444444444444,
             "#bd3786"
            ],
            [
             0.5555555555555556,
             "#d8576b"
            ],
            [
             0.6666666666666666,
             "#ed7953"
            ],
            [
             0.7777777777777778,
             "#fb9f3a"
            ],
            [
             0.8888888888888888,
             "#fdca26"
            ],
            [
             1,
             "#f0f921"
            ]
           ]
          },
          "colorway": [
           "#636efa",
           "#EF553B",
           "#00cc96",
           "#ab63fa",
           "#FFA15A",
           "#19d3f3",
           "#FF6692",
           "#B6E880",
           "#FF97FF",
           "#FECB52"
          ],
          "font": {
           "color": "#2a3f5f"
          },
          "geo": {
           "bgcolor": "white",
           "lakecolor": "white",
           "landcolor": "#E5ECF6",
           "showlakes": true,
           "showland": true,
           "subunitcolor": "white"
          },
          "hoverlabel": {
           "align": "left"
          },
          "hovermode": "closest",
          "mapbox": {
           "style": "light"
          },
          "paper_bgcolor": "white",
          "plot_bgcolor": "#E5ECF6",
          "polar": {
           "angularaxis": {
            "gridcolor": "white",
            "linecolor": "white",
            "ticks": ""
           },
           "bgcolor": "#E5ECF6",
           "radialaxis": {
            "gridcolor": "white",
            "linecolor": "white",
            "ticks": ""
           }
          },
          "scene": {
           "xaxis": {
            "backgroundcolor": "#E5ECF6",
            "gridcolor": "white",
            "gridwidth": 2,
            "linecolor": "white",
            "showbackground": true,
            "ticks": "",
            "zerolinecolor": "white"
           },
           "yaxis": {
            "backgroundcolor": "#E5ECF6",
            "gridcolor": "white",
            "gridwidth": 2,
            "linecolor": "white",
            "showbackground": true,
            "ticks": "",
            "zerolinecolor": "white"
           },
           "zaxis": {
            "backgroundcolor": "#E5ECF6",
            "gridcolor": "white",
            "gridwidth": 2,
            "linecolor": "white",
            "showbackground": true,
            "ticks": "",
            "zerolinecolor": "white"
           }
          },
          "shapedefaults": {
           "line": {
            "color": "#2a3f5f"
           }
          },
          "ternary": {
           "aaxis": {
            "gridcolor": "white",
            "linecolor": "white",
            "ticks": ""
           },
           "baxis": {
            "gridcolor": "white",
            "linecolor": "white",
            "ticks": ""
           },
           "bgcolor": "#E5ECF6",
           "caxis": {
            "gridcolor": "white",
            "linecolor": "white",
            "ticks": ""
           }
          },
          "title": {
           "x": 0.05
          },
          "xaxis": {
           "automargin": true,
           "gridcolor": "white",
           "linecolor": "white",
           "ticks": "",
           "title": {
            "standoff": 15
           },
           "zerolinecolor": "white",
           "zerolinewidth": 2
          },
          "yaxis": {
           "automargin": true,
           "gridcolor": "white",
           "linecolor": "white",
           "ticks": "",
           "title": {
            "standoff": 15
           },
           "zerolinecolor": "white",
           "zerolinewidth": 2
          }
         }
        },
        "title": {
         "text": "Temperature Parameter Tuning"
        },
        "width": 800,
        "xaxis": {
         "title": {
          "text": "Temperature"
         }
        },
        "yaxis": {
         "title": {
          "text": "F1 Score (macro avg)"
         }
        }
       }
      }
     },
     "metadata": {},
     "output_type": "display_data"
    }
   ],
   "source": [
    "fig = go.Figure(data=[go.Scatter(\n",
    "    x=data[data[\"name\"]==name][\"temperature\"],\n",
    "    y=data[data[\"name\"]==name][\"scores\"],\n",
    "    mode='markers+lines',\n",
    "    name=name,\n",
    "    marker=dict(size=10)\n",
    ") for name in data[\"name\"].unique()])\n",
    "fig.update_layout(\n",
    "    xaxis_title=\"Temperature\",\n",
    "    yaxis_title=\"F1 Score (macro avg)\",\n",
    "    title=\"Temperature Parameter Tuning\",\n",
    "    legend_title=\"Parameter Set\",\n",
    "    width=800,\n",
    "    height=600\n",
    ")\n",
    "fig.show()"
   ]
  },
  {
   "cell_type": "code",
   "execution_count": 17,
   "metadata": {},
   "outputs": [],
   "source": [
    "data = pd.DataFrame({\n",
    "    \"batch_size\":[64,128,256,512,1024]*2,\n",
    "    \"scores\":[0.385, 0.390, 0.384, 0.383, 0.377]+[0.392, 0.395, 0.395, 0.398, 0.384],\n",
    "    \"name\":[\"temp=0.5\"]*5+[\"temp=0.5 &<br>layers=(256,128)\"]*5\n",
    "}).sort_values(\"batch_size\")"
   ]
  },
  {
   "cell_type": "code",
   "execution_count": 18,
   "metadata": {},
   "outputs": [
    {
     "data": {
      "application/vnd.plotly.v1+json": {
       "config": {
        "plotlyServerURL": "https://plot.ly"
       },
       "data": [
        {
         "marker": {
          "size": 10
         },
         "mode": "markers+lines",
         "name": "temp=0.5",
         "type": "scatter",
         "x": [
          64,
          128,
          256,
          512,
          1024
         ],
         "y": [
          0.385,
          0.39,
          0.384,
          0.383,
          0.377
         ]
        },
        {
         "marker": {
          "size": 10
         },
         "mode": "markers+lines",
         "name": "temp=0.5 &<br>layers=(256,128)",
         "type": "scatter",
         "x": [
          64,
          128,
          256,
          512,
          1024
         ],
         "y": [
          0.392,
          0.395,
          0.395,
          0.398,
          0.384
         ]
        }
       ],
       "layout": {
        "height": 600,
        "legend": {
         "title": {
          "text": "Parameter Set"
         }
        },
        "template": {
         "data": {
          "bar": [
           {
            "error_x": {
             "color": "#2a3f5f"
            },
            "error_y": {
             "color": "#2a3f5f"
            },
            "marker": {
             "line": {
              "color": "#E5ECF6",
              "width": 0.5
             },
             "pattern": {
              "fillmode": "overlay",
              "size": 10,
              "solidity": 0.2
             }
            },
            "type": "bar"
           }
          ],
          "barpolar": [
           {
            "marker": {
             "line": {
              "color": "#E5ECF6",
              "width": 0.5
             },
             "pattern": {
              "fillmode": "overlay",
              "size": 10,
              "solidity": 0.2
             }
            },
            "type": "barpolar"
           }
          ],
          "carpet": [
           {
            "aaxis": {
             "endlinecolor": "#2a3f5f",
             "gridcolor": "white",
             "linecolor": "white",
             "minorgridcolor": "white",
             "startlinecolor": "#2a3f5f"
            },
            "baxis": {
             "endlinecolor": "#2a3f5f",
             "gridcolor": "white",
             "linecolor": "white",
             "minorgridcolor": "white",
             "startlinecolor": "#2a3f5f"
            },
            "type": "carpet"
           }
          ],
          "choropleth": [
           {
            "colorbar": {
             "outlinewidth": 0,
             "ticks": ""
            },
            "type": "choropleth"
           }
          ],
          "contour": [
           {
            "colorbar": {
             "outlinewidth": 0,
             "ticks": ""
            },
            "colorscale": [
             [
              0,
              "#0d0887"
             ],
             [
              0.1111111111111111,
              "#46039f"
             ],
             [
              0.2222222222222222,
              "#7201a8"
             ],
             [
              0.3333333333333333,
              "#9c179e"
             ],
             [
              0.4444444444444444,
              "#bd3786"
             ],
             [
              0.5555555555555556,
              "#d8576b"
             ],
             [
              0.6666666666666666,
              "#ed7953"
             ],
             [
              0.7777777777777778,
              "#fb9f3a"
             ],
             [
              0.8888888888888888,
              "#fdca26"
             ],
             [
              1,
              "#f0f921"
             ]
            ],
            "type": "contour"
           }
          ],
          "contourcarpet": [
           {
            "colorbar": {
             "outlinewidth": 0,
             "ticks": ""
            },
            "type": "contourcarpet"
           }
          ],
          "heatmap": [
           {
            "colorbar": {
             "outlinewidth": 0,
             "ticks": ""
            },
            "colorscale": [
             [
              0,
              "#0d0887"
             ],
             [
              0.1111111111111111,
              "#46039f"
             ],
             [
              0.2222222222222222,
              "#7201a8"
             ],
             [
              0.3333333333333333,
              "#9c179e"
             ],
             [
              0.4444444444444444,
              "#bd3786"
             ],
             [
              0.5555555555555556,
              "#d8576b"
             ],
             [
              0.6666666666666666,
              "#ed7953"
             ],
             [
              0.7777777777777778,
              "#fb9f3a"
             ],
             [
              0.8888888888888888,
              "#fdca26"
             ],
             [
              1,
              "#f0f921"
             ]
            ],
            "type": "heatmap"
           }
          ],
          "heatmapgl": [
           {
            "colorbar": {
             "outlinewidth": 0,
             "ticks": ""
            },
            "colorscale": [
             [
              0,
              "#0d0887"
             ],
             [
              0.1111111111111111,
              "#46039f"
             ],
             [
              0.2222222222222222,
              "#7201a8"
             ],
             [
              0.3333333333333333,
              "#9c179e"
             ],
             [
              0.4444444444444444,
              "#bd3786"
             ],
             [
              0.5555555555555556,
              "#d8576b"
             ],
             [
              0.6666666666666666,
              "#ed7953"
             ],
             [
              0.7777777777777778,
              "#fb9f3a"
             ],
             [
              0.8888888888888888,
              "#fdca26"
             ],
             [
              1,
              "#f0f921"
             ]
            ],
            "type": "heatmapgl"
           }
          ],
          "histogram": [
           {
            "marker": {
             "pattern": {
              "fillmode": "overlay",
              "size": 10,
              "solidity": 0.2
             }
            },
            "type": "histogram"
           }
          ],
          "histogram2d": [
           {
            "colorbar": {
             "outlinewidth": 0,
             "ticks": ""
            },
            "colorscale": [
             [
              0,
              "#0d0887"
             ],
             [
              0.1111111111111111,
              "#46039f"
             ],
             [
              0.2222222222222222,
              "#7201a8"
             ],
             [
              0.3333333333333333,
              "#9c179e"
             ],
             [
              0.4444444444444444,
              "#bd3786"
             ],
             [
              0.5555555555555556,
              "#d8576b"
             ],
             [
              0.6666666666666666,
              "#ed7953"
             ],
             [
              0.7777777777777778,
              "#fb9f3a"
             ],
             [
              0.8888888888888888,
              "#fdca26"
             ],
             [
              1,
              "#f0f921"
             ]
            ],
            "type": "histogram2d"
           }
          ],
          "histogram2dcontour": [
           {
            "colorbar": {
             "outlinewidth": 0,
             "ticks": ""
            },
            "colorscale": [
             [
              0,
              "#0d0887"
             ],
             [
              0.1111111111111111,
              "#46039f"
             ],
             [
              0.2222222222222222,
              "#7201a8"
             ],
             [
              0.3333333333333333,
              "#9c179e"
             ],
             [
              0.4444444444444444,
              "#bd3786"
             ],
             [
              0.5555555555555556,
              "#d8576b"
             ],
             [
              0.6666666666666666,
              "#ed7953"
             ],
             [
              0.7777777777777778,
              "#fb9f3a"
             ],
             [
              0.8888888888888888,
              "#fdca26"
             ],
             [
              1,
              "#f0f921"
             ]
            ],
            "type": "histogram2dcontour"
           }
          ],
          "mesh3d": [
           {
            "colorbar": {
             "outlinewidth": 0,
             "ticks": ""
            },
            "type": "mesh3d"
           }
          ],
          "parcoords": [
           {
            "line": {
             "colorbar": {
              "outlinewidth": 0,
              "ticks": ""
             }
            },
            "type": "parcoords"
           }
          ],
          "pie": [
           {
            "automargin": true,
            "type": "pie"
           }
          ],
          "scatter": [
           {
            "fillpattern": {
             "fillmode": "overlay",
             "size": 10,
             "solidity": 0.2
            },
            "type": "scatter"
           }
          ],
          "scatter3d": [
           {
            "line": {
             "colorbar": {
              "outlinewidth": 0,
              "ticks": ""
             }
            },
            "marker": {
             "colorbar": {
              "outlinewidth": 0,
              "ticks": ""
             }
            },
            "type": "scatter3d"
           }
          ],
          "scattercarpet": [
           {
            "marker": {
             "colorbar": {
              "outlinewidth": 0,
              "ticks": ""
             }
            },
            "type": "scattercarpet"
           }
          ],
          "scattergeo": [
           {
            "marker": {
             "colorbar": {
              "outlinewidth": 0,
              "ticks": ""
             }
            },
            "type": "scattergeo"
           }
          ],
          "scattergl": [
           {
            "marker": {
             "colorbar": {
              "outlinewidth": 0,
              "ticks": ""
             }
            },
            "type": "scattergl"
           }
          ],
          "scattermapbox": [
           {
            "marker": {
             "colorbar": {
              "outlinewidth": 0,
              "ticks": ""
             }
            },
            "type": "scattermapbox"
           }
          ],
          "scatterpolar": [
           {
            "marker": {
             "colorbar": {
              "outlinewidth": 0,
              "ticks": ""
             }
            },
            "type": "scatterpolar"
           }
          ],
          "scatterpolargl": [
           {
            "marker": {
             "colorbar": {
              "outlinewidth": 0,
              "ticks": ""
             }
            },
            "type": "scatterpolargl"
           }
          ],
          "scatterternary": [
           {
            "marker": {
             "colorbar": {
              "outlinewidth": 0,
              "ticks": ""
             }
            },
            "type": "scatterternary"
           }
          ],
          "surface": [
           {
            "colorbar": {
             "outlinewidth": 0,
             "ticks": ""
            },
            "colorscale": [
             [
              0,
              "#0d0887"
             ],
             [
              0.1111111111111111,
              "#46039f"
             ],
             [
              0.2222222222222222,
              "#7201a8"
             ],
             [
              0.3333333333333333,
              "#9c179e"
             ],
             [
              0.4444444444444444,
              "#bd3786"
             ],
             [
              0.5555555555555556,
              "#d8576b"
             ],
             [
              0.6666666666666666,
              "#ed7953"
             ],
             [
              0.7777777777777778,
              "#fb9f3a"
             ],
             [
              0.8888888888888888,
              "#fdca26"
             ],
             [
              1,
              "#f0f921"
             ]
            ],
            "type": "surface"
           }
          ],
          "table": [
           {
            "cells": {
             "fill": {
              "color": "#EBF0F8"
             },
             "line": {
              "color": "white"
             }
            },
            "header": {
             "fill": {
              "color": "#C8D4E3"
             },
             "line": {
              "color": "white"
             }
            },
            "type": "table"
           }
          ]
         },
         "layout": {
          "annotationdefaults": {
           "arrowcolor": "#2a3f5f",
           "arrowhead": 0,
           "arrowwidth": 1
          },
          "autotypenumbers": "strict",
          "coloraxis": {
           "colorbar": {
            "outlinewidth": 0,
            "ticks": ""
           }
          },
          "colorscale": {
           "diverging": [
            [
             0,
             "#8e0152"
            ],
            [
             0.1,
             "#c51b7d"
            ],
            [
             0.2,
             "#de77ae"
            ],
            [
             0.3,
             "#f1b6da"
            ],
            [
             0.4,
             "#fde0ef"
            ],
            [
             0.5,
             "#f7f7f7"
            ],
            [
             0.6,
             "#e6f5d0"
            ],
            [
             0.7,
             "#b8e186"
            ],
            [
             0.8,
             "#7fbc41"
            ],
            [
             0.9,
             "#4d9221"
            ],
            [
             1,
             "#276419"
            ]
           ],
           "sequential": [
            [
             0,
             "#0d0887"
            ],
            [
             0.1111111111111111,
             "#46039f"
            ],
            [
             0.2222222222222222,
             "#7201a8"
            ],
            [
             0.3333333333333333,
             "#9c179e"
            ],
            [
             0.4444444444444444,
             "#bd3786"
            ],
            [
             0.5555555555555556,
             "#d8576b"
            ],
            [
             0.6666666666666666,
             "#ed7953"
            ],
            [
             0.7777777777777778,
             "#fb9f3a"
            ],
            [
             0.8888888888888888,
             "#fdca26"
            ],
            [
             1,
             "#f0f921"
            ]
           ],
           "sequentialminus": [
            [
             0,
             "#0d0887"
            ],
            [
             0.1111111111111111,
             "#46039f"
            ],
            [
             0.2222222222222222,
             "#7201a8"
            ],
            [
             0.3333333333333333,
             "#9c179e"
            ],
            [
             0.4444444444444444,
             "#bd3786"
            ],
            [
             0.5555555555555556,
             "#d8576b"
            ],
            [
             0.6666666666666666,
             "#ed7953"
            ],
            [
             0.7777777777777778,
             "#fb9f3a"
            ],
            [
             0.8888888888888888,
             "#fdca26"
            ],
            [
             1,
             "#f0f921"
            ]
           ]
          },
          "colorway": [
           "#636efa",
           "#EF553B",
           "#00cc96",
           "#ab63fa",
           "#FFA15A",
           "#19d3f3",
           "#FF6692",
           "#B6E880",
           "#FF97FF",
           "#FECB52"
          ],
          "font": {
           "color": "#2a3f5f"
          },
          "geo": {
           "bgcolor": "white",
           "lakecolor": "white",
           "landcolor": "#E5ECF6",
           "showlakes": true,
           "showland": true,
           "subunitcolor": "white"
          },
          "hoverlabel": {
           "align": "left"
          },
          "hovermode": "closest",
          "mapbox": {
           "style": "light"
          },
          "paper_bgcolor": "white",
          "plot_bgcolor": "#E5ECF6",
          "polar": {
           "angularaxis": {
            "gridcolor": "white",
            "linecolor": "white",
            "ticks": ""
           },
           "bgcolor": "#E5ECF6",
           "radialaxis": {
            "gridcolor": "white",
            "linecolor": "white",
            "ticks": ""
           }
          },
          "scene": {
           "xaxis": {
            "backgroundcolor": "#E5ECF6",
            "gridcolor": "white",
            "gridwidth": 2,
            "linecolor": "white",
            "showbackground": true,
            "ticks": "",
            "zerolinecolor": "white"
           },
           "yaxis": {
            "backgroundcolor": "#E5ECF6",
            "gridcolor": "white",
            "gridwidth": 2,
            "linecolor": "white",
            "showbackground": true,
            "ticks": "",
            "zerolinecolor": "white"
           },
           "zaxis": {
            "backgroundcolor": "#E5ECF6",
            "gridcolor": "white",
            "gridwidth": 2,
            "linecolor": "white",
            "showbackground": true,
            "ticks": "",
            "zerolinecolor": "white"
           }
          },
          "shapedefaults": {
           "line": {
            "color": "#2a3f5f"
           }
          },
          "ternary": {
           "aaxis": {
            "gridcolor": "white",
            "linecolor": "white",
            "ticks": ""
           },
           "baxis": {
            "gridcolor": "white",
            "linecolor": "white",
            "ticks": ""
           },
           "bgcolor": "#E5ECF6",
           "caxis": {
            "gridcolor": "white",
            "linecolor": "white",
            "ticks": ""
           }
          },
          "title": {
           "x": 0.05
          },
          "xaxis": {
           "automargin": true,
           "gridcolor": "white",
           "linecolor": "white",
           "ticks": "",
           "title": {
            "standoff": 15
           },
           "zerolinecolor": "white",
           "zerolinewidth": 2
          },
          "yaxis": {
           "automargin": true,
           "gridcolor": "white",
           "linecolor": "white",
           "ticks": "",
           "title": {
            "standoff": 15
           },
           "zerolinecolor": "white",
           "zerolinewidth": 2
          }
         }
        },
        "title": {
         "text": "Batch Size Tuning"
        },
        "width": 800,
        "xaxis": {
         "tickmode": "array",
         "tickvals": [
          64,
          128,
          256,
          512,
          1024
         ],
         "title": {
          "text": "Batch Size"
         },
         "type": "log"
        },
        "yaxis": {
         "title": {
          "text": "F1 Score (macro avg)"
         }
        }
       }
      }
     },
     "metadata": {},
     "output_type": "display_data"
    }
   ],
   "source": [
    "fig = go.Figure(data=[go.Scatter(\n",
    "    x=data[data[\"name\"]==name][\"batch_size\"],\n",
    "    y=data[data[\"name\"]==name][\"scores\"],\n",
    "    mode='markers+lines',\n",
    "    name=name,\n",
    "    marker=dict(size=10)\n",
    ") for name in data[\"name\"].unique()])\n",
    "fig.update_layout(\n",
    "    xaxis_title=\"Batch Size\",\n",
    "    yaxis_title=\"F1 Score (macro avg)\",\n",
    "    title=\"Batch Size Tuning\",\n",
    "    legend_title=\"Parameter Set\",\n",
    "    width=800,\n",
    "    height=600,\n",
    "    xaxis=dict(tickmode = 'array',tickvals = [64,128,256,512,1024])\n",
    ")\n",
    "fig.update_xaxes(type=\"log\")\n",
    "fig.show()"
   ]
  },
  {
   "cell_type": "code",
   "execution_count": 20,
   "metadata": {},
   "outputs": [],
   "source": [
    "data = pd.DataFrame({\n",
    "    \"emb_dim\":[16,32,64,128,256]*2,\n",
    "    \"scores\":[0.375, 0.362, 0.390, 0.381, 0.376]+[0.352, 0.376, 0.398, 0.397, 0.384],\n",
    "    \"name\":[\"temp=0.5 &<br>batch_size=128\"]*5+[\"temp=0.5 &<br>batch_size=512 &<br>layers=(256,128)\"]*5\n",
    "}).sort_values(\"emb_dim\")"
   ]
  },
  {
   "cell_type": "code",
   "execution_count": 21,
   "metadata": {},
   "outputs": [
    {
     "data": {
      "application/vnd.plotly.v1+json": {
       "config": {
        "plotlyServerURL": "https://plot.ly"
       },
       "data": [
        {
         "marker": {
          "size": 10
         },
         "mode": "markers+lines",
         "name": "temp=0.5 &<br>batch_size=128",
         "type": "scatter",
         "x": [
          16,
          32,
          64,
          128,
          256
         ],
         "y": [
          0.375,
          0.362,
          0.39,
          0.381,
          0.376
         ]
        },
        {
         "marker": {
          "size": 10
         },
         "mode": "markers+lines",
         "name": "temp=0.5 &<br>batch_size=512 &<br>layers=(256,128)",
         "type": "scatter",
         "x": [
          16,
          32,
          64,
          128,
          256
         ],
         "y": [
          0.352,
          0.376,
          0.398,
          0.397,
          0.384
         ]
        }
       ],
       "layout": {
        "height": 600,
        "legend": {
         "title": {
          "text": "Parameter Set"
         }
        },
        "template": {
         "data": {
          "bar": [
           {
            "error_x": {
             "color": "#2a3f5f"
            },
            "error_y": {
             "color": "#2a3f5f"
            },
            "marker": {
             "line": {
              "color": "#E5ECF6",
              "width": 0.5
             },
             "pattern": {
              "fillmode": "overlay",
              "size": 10,
              "solidity": 0.2
             }
            },
            "type": "bar"
           }
          ],
          "barpolar": [
           {
            "marker": {
             "line": {
              "color": "#E5ECF6",
              "width": 0.5
             },
             "pattern": {
              "fillmode": "overlay",
              "size": 10,
              "solidity": 0.2
             }
            },
            "type": "barpolar"
           }
          ],
          "carpet": [
           {
            "aaxis": {
             "endlinecolor": "#2a3f5f",
             "gridcolor": "white",
             "linecolor": "white",
             "minorgridcolor": "white",
             "startlinecolor": "#2a3f5f"
            },
            "baxis": {
             "endlinecolor": "#2a3f5f",
             "gridcolor": "white",
             "linecolor": "white",
             "minorgridcolor": "white",
             "startlinecolor": "#2a3f5f"
            },
            "type": "carpet"
           }
          ],
          "choropleth": [
           {
            "colorbar": {
             "outlinewidth": 0,
             "ticks": ""
            },
            "type": "choropleth"
           }
          ],
          "contour": [
           {
            "colorbar": {
             "outlinewidth": 0,
             "ticks": ""
            },
            "colorscale": [
             [
              0,
              "#0d0887"
             ],
             [
              0.1111111111111111,
              "#46039f"
             ],
             [
              0.2222222222222222,
              "#7201a8"
             ],
             [
              0.3333333333333333,
              "#9c179e"
             ],
             [
              0.4444444444444444,
              "#bd3786"
             ],
             [
              0.5555555555555556,
              "#d8576b"
             ],
             [
              0.6666666666666666,
              "#ed7953"
             ],
             [
              0.7777777777777778,
              "#fb9f3a"
             ],
             [
              0.8888888888888888,
              "#fdca26"
             ],
             [
              1,
              "#f0f921"
             ]
            ],
            "type": "contour"
           }
          ],
          "contourcarpet": [
           {
            "colorbar": {
             "outlinewidth": 0,
             "ticks": ""
            },
            "type": "contourcarpet"
           }
          ],
          "heatmap": [
           {
            "colorbar": {
             "outlinewidth": 0,
             "ticks": ""
            },
            "colorscale": [
             [
              0,
              "#0d0887"
             ],
             [
              0.1111111111111111,
              "#46039f"
             ],
             [
              0.2222222222222222,
              "#7201a8"
             ],
             [
              0.3333333333333333,
              "#9c179e"
             ],
             [
              0.4444444444444444,
              "#bd3786"
             ],
             [
              0.5555555555555556,
              "#d8576b"
             ],
             [
              0.6666666666666666,
              "#ed7953"
             ],
             [
              0.7777777777777778,
              "#fb9f3a"
             ],
             [
              0.8888888888888888,
              "#fdca26"
             ],
             [
              1,
              "#f0f921"
             ]
            ],
            "type": "heatmap"
           }
          ],
          "heatmapgl": [
           {
            "colorbar": {
             "outlinewidth": 0,
             "ticks": ""
            },
            "colorscale": [
             [
              0,
              "#0d0887"
             ],
             [
              0.1111111111111111,
              "#46039f"
             ],
             [
              0.2222222222222222,
              "#7201a8"
             ],
             [
              0.3333333333333333,
              "#9c179e"
             ],
             [
              0.4444444444444444,
              "#bd3786"
             ],
             [
              0.5555555555555556,
              "#d8576b"
             ],
             [
              0.6666666666666666,
              "#ed7953"
             ],
             [
              0.7777777777777778,
              "#fb9f3a"
             ],
             [
              0.8888888888888888,
              "#fdca26"
             ],
             [
              1,
              "#f0f921"
             ]
            ],
            "type": "heatmapgl"
           }
          ],
          "histogram": [
           {
            "marker": {
             "pattern": {
              "fillmode": "overlay",
              "size": 10,
              "solidity": 0.2
             }
            },
            "type": "histogram"
           }
          ],
          "histogram2d": [
           {
            "colorbar": {
             "outlinewidth": 0,
             "ticks": ""
            },
            "colorscale": [
             [
              0,
              "#0d0887"
             ],
             [
              0.1111111111111111,
              "#46039f"
             ],
             [
              0.2222222222222222,
              "#7201a8"
             ],
             [
              0.3333333333333333,
              "#9c179e"
             ],
             [
              0.4444444444444444,
              "#bd3786"
             ],
             [
              0.5555555555555556,
              "#d8576b"
             ],
             [
              0.6666666666666666,
              "#ed7953"
             ],
             [
              0.7777777777777778,
              "#fb9f3a"
             ],
             [
              0.8888888888888888,
              "#fdca26"
             ],
             [
              1,
              "#f0f921"
             ]
            ],
            "type": "histogram2d"
           }
          ],
          "histogram2dcontour": [
           {
            "colorbar": {
             "outlinewidth": 0,
             "ticks": ""
            },
            "colorscale": [
             [
              0,
              "#0d0887"
             ],
             [
              0.1111111111111111,
              "#46039f"
             ],
             [
              0.2222222222222222,
              "#7201a8"
             ],
             [
              0.3333333333333333,
              "#9c179e"
             ],
             [
              0.4444444444444444,
              "#bd3786"
             ],
             [
              0.5555555555555556,
              "#d8576b"
             ],
             [
              0.6666666666666666,
              "#ed7953"
             ],
             [
              0.7777777777777778,
              "#fb9f3a"
             ],
             [
              0.8888888888888888,
              "#fdca26"
             ],
             [
              1,
              "#f0f921"
             ]
            ],
            "type": "histogram2dcontour"
           }
          ],
          "mesh3d": [
           {
            "colorbar": {
             "outlinewidth": 0,
             "ticks": ""
            },
            "type": "mesh3d"
           }
          ],
          "parcoords": [
           {
            "line": {
             "colorbar": {
              "outlinewidth": 0,
              "ticks": ""
             }
            },
            "type": "parcoords"
           }
          ],
          "pie": [
           {
            "automargin": true,
            "type": "pie"
           }
          ],
          "scatter": [
           {
            "fillpattern": {
             "fillmode": "overlay",
             "size": 10,
             "solidity": 0.2
            },
            "type": "scatter"
           }
          ],
          "scatter3d": [
           {
            "line": {
             "colorbar": {
              "outlinewidth": 0,
              "ticks": ""
             }
            },
            "marker": {
             "colorbar": {
              "outlinewidth": 0,
              "ticks": ""
             }
            },
            "type": "scatter3d"
           }
          ],
          "scattercarpet": [
           {
            "marker": {
             "colorbar": {
              "outlinewidth": 0,
              "ticks": ""
             }
            },
            "type": "scattercarpet"
           }
          ],
          "scattergeo": [
           {
            "marker": {
             "colorbar": {
              "outlinewidth": 0,
              "ticks": ""
             }
            },
            "type": "scattergeo"
           }
          ],
          "scattergl": [
           {
            "marker": {
             "colorbar": {
              "outlinewidth": 0,
              "ticks": ""
             }
            },
            "type": "scattergl"
           }
          ],
          "scattermapbox": [
           {
            "marker": {
             "colorbar": {
              "outlinewidth": 0,
              "ticks": ""
             }
            },
            "type": "scattermapbox"
           }
          ],
          "scatterpolar": [
           {
            "marker": {
             "colorbar": {
              "outlinewidth": 0,
              "ticks": ""
             }
            },
            "type": "scatterpolar"
           }
          ],
          "scatterpolargl": [
           {
            "marker": {
             "colorbar": {
              "outlinewidth": 0,
              "ticks": ""
             }
            },
            "type": "scatterpolargl"
           }
          ],
          "scatterternary": [
           {
            "marker": {
             "colorbar": {
              "outlinewidth": 0,
              "ticks": ""
             }
            },
            "type": "scatterternary"
           }
          ],
          "surface": [
           {
            "colorbar": {
             "outlinewidth": 0,
             "ticks": ""
            },
            "colorscale": [
             [
              0,
              "#0d0887"
             ],
             [
              0.1111111111111111,
              "#46039f"
             ],
             [
              0.2222222222222222,
              "#7201a8"
             ],
             [
              0.3333333333333333,
              "#9c179e"
             ],
             [
              0.4444444444444444,
              "#bd3786"
             ],
             [
              0.5555555555555556,
              "#d8576b"
             ],
             [
              0.6666666666666666,
              "#ed7953"
             ],
             [
              0.7777777777777778,
              "#fb9f3a"
             ],
             [
              0.8888888888888888,
              "#fdca26"
             ],
             [
              1,
              "#f0f921"
             ]
            ],
            "type": "surface"
           }
          ],
          "table": [
           {
            "cells": {
             "fill": {
              "color": "#EBF0F8"
             },
             "line": {
              "color": "white"
             }
            },
            "header": {
             "fill": {
              "color": "#C8D4E3"
             },
             "line": {
              "color": "white"
             }
            },
            "type": "table"
           }
          ]
         },
         "layout": {
          "annotationdefaults": {
           "arrowcolor": "#2a3f5f",
           "arrowhead": 0,
           "arrowwidth": 1
          },
          "autotypenumbers": "strict",
          "coloraxis": {
           "colorbar": {
            "outlinewidth": 0,
            "ticks": ""
           }
          },
          "colorscale": {
           "diverging": [
            [
             0,
             "#8e0152"
            ],
            [
             0.1,
             "#c51b7d"
            ],
            [
             0.2,
             "#de77ae"
            ],
            [
             0.3,
             "#f1b6da"
            ],
            [
             0.4,
             "#fde0ef"
            ],
            [
             0.5,
             "#f7f7f7"
            ],
            [
             0.6,
             "#e6f5d0"
            ],
            [
             0.7,
             "#b8e186"
            ],
            [
             0.8,
             "#7fbc41"
            ],
            [
             0.9,
             "#4d9221"
            ],
            [
             1,
             "#276419"
            ]
           ],
           "sequential": [
            [
             0,
             "#0d0887"
            ],
            [
             0.1111111111111111,
             "#46039f"
            ],
            [
             0.2222222222222222,
             "#7201a8"
            ],
            [
             0.3333333333333333,
             "#9c179e"
            ],
            [
             0.4444444444444444,
             "#bd3786"
            ],
            [
             0.5555555555555556,
             "#d8576b"
            ],
            [
             0.6666666666666666,
             "#ed7953"
            ],
            [
             0.7777777777777778,
             "#fb9f3a"
            ],
            [
             0.8888888888888888,
             "#fdca26"
            ],
            [
             1,
             "#f0f921"
            ]
           ],
           "sequentialminus": [
            [
             0,
             "#0d0887"
            ],
            [
             0.1111111111111111,
             "#46039f"
            ],
            [
             0.2222222222222222,
             "#7201a8"
            ],
            [
             0.3333333333333333,
             "#9c179e"
            ],
            [
             0.4444444444444444,
             "#bd3786"
            ],
            [
             0.5555555555555556,
             "#d8576b"
            ],
            [
             0.6666666666666666,
             "#ed7953"
            ],
            [
             0.7777777777777778,
             "#fb9f3a"
            ],
            [
             0.8888888888888888,
             "#fdca26"
            ],
            [
             1,
             "#f0f921"
            ]
           ]
          },
          "colorway": [
           "#636efa",
           "#EF553B",
           "#00cc96",
           "#ab63fa",
           "#FFA15A",
           "#19d3f3",
           "#FF6692",
           "#B6E880",
           "#FF97FF",
           "#FECB52"
          ],
          "font": {
           "color": "#2a3f5f"
          },
          "geo": {
           "bgcolor": "white",
           "lakecolor": "white",
           "landcolor": "#E5ECF6",
           "showlakes": true,
           "showland": true,
           "subunitcolor": "white"
          },
          "hoverlabel": {
           "align": "left"
          },
          "hovermode": "closest",
          "mapbox": {
           "style": "light"
          },
          "paper_bgcolor": "white",
          "plot_bgcolor": "#E5ECF6",
          "polar": {
           "angularaxis": {
            "gridcolor": "white",
            "linecolor": "white",
            "ticks": ""
           },
           "bgcolor": "#E5ECF6",
           "radialaxis": {
            "gridcolor": "white",
            "linecolor": "white",
            "ticks": ""
           }
          },
          "scene": {
           "xaxis": {
            "backgroundcolor": "#E5ECF6",
            "gridcolor": "white",
            "gridwidth": 2,
            "linecolor": "white",
            "showbackground": true,
            "ticks": "",
            "zerolinecolor": "white"
           },
           "yaxis": {
            "backgroundcolor": "#E5ECF6",
            "gridcolor": "white",
            "gridwidth": 2,
            "linecolor": "white",
            "showbackground": true,
            "ticks": "",
            "zerolinecolor": "white"
           },
           "zaxis": {
            "backgroundcolor": "#E5ECF6",
            "gridcolor": "white",
            "gridwidth": 2,
            "linecolor": "white",
            "showbackground": true,
            "ticks": "",
            "zerolinecolor": "white"
           }
          },
          "shapedefaults": {
           "line": {
            "color": "#2a3f5f"
           }
          },
          "ternary": {
           "aaxis": {
            "gridcolor": "white",
            "linecolor": "white",
            "ticks": ""
           },
           "baxis": {
            "gridcolor": "white",
            "linecolor": "white",
            "ticks": ""
           },
           "bgcolor": "#E5ECF6",
           "caxis": {
            "gridcolor": "white",
            "linecolor": "white",
            "ticks": ""
           }
          },
          "title": {
           "x": 0.05
          },
          "xaxis": {
           "automargin": true,
           "gridcolor": "white",
           "linecolor": "white",
           "ticks": "",
           "title": {
            "standoff": 15
           },
           "zerolinecolor": "white",
           "zerolinewidth": 2
          },
          "yaxis": {
           "automargin": true,
           "gridcolor": "white",
           "linecolor": "white",
           "ticks": "",
           "title": {
            "standoff": 15
           },
           "zerolinecolor": "white",
           "zerolinewidth": 2
          }
         }
        },
        "title": {
         "text": "Tuning of Embedding Dimensionality"
        },
        "width": 800,
        "xaxis": {
         "tickmode": "array",
         "tickvals": [
          16,
          32,
          64,
          128,
          256,
          512,
          1024
         ],
         "title": {
          "text": "Embedding Dimensionality"
         },
         "type": "log"
        },
        "yaxis": {
         "title": {
          "text": "F1 Score (macro avg)"
         }
        }
       }
      }
     },
     "metadata": {},
     "output_type": "display_data"
    }
   ],
   "source": [
    "fig = go.Figure(data=[go.Scatter(\n",
    "    x=data[data[\"name\"]==name][\"emb_dim\"],\n",
    "    y=data[data[\"name\"]==name][\"scores\"],\n",
    "    mode='markers+lines',\n",
    "    name=name,\n",
    "    marker=dict(size=10)\n",
    ") for name in data[\"name\"].unique()])\n",
    "fig.update_layout(\n",
    "    xaxis_title=\"Embedding Dimensionality\",\n",
    "    yaxis_title=\"F1 Score (macro avg)\",\n",
    "    title=\"Tuning of Embedding Dimensionality\",\n",
    "    legend_title=\"Parameter Set\",\n",
    "    width=800,\n",
    "    height=600,\n",
    "    xaxis=dict(tickmode = 'array',tickvals = [16,32,64,128,256,512,1024])\n",
    ")\n",
    "fig.update_xaxes(type=\"log\")\n",
    "fig.show()"
   ]
  },
  {
   "cell_type": "code",
   "execution_count": 24,
   "metadata": {},
   "outputs": [],
   "source": [
    "data = pd.DataFrame({\n",
    "    \"hidden\":[\"(512, 256)\",\"(256, 256)\",\"(256, 128)\",\"(128, 128)\",\"(128, 64)\",\"(256, 256, 256)\",\"(128, 128, 128)\",\"(256, 128, 64)\"]*2,\n",
    "    \"scores\":[0.390, 0.388, 0.395, 0.390, 0.389, 0.351, 0.379, 0.366]+[0.387, 0.379, 0.398, 0.383, 0.397, 0.381, 0.380, 0.382],\n",
    "    \"name\":[\"temp=0.5 &<br>batch_size=128\"]*8+[\"temp=0.5 &<br>batch_size=512\"]*8\n",
    "})"
   ]
  },
  {
   "cell_type": "code",
   "execution_count": 30,
   "metadata": {},
   "outputs": [
    {
     "data": {
      "application/vnd.plotly.v1+json": {
       "config": {
        "plotlyServerURL": "https://plot.ly"
       },
       "data": [
        {
         "name": "temp=0.5 &<br>batch_size=128",
         "text": [
          0.39,
          0.388,
          0.395,
          0.39,
          0.389,
          0.351,
          0.379,
          0.366
         ],
         "type": "bar",
         "x": [
          "(512, 256)",
          "(256, 256)",
          "(256, 128)",
          "(128, 128)",
          "(128, 64)",
          "(256, 256, 256)",
          "(128, 128, 128)",
          "(256, 128, 64)"
         ],
         "y": [
          0.39,
          0.388,
          0.395,
          0.39,
          0.389,
          0.351,
          0.379,
          0.366
         ]
        },
        {
         "name": "temp=0.5 &<br>batch_size=512",
         "text": [
          0.387,
          0.379,
          0.398,
          0.383,
          0.397,
          0.381,
          0.38,
          0.382
         ],
         "type": "bar",
         "x": [
          "(512, 256)",
          "(256, 256)",
          "(256, 128)",
          "(128, 128)",
          "(128, 64)",
          "(256, 256, 256)",
          "(128, 128, 128)",
          "(256, 128, 64)"
         ],
         "y": [
          0.387,
          0.379,
          0.398,
          0.383,
          0.397,
          0.381,
          0.38,
          0.382
         ]
        }
       ],
       "layout": {
        "height": 600,
        "legend": {
         "title": {
          "text": "Parameter Set"
         }
        },
        "showlegend": true,
        "template": {
         "data": {
          "bar": [
           {
            "error_x": {
             "color": "#2a3f5f"
            },
            "error_y": {
             "color": "#2a3f5f"
            },
            "marker": {
             "line": {
              "color": "#E5ECF6",
              "width": 0.5
             },
             "pattern": {
              "fillmode": "overlay",
              "size": 10,
              "solidity": 0.2
             }
            },
            "type": "bar"
           }
          ],
          "barpolar": [
           {
            "marker": {
             "line": {
              "color": "#E5ECF6",
              "width": 0.5
             },
             "pattern": {
              "fillmode": "overlay",
              "size": 10,
              "solidity": 0.2
             }
            },
            "type": "barpolar"
           }
          ],
          "carpet": [
           {
            "aaxis": {
             "endlinecolor": "#2a3f5f",
             "gridcolor": "white",
             "linecolor": "white",
             "minorgridcolor": "white",
             "startlinecolor": "#2a3f5f"
            },
            "baxis": {
             "endlinecolor": "#2a3f5f",
             "gridcolor": "white",
             "linecolor": "white",
             "minorgridcolor": "white",
             "startlinecolor": "#2a3f5f"
            },
            "type": "carpet"
           }
          ],
          "choropleth": [
           {
            "colorbar": {
             "outlinewidth": 0,
             "ticks": ""
            },
            "type": "choropleth"
           }
          ],
          "contour": [
           {
            "colorbar": {
             "outlinewidth": 0,
             "ticks": ""
            },
            "colorscale": [
             [
              0,
              "#0d0887"
             ],
             [
              0.1111111111111111,
              "#46039f"
             ],
             [
              0.2222222222222222,
              "#7201a8"
             ],
             [
              0.3333333333333333,
              "#9c179e"
             ],
             [
              0.4444444444444444,
              "#bd3786"
             ],
             [
              0.5555555555555556,
              "#d8576b"
             ],
             [
              0.6666666666666666,
              "#ed7953"
             ],
             [
              0.7777777777777778,
              "#fb9f3a"
             ],
             [
              0.8888888888888888,
              "#fdca26"
             ],
             [
              1,
              "#f0f921"
             ]
            ],
            "type": "contour"
           }
          ],
          "contourcarpet": [
           {
            "colorbar": {
             "outlinewidth": 0,
             "ticks": ""
            },
            "type": "contourcarpet"
           }
          ],
          "heatmap": [
           {
            "colorbar": {
             "outlinewidth": 0,
             "ticks": ""
            },
            "colorscale": [
             [
              0,
              "#0d0887"
             ],
             [
              0.1111111111111111,
              "#46039f"
             ],
             [
              0.2222222222222222,
              "#7201a8"
             ],
             [
              0.3333333333333333,
              "#9c179e"
             ],
             [
              0.4444444444444444,
              "#bd3786"
             ],
             [
              0.5555555555555556,
              "#d8576b"
             ],
             [
              0.6666666666666666,
              "#ed7953"
             ],
             [
              0.7777777777777778,
              "#fb9f3a"
             ],
             [
              0.8888888888888888,
              "#fdca26"
             ],
             [
              1,
              "#f0f921"
             ]
            ],
            "type": "heatmap"
           }
          ],
          "heatmapgl": [
           {
            "colorbar": {
             "outlinewidth": 0,
             "ticks": ""
            },
            "colorscale": [
             [
              0,
              "#0d0887"
             ],
             [
              0.1111111111111111,
              "#46039f"
             ],
             [
              0.2222222222222222,
              "#7201a8"
             ],
             [
              0.3333333333333333,
              "#9c179e"
             ],
             [
              0.4444444444444444,
              "#bd3786"
             ],
             [
              0.5555555555555556,
              "#d8576b"
             ],
             [
              0.6666666666666666,
              "#ed7953"
             ],
             [
              0.7777777777777778,
              "#fb9f3a"
             ],
             [
              0.8888888888888888,
              "#fdca26"
             ],
             [
              1,
              "#f0f921"
             ]
            ],
            "type": "heatmapgl"
           }
          ],
          "histogram": [
           {
            "marker": {
             "pattern": {
              "fillmode": "overlay",
              "size": 10,
              "solidity": 0.2
             }
            },
            "type": "histogram"
           }
          ],
          "histogram2d": [
           {
            "colorbar": {
             "outlinewidth": 0,
             "ticks": ""
            },
            "colorscale": [
             [
              0,
              "#0d0887"
             ],
             [
              0.1111111111111111,
              "#46039f"
             ],
             [
              0.2222222222222222,
              "#7201a8"
             ],
             [
              0.3333333333333333,
              "#9c179e"
             ],
             [
              0.4444444444444444,
              "#bd3786"
             ],
             [
              0.5555555555555556,
              "#d8576b"
             ],
             [
              0.6666666666666666,
              "#ed7953"
             ],
             [
              0.7777777777777778,
              "#fb9f3a"
             ],
             [
              0.8888888888888888,
              "#fdca26"
             ],
             [
              1,
              "#f0f921"
             ]
            ],
            "type": "histogram2d"
           }
          ],
          "histogram2dcontour": [
           {
            "colorbar": {
             "outlinewidth": 0,
             "ticks": ""
            },
            "colorscale": [
             [
              0,
              "#0d0887"
             ],
             [
              0.1111111111111111,
              "#46039f"
             ],
             [
              0.2222222222222222,
              "#7201a8"
             ],
             [
              0.3333333333333333,
              "#9c179e"
             ],
             [
              0.4444444444444444,
              "#bd3786"
             ],
             [
              0.5555555555555556,
              "#d8576b"
             ],
             [
              0.6666666666666666,
              "#ed7953"
             ],
             [
              0.7777777777777778,
              "#fb9f3a"
             ],
             [
              0.8888888888888888,
              "#fdca26"
             ],
             [
              1,
              "#f0f921"
             ]
            ],
            "type": "histogram2dcontour"
           }
          ],
          "mesh3d": [
           {
            "colorbar": {
             "outlinewidth": 0,
             "ticks": ""
            },
            "type": "mesh3d"
           }
          ],
          "parcoords": [
           {
            "line": {
             "colorbar": {
              "outlinewidth": 0,
              "ticks": ""
             }
            },
            "type": "parcoords"
           }
          ],
          "pie": [
           {
            "automargin": true,
            "type": "pie"
           }
          ],
          "scatter": [
           {
            "fillpattern": {
             "fillmode": "overlay",
             "size": 10,
             "solidity": 0.2
            },
            "type": "scatter"
           }
          ],
          "scatter3d": [
           {
            "line": {
             "colorbar": {
              "outlinewidth": 0,
              "ticks": ""
             }
            },
            "marker": {
             "colorbar": {
              "outlinewidth": 0,
              "ticks": ""
             }
            },
            "type": "scatter3d"
           }
          ],
          "scattercarpet": [
           {
            "marker": {
             "colorbar": {
              "outlinewidth": 0,
              "ticks": ""
             }
            },
            "type": "scattercarpet"
           }
          ],
          "scattergeo": [
           {
            "marker": {
             "colorbar": {
              "outlinewidth": 0,
              "ticks": ""
             }
            },
            "type": "scattergeo"
           }
          ],
          "scattergl": [
           {
            "marker": {
             "colorbar": {
              "outlinewidth": 0,
              "ticks": ""
             }
            },
            "type": "scattergl"
           }
          ],
          "scattermapbox": [
           {
            "marker": {
             "colorbar": {
              "outlinewidth": 0,
              "ticks": ""
             }
            },
            "type": "scattermapbox"
           }
          ],
          "scatterpolar": [
           {
            "marker": {
             "colorbar": {
              "outlinewidth": 0,
              "ticks": ""
             }
            },
            "type": "scatterpolar"
           }
          ],
          "scatterpolargl": [
           {
            "marker": {
             "colorbar": {
              "outlinewidth": 0,
              "ticks": ""
             }
            },
            "type": "scatterpolargl"
           }
          ],
          "scatterternary": [
           {
            "marker": {
             "colorbar": {
              "outlinewidth": 0,
              "ticks": ""
             }
            },
            "type": "scatterternary"
           }
          ],
          "surface": [
           {
            "colorbar": {
             "outlinewidth": 0,
             "ticks": ""
            },
            "colorscale": [
             [
              0,
              "#0d0887"
             ],
             [
              0.1111111111111111,
              "#46039f"
             ],
             [
              0.2222222222222222,
              "#7201a8"
             ],
             [
              0.3333333333333333,
              "#9c179e"
             ],
             [
              0.4444444444444444,
              "#bd3786"
             ],
             [
              0.5555555555555556,
              "#d8576b"
             ],
             [
              0.6666666666666666,
              "#ed7953"
             ],
             [
              0.7777777777777778,
              "#fb9f3a"
             ],
             [
              0.8888888888888888,
              "#fdca26"
             ],
             [
              1,
              "#f0f921"
             ]
            ],
            "type": "surface"
           }
          ],
          "table": [
           {
            "cells": {
             "fill": {
              "color": "#EBF0F8"
             },
             "line": {
              "color": "white"
             }
            },
            "header": {
             "fill": {
              "color": "#C8D4E3"
             },
             "line": {
              "color": "white"
             }
            },
            "type": "table"
           }
          ]
         },
         "layout": {
          "annotationdefaults": {
           "arrowcolor": "#2a3f5f",
           "arrowhead": 0,
           "arrowwidth": 1
          },
          "autotypenumbers": "strict",
          "coloraxis": {
           "colorbar": {
            "outlinewidth": 0,
            "ticks": ""
           }
          },
          "colorscale": {
           "diverging": [
            [
             0,
             "#8e0152"
            ],
            [
             0.1,
             "#c51b7d"
            ],
            [
             0.2,
             "#de77ae"
            ],
            [
             0.3,
             "#f1b6da"
            ],
            [
             0.4,
             "#fde0ef"
            ],
            [
             0.5,
             "#f7f7f7"
            ],
            [
             0.6,
             "#e6f5d0"
            ],
            [
             0.7,
             "#b8e186"
            ],
            [
             0.8,
             "#7fbc41"
            ],
            [
             0.9,
             "#4d9221"
            ],
            [
             1,
             "#276419"
            ]
           ],
           "sequential": [
            [
             0,
             "#0d0887"
            ],
            [
             0.1111111111111111,
             "#46039f"
            ],
            [
             0.2222222222222222,
             "#7201a8"
            ],
            [
             0.3333333333333333,
             "#9c179e"
            ],
            [
             0.4444444444444444,
             "#bd3786"
            ],
            [
             0.5555555555555556,
             "#d8576b"
            ],
            [
             0.6666666666666666,
             "#ed7953"
            ],
            [
             0.7777777777777778,
             "#fb9f3a"
            ],
            [
             0.8888888888888888,
             "#fdca26"
            ],
            [
             1,
             "#f0f921"
            ]
           ],
           "sequentialminus": [
            [
             0,
             "#0d0887"
            ],
            [
             0.1111111111111111,
             "#46039f"
            ],
            [
             0.2222222222222222,
             "#7201a8"
            ],
            [
             0.3333333333333333,
             "#9c179e"
            ],
            [
             0.4444444444444444,
             "#bd3786"
            ],
            [
             0.5555555555555556,
             "#d8576b"
            ],
            [
             0.6666666666666666,
             "#ed7953"
            ],
            [
             0.7777777777777778,
             "#fb9f3a"
            ],
            [
             0.8888888888888888,
             "#fdca26"
            ],
            [
             1,
             "#f0f921"
            ]
           ]
          },
          "colorway": [
           "#636efa",
           "#EF553B",
           "#00cc96",
           "#ab63fa",
           "#FFA15A",
           "#19d3f3",
           "#FF6692",
           "#B6E880",
           "#FF97FF",
           "#FECB52"
          ],
          "font": {
           "color": "#2a3f5f"
          },
          "geo": {
           "bgcolor": "white",
           "lakecolor": "white",
           "landcolor": "#E5ECF6",
           "showlakes": true,
           "showland": true,
           "subunitcolor": "white"
          },
          "hoverlabel": {
           "align": "left"
          },
          "hovermode": "closest",
          "mapbox": {
           "style": "light"
          },
          "paper_bgcolor": "white",
          "plot_bgcolor": "#E5ECF6",
          "polar": {
           "angularaxis": {
            "gridcolor": "white",
            "linecolor": "white",
            "ticks": ""
           },
           "bgcolor": "#E5ECF6",
           "radialaxis": {
            "gridcolor": "white",
            "linecolor": "white",
            "ticks": ""
           }
          },
          "scene": {
           "xaxis": {
            "backgroundcolor": "#E5ECF6",
            "gridcolor": "white",
            "gridwidth": 2,
            "linecolor": "white",
            "showbackground": true,
            "ticks": "",
            "zerolinecolor": "white"
           },
           "yaxis": {
            "backgroundcolor": "#E5ECF6",
            "gridcolor": "white",
            "gridwidth": 2,
            "linecolor": "white",
            "showbackground": true,
            "ticks": "",
            "zerolinecolor": "white"
           },
           "zaxis": {
            "backgroundcolor": "#E5ECF6",
            "gridcolor": "white",
            "gridwidth": 2,
            "linecolor": "white",
            "showbackground": true,
            "ticks": "",
            "zerolinecolor": "white"
           }
          },
          "shapedefaults": {
           "line": {
            "color": "#2a3f5f"
           }
          },
          "ternary": {
           "aaxis": {
            "gridcolor": "white",
            "linecolor": "white",
            "ticks": ""
           },
           "baxis": {
            "gridcolor": "white",
            "linecolor": "white",
            "ticks": ""
           },
           "bgcolor": "#E5ECF6",
           "caxis": {
            "gridcolor": "white",
            "linecolor": "white",
            "ticks": ""
           }
          },
          "title": {
           "x": 0.05
          },
          "xaxis": {
           "automargin": true,
           "gridcolor": "white",
           "linecolor": "white",
           "ticks": "",
           "title": {
            "standoff": 15
           },
           "zerolinecolor": "white",
           "zerolinewidth": 2
          },
          "yaxis": {
           "automargin": true,
           "gridcolor": "white",
           "linecolor": "white",
           "ticks": "",
           "title": {
            "standoff": 15
           },
           "zerolinecolor": "white",
           "zerolinewidth": 2
          }
         }
        },
        "title": {
         "text": "Encoder Architecture Tuning"
        },
        "width": 800,
        "xaxis": {
         "title": {
          "text": "Hidden Layers"
         }
        },
        "yaxis": {
         "range": [
          0.34,
          0.4
         ],
         "title": {
          "text": "F1 Score (macro avg)"
         }
        }
       }
      }
     },
     "metadata": {},
     "output_type": "display_data"
    }
   ],
   "source": [
    "fig = go.Figure(data=[go.Bar(\n",
    "    x=data[data[\"name\"]==name][\"hidden\"],\n",
    "    y=data[data[\"name\"]==name][\"scores\"],\n",
    "    text=data[data[\"name\"]==name][\"scores\"],\n",
    "    name=name,\n",
    ") for name in data[\"name\"].unique()])\n",
    "fig.update_layout(\n",
    "    xaxis_title=\"Hidden Layers\",\n",
    "    yaxis_title=\"F1 Score (macro avg)\",\n",
    "    title=\"Encoder Architecture Tuning\",\n",
    "    legend_title=\"Parameter Set\",\n",
    "    width=800,\n",
    "    height=600,\n",
    "    showlegend=True,\n",
    "    yaxis_range=[0.34,0.4]\n",
    ")\n",
    "fig.show()"
   ]
  },
  {
   "cell_type": "code",
   "execution_count": 31,
   "metadata": {},
   "outputs": [],
   "source": [
    "data = pd.DataFrame({\n",
    "    \"lr\":[1e-2,1e-3,1e-4],\n",
    "    \"scores\":[0.354,0.398,0.283],\n",
    "    \"name\":[\"temp=0.5 &<br>batch_size=512 &<br>layers=(256,128)\"]*3\n",
    "}).sort_values(\"lr\")"
   ]
  },
  {
   "cell_type": "code",
   "execution_count": 32,
   "metadata": {},
   "outputs": [
    {
     "data": {
      "application/vnd.plotly.v1+json": {
       "config": {
        "plotlyServerURL": "https://plot.ly"
       },
       "data": [
        {
         "marker": {
          "size": 10
         },
         "mode": "markers+lines",
         "name": "temp=0.5 &<br>batch_size=512 &<br>layers=(256,128)",
         "type": "scatter",
         "x": [
          0.0001,
          0.001,
          0.01
         ],
         "y": [
          0.283,
          0.398,
          0.354
         ]
        }
       ],
       "layout": {
        "height": 600,
        "legend": {
         "title": {
          "text": "Parameter Set"
         }
        },
        "showlegend": true,
        "template": {
         "data": {
          "bar": [
           {
            "error_x": {
             "color": "#2a3f5f"
            },
            "error_y": {
             "color": "#2a3f5f"
            },
            "marker": {
             "line": {
              "color": "#E5ECF6",
              "width": 0.5
             },
             "pattern": {
              "fillmode": "overlay",
              "size": 10,
              "solidity": 0.2
             }
            },
            "type": "bar"
           }
          ],
          "barpolar": [
           {
            "marker": {
             "line": {
              "color": "#E5ECF6",
              "width": 0.5
             },
             "pattern": {
              "fillmode": "overlay",
              "size": 10,
              "solidity": 0.2
             }
            },
            "type": "barpolar"
           }
          ],
          "carpet": [
           {
            "aaxis": {
             "endlinecolor": "#2a3f5f",
             "gridcolor": "white",
             "linecolor": "white",
             "minorgridcolor": "white",
             "startlinecolor": "#2a3f5f"
            },
            "baxis": {
             "endlinecolor": "#2a3f5f",
             "gridcolor": "white",
             "linecolor": "white",
             "minorgridcolor": "white",
             "startlinecolor": "#2a3f5f"
            },
            "type": "carpet"
           }
          ],
          "choropleth": [
           {
            "colorbar": {
             "outlinewidth": 0,
             "ticks": ""
            },
            "type": "choropleth"
           }
          ],
          "contour": [
           {
            "colorbar": {
             "outlinewidth": 0,
             "ticks": ""
            },
            "colorscale": [
             [
              0,
              "#0d0887"
             ],
             [
              0.1111111111111111,
              "#46039f"
             ],
             [
              0.2222222222222222,
              "#7201a8"
             ],
             [
              0.3333333333333333,
              "#9c179e"
             ],
             [
              0.4444444444444444,
              "#bd3786"
             ],
             [
              0.5555555555555556,
              "#d8576b"
             ],
             [
              0.6666666666666666,
              "#ed7953"
             ],
             [
              0.7777777777777778,
              "#fb9f3a"
             ],
             [
              0.8888888888888888,
              "#fdca26"
             ],
             [
              1,
              "#f0f921"
             ]
            ],
            "type": "contour"
           }
          ],
          "contourcarpet": [
           {
            "colorbar": {
             "outlinewidth": 0,
             "ticks": ""
            },
            "type": "contourcarpet"
           }
          ],
          "heatmap": [
           {
            "colorbar": {
             "outlinewidth": 0,
             "ticks": ""
            },
            "colorscale": [
             [
              0,
              "#0d0887"
             ],
             [
              0.1111111111111111,
              "#46039f"
             ],
             [
              0.2222222222222222,
              "#7201a8"
             ],
             [
              0.3333333333333333,
              "#9c179e"
             ],
             [
              0.4444444444444444,
              "#bd3786"
             ],
             [
              0.5555555555555556,
              "#d8576b"
             ],
             [
              0.6666666666666666,
              "#ed7953"
             ],
             [
              0.7777777777777778,
              "#fb9f3a"
             ],
             [
              0.8888888888888888,
              "#fdca26"
             ],
             [
              1,
              "#f0f921"
             ]
            ],
            "type": "heatmap"
           }
          ],
          "heatmapgl": [
           {
            "colorbar": {
             "outlinewidth": 0,
             "ticks": ""
            },
            "colorscale": [
             [
              0,
              "#0d0887"
             ],
             [
              0.1111111111111111,
              "#46039f"
             ],
             [
              0.2222222222222222,
              "#7201a8"
             ],
             [
              0.3333333333333333,
              "#9c179e"
             ],
             [
              0.4444444444444444,
              "#bd3786"
             ],
             [
              0.5555555555555556,
              "#d8576b"
             ],
             [
              0.6666666666666666,
              "#ed7953"
             ],
             [
              0.7777777777777778,
              "#fb9f3a"
             ],
             [
              0.8888888888888888,
              "#fdca26"
             ],
             [
              1,
              "#f0f921"
             ]
            ],
            "type": "heatmapgl"
           }
          ],
          "histogram": [
           {
            "marker": {
             "pattern": {
              "fillmode": "overlay",
              "size": 10,
              "solidity": 0.2
             }
            },
            "type": "histogram"
           }
          ],
          "histogram2d": [
           {
            "colorbar": {
             "outlinewidth": 0,
             "ticks": ""
            },
            "colorscale": [
             [
              0,
              "#0d0887"
             ],
             [
              0.1111111111111111,
              "#46039f"
             ],
             [
              0.2222222222222222,
              "#7201a8"
             ],
             [
              0.3333333333333333,
              "#9c179e"
             ],
             [
              0.4444444444444444,
              "#bd3786"
             ],
             [
              0.5555555555555556,
              "#d8576b"
             ],
             [
              0.6666666666666666,
              "#ed7953"
             ],
             [
              0.7777777777777778,
              "#fb9f3a"
             ],
             [
              0.8888888888888888,
              "#fdca26"
             ],
             [
              1,
              "#f0f921"
             ]
            ],
            "type": "histogram2d"
           }
          ],
          "histogram2dcontour": [
           {
            "colorbar": {
             "outlinewidth": 0,
             "ticks": ""
            },
            "colorscale": [
             [
              0,
              "#0d0887"
             ],
             [
              0.1111111111111111,
              "#46039f"
             ],
             [
              0.2222222222222222,
              "#7201a8"
             ],
             [
              0.3333333333333333,
              "#9c179e"
             ],
             [
              0.4444444444444444,
              "#bd3786"
             ],
             [
              0.5555555555555556,
              "#d8576b"
             ],
             [
              0.6666666666666666,
              "#ed7953"
             ],
             [
              0.7777777777777778,
              "#fb9f3a"
             ],
             [
              0.8888888888888888,
              "#fdca26"
             ],
             [
              1,
              "#f0f921"
             ]
            ],
            "type": "histogram2dcontour"
           }
          ],
          "mesh3d": [
           {
            "colorbar": {
             "outlinewidth": 0,
             "ticks": ""
            },
            "type": "mesh3d"
           }
          ],
          "parcoords": [
           {
            "line": {
             "colorbar": {
              "outlinewidth": 0,
              "ticks": ""
             }
            },
            "type": "parcoords"
           }
          ],
          "pie": [
           {
            "automargin": true,
            "type": "pie"
           }
          ],
          "scatter": [
           {
            "fillpattern": {
             "fillmode": "overlay",
             "size": 10,
             "solidity": 0.2
            },
            "type": "scatter"
           }
          ],
          "scatter3d": [
           {
            "line": {
             "colorbar": {
              "outlinewidth": 0,
              "ticks": ""
             }
            },
            "marker": {
             "colorbar": {
              "outlinewidth": 0,
              "ticks": ""
             }
            },
            "type": "scatter3d"
           }
          ],
          "scattercarpet": [
           {
            "marker": {
             "colorbar": {
              "outlinewidth": 0,
              "ticks": ""
             }
            },
            "type": "scattercarpet"
           }
          ],
          "scattergeo": [
           {
            "marker": {
             "colorbar": {
              "outlinewidth": 0,
              "ticks": ""
             }
            },
            "type": "scattergeo"
           }
          ],
          "scattergl": [
           {
            "marker": {
             "colorbar": {
              "outlinewidth": 0,
              "ticks": ""
             }
            },
            "type": "scattergl"
           }
          ],
          "scattermapbox": [
           {
            "marker": {
             "colorbar": {
              "outlinewidth": 0,
              "ticks": ""
             }
            },
            "type": "scattermapbox"
           }
          ],
          "scatterpolar": [
           {
            "marker": {
             "colorbar": {
              "outlinewidth": 0,
              "ticks": ""
             }
            },
            "type": "scatterpolar"
           }
          ],
          "scatterpolargl": [
           {
            "marker": {
             "colorbar": {
              "outlinewidth": 0,
              "ticks": ""
             }
            },
            "type": "scatterpolargl"
           }
          ],
          "scatterternary": [
           {
            "marker": {
             "colorbar": {
              "outlinewidth": 0,
              "ticks": ""
             }
            },
            "type": "scatterternary"
           }
          ],
          "surface": [
           {
            "colorbar": {
             "outlinewidth": 0,
             "ticks": ""
            },
            "colorscale": [
             [
              0,
              "#0d0887"
             ],
             [
              0.1111111111111111,
              "#46039f"
             ],
             [
              0.2222222222222222,
              "#7201a8"
             ],
             [
              0.3333333333333333,
              "#9c179e"
             ],
             [
              0.4444444444444444,
              "#bd3786"
             ],
             [
              0.5555555555555556,
              "#d8576b"
             ],
             [
              0.6666666666666666,
              "#ed7953"
             ],
             [
              0.7777777777777778,
              "#fb9f3a"
             ],
             [
              0.8888888888888888,
              "#fdca26"
             ],
             [
              1,
              "#f0f921"
             ]
            ],
            "type": "surface"
           }
          ],
          "table": [
           {
            "cells": {
             "fill": {
              "color": "#EBF0F8"
             },
             "line": {
              "color": "white"
             }
            },
            "header": {
             "fill": {
              "color": "#C8D4E3"
             },
             "line": {
              "color": "white"
             }
            },
            "type": "table"
           }
          ]
         },
         "layout": {
          "annotationdefaults": {
           "arrowcolor": "#2a3f5f",
           "arrowhead": 0,
           "arrowwidth": 1
          },
          "autotypenumbers": "strict",
          "coloraxis": {
           "colorbar": {
            "outlinewidth": 0,
            "ticks": ""
           }
          },
          "colorscale": {
           "diverging": [
            [
             0,
             "#8e0152"
            ],
            [
             0.1,
             "#c51b7d"
            ],
            [
             0.2,
             "#de77ae"
            ],
            [
             0.3,
             "#f1b6da"
            ],
            [
             0.4,
             "#fde0ef"
            ],
            [
             0.5,
             "#f7f7f7"
            ],
            [
             0.6,
             "#e6f5d0"
            ],
            [
             0.7,
             "#b8e186"
            ],
            [
             0.8,
             "#7fbc41"
            ],
            [
             0.9,
             "#4d9221"
            ],
            [
             1,
             "#276419"
            ]
           ],
           "sequential": [
            [
             0,
             "#0d0887"
            ],
            [
             0.1111111111111111,
             "#46039f"
            ],
            [
             0.2222222222222222,
             "#7201a8"
            ],
            [
             0.3333333333333333,
             "#9c179e"
            ],
            [
             0.4444444444444444,
             "#bd3786"
            ],
            [
             0.5555555555555556,
             "#d8576b"
            ],
            [
             0.6666666666666666,
             "#ed7953"
            ],
            [
             0.7777777777777778,
             "#fb9f3a"
            ],
            [
             0.8888888888888888,
             "#fdca26"
            ],
            [
             1,
             "#f0f921"
            ]
           ],
           "sequentialminus": [
            [
             0,
             "#0d0887"
            ],
            [
             0.1111111111111111,
             "#46039f"
            ],
            [
             0.2222222222222222,
             "#7201a8"
            ],
            [
             0.3333333333333333,
             "#9c179e"
            ],
            [
             0.4444444444444444,
             "#bd3786"
            ],
            [
             0.5555555555555556,
             "#d8576b"
            ],
            [
             0.6666666666666666,
             "#ed7953"
            ],
            [
             0.7777777777777778,
             "#fb9f3a"
            ],
            [
             0.8888888888888888,
             "#fdca26"
            ],
            [
             1,
             "#f0f921"
            ]
           ]
          },
          "colorway": [
           "#636efa",
           "#EF553B",
           "#00cc96",
           "#ab63fa",
           "#FFA15A",
           "#19d3f3",
           "#FF6692",
           "#B6E880",
           "#FF97FF",
           "#FECB52"
          ],
          "font": {
           "color": "#2a3f5f"
          },
          "geo": {
           "bgcolor": "white",
           "lakecolor": "white",
           "landcolor": "#E5ECF6",
           "showlakes": true,
           "showland": true,
           "subunitcolor": "white"
          },
          "hoverlabel": {
           "align": "left"
          },
          "hovermode": "closest",
          "mapbox": {
           "style": "light"
          },
          "paper_bgcolor": "white",
          "plot_bgcolor": "#E5ECF6",
          "polar": {
           "angularaxis": {
            "gridcolor": "white",
            "linecolor": "white",
            "ticks": ""
           },
           "bgcolor": "#E5ECF6",
           "radialaxis": {
            "gridcolor": "white",
            "linecolor": "white",
            "ticks": ""
           }
          },
          "scene": {
           "xaxis": {
            "backgroundcolor": "#E5ECF6",
            "gridcolor": "white",
            "gridwidth": 2,
            "linecolor": "white",
            "showbackground": true,
            "ticks": "",
            "zerolinecolor": "white"
           },
           "yaxis": {
            "backgroundcolor": "#E5ECF6",
            "gridcolor": "white",
            "gridwidth": 2,
            "linecolor": "white",
            "showbackground": true,
            "ticks": "",
            "zerolinecolor": "white"
           },
           "zaxis": {
            "backgroundcolor": "#E5ECF6",
            "gridcolor": "white",
            "gridwidth": 2,
            "linecolor": "white",
            "showbackground": true,
            "ticks": "",
            "zerolinecolor": "white"
           }
          },
          "shapedefaults": {
           "line": {
            "color": "#2a3f5f"
           }
          },
          "ternary": {
           "aaxis": {
            "gridcolor": "white",
            "linecolor": "white",
            "ticks": ""
           },
           "baxis": {
            "gridcolor": "white",
            "linecolor": "white",
            "ticks": ""
           },
           "bgcolor": "#E5ECF6",
           "caxis": {
            "gridcolor": "white",
            "linecolor": "white",
            "ticks": ""
           }
          },
          "title": {
           "x": 0.05
          },
          "xaxis": {
           "automargin": true,
           "gridcolor": "white",
           "linecolor": "white",
           "ticks": "",
           "title": {
            "standoff": 15
           },
           "zerolinecolor": "white",
           "zerolinewidth": 2
          },
          "yaxis": {
           "automargin": true,
           "gridcolor": "white",
           "linecolor": "white",
           "ticks": "",
           "title": {
            "standoff": 15
           },
           "zerolinecolor": "white",
           "zerolinewidth": 2
          }
         }
        },
        "title": {
         "text": "Learning Rate Tuning"
        },
        "width": 800,
        "xaxis": {
         "tickformat": "1.1e",
         "tickmode": "array",
         "tickvals": [
          0.01,
          0.001,
          0.0001
         ],
         "title": {
          "text": "Learning Rate"
         },
         "type": "log"
        },
        "yaxis": {
         "title": {
          "text": "F1 Score (macro avg)"
         }
        }
       }
      }
     },
     "metadata": {},
     "output_type": "display_data"
    }
   ],
   "source": [
    "fig = go.Figure(data=[go.Scatter(\n",
    "    x=data[data[\"name\"]==name][\"lr\"],\n",
    "    y=data[data[\"name\"]==name][\"scores\"],\n",
    "    mode='markers+lines',\n",
    "    name=name,\n",
    "    marker=dict(size=10)\n",
    ") for name in data[\"name\"].unique()])\n",
    "fig.update_layout(\n",
    "    xaxis_title=\"Learning Rate\",\n",
    "    yaxis_title=\"F1 Score (macro avg)\",\n",
    "    title=\"Learning Rate Tuning\",\n",
    "    legend_title=\"Parameter Set\",\n",
    "    width=800,\n",
    "    height=600,\n",
    "    showlegend=True,\n",
    "    xaxis=dict(tickmode = 'array',tickvals = [1e-2,1e-3,1e-4], tickformat=\"1.1e\")\n",
    ")\n",
    "fig.update_xaxes(type=\"log\")\n",
    "fig.show()"
   ]
  },
  {
   "cell_type": "code",
   "execution_count": 77,
   "metadata": {},
   "outputs": [],
   "source": [
    "data = pd.DataFrame({\n",
    "    \"hidden\":[\"12 categories, <br>500m squares\", \"12 categories, <br>1000m squares\", \"427 categories, <br>500m squares\", \"427 categories, <br>1000m squares\", \"427 categories, <br>1000m squares, <br>Worldwide cities\"]*2,\n",
    "    \"scores\":[0.3539,0.3459,0.3588,0.3815,0.4130]+[0.3512,0.3502,0.3447,0.3707,0.3840],\n",
    "    \"name\":[\"No check-in data\"]*5+[\"With check-in data\"]*5\n",
    "})"
   ]
  },
  {
   "cell_type": "code",
   "execution_count": 78,
   "metadata": {},
   "outputs": [
    {
     "data": {
      "application/vnd.plotly.v1+json": {
       "config": {
        "plotlyServerURL": "https://plot.ly"
       },
       "data": [
        {
         "name": "No check-in data",
         "text": [
          0.3539,
          0.3459,
          0.3588,
          0.3815,
          0.413
         ],
         "textangle": 90,
         "type": "bar",
         "x": [
          "12 categories, <br>500m squares",
          "12 categories, <br>1000m squares",
          "427 categories, <br>500m squares",
          "427 categories, <br>1000m squares",
          "427 categories, <br>1000m squares, <br>Worldwide cities"
         ],
         "y": [
          0.3539,
          0.3459,
          0.3588,
          0.3815,
          0.413
         ]
        },
        {
         "name": "With check-in data",
         "text": [
          0.3512,
          0.3502,
          0.3447,
          0.3707,
          0.384
         ],
         "textangle": 90,
         "type": "bar",
         "x": [
          "12 categories, <br>500m squares",
          "12 categories, <br>1000m squares",
          "427 categories, <br>500m squares",
          "427 categories, <br>1000m squares",
          "427 categories, <br>1000m squares, <br>Worldwide cities"
         ],
         "y": [
          0.3512,
          0.3502,
          0.3447,
          0.3707,
          0.384
         ]
        }
       ],
       "layout": {
        "height": 600,
        "showlegend": true,
        "template": {
         "data": {
          "bar": [
           {
            "error_x": {
             "color": "#2a3f5f"
            },
            "error_y": {
             "color": "#2a3f5f"
            },
            "marker": {
             "line": {
              "color": "#E5ECF6",
              "width": 0.5
             },
             "pattern": {
              "fillmode": "overlay",
              "size": 10,
              "solidity": 0.2
             }
            },
            "type": "bar"
           }
          ],
          "barpolar": [
           {
            "marker": {
             "line": {
              "color": "#E5ECF6",
              "width": 0.5
             },
             "pattern": {
              "fillmode": "overlay",
              "size": 10,
              "solidity": 0.2
             }
            },
            "type": "barpolar"
           }
          ],
          "carpet": [
           {
            "aaxis": {
             "endlinecolor": "#2a3f5f",
             "gridcolor": "white",
             "linecolor": "white",
             "minorgridcolor": "white",
             "startlinecolor": "#2a3f5f"
            },
            "baxis": {
             "endlinecolor": "#2a3f5f",
             "gridcolor": "white",
             "linecolor": "white",
             "minorgridcolor": "white",
             "startlinecolor": "#2a3f5f"
            },
            "type": "carpet"
           }
          ],
          "choropleth": [
           {
            "colorbar": {
             "outlinewidth": 0,
             "ticks": ""
            },
            "type": "choropleth"
           }
          ],
          "contour": [
           {
            "colorbar": {
             "outlinewidth": 0,
             "ticks": ""
            },
            "colorscale": [
             [
              0,
              "#0d0887"
             ],
             [
              0.1111111111111111,
              "#46039f"
             ],
             [
              0.2222222222222222,
              "#7201a8"
             ],
             [
              0.3333333333333333,
              "#9c179e"
             ],
             [
              0.4444444444444444,
              "#bd3786"
             ],
             [
              0.5555555555555556,
              "#d8576b"
             ],
             [
              0.6666666666666666,
              "#ed7953"
             ],
             [
              0.7777777777777778,
              "#fb9f3a"
             ],
             [
              0.8888888888888888,
              "#fdca26"
             ],
             [
              1,
              "#f0f921"
             ]
            ],
            "type": "contour"
           }
          ],
          "contourcarpet": [
           {
            "colorbar": {
             "outlinewidth": 0,
             "ticks": ""
            },
            "type": "contourcarpet"
           }
          ],
          "heatmap": [
           {
            "colorbar": {
             "outlinewidth": 0,
             "ticks": ""
            },
            "colorscale": [
             [
              0,
              "#0d0887"
             ],
             [
              0.1111111111111111,
              "#46039f"
             ],
             [
              0.2222222222222222,
              "#7201a8"
             ],
             [
              0.3333333333333333,
              "#9c179e"
             ],
             [
              0.4444444444444444,
              "#bd3786"
             ],
             [
              0.5555555555555556,
              "#d8576b"
             ],
             [
              0.6666666666666666,
              "#ed7953"
             ],
             [
              0.7777777777777778,
              "#fb9f3a"
             ],
             [
              0.8888888888888888,
              "#fdca26"
             ],
             [
              1,
              "#f0f921"
             ]
            ],
            "type": "heatmap"
           }
          ],
          "heatmapgl": [
           {
            "colorbar": {
             "outlinewidth": 0,
             "ticks": ""
            },
            "colorscale": [
             [
              0,
              "#0d0887"
             ],
             [
              0.1111111111111111,
              "#46039f"
             ],
             [
              0.2222222222222222,
              "#7201a8"
             ],
             [
              0.3333333333333333,
              "#9c179e"
             ],
             [
              0.4444444444444444,
              "#bd3786"
             ],
             [
              0.5555555555555556,
              "#d8576b"
             ],
             [
              0.6666666666666666,
              "#ed7953"
             ],
             [
              0.7777777777777778,
              "#fb9f3a"
             ],
             [
              0.8888888888888888,
              "#fdca26"
             ],
             [
              1,
              "#f0f921"
             ]
            ],
            "type": "heatmapgl"
           }
          ],
          "histogram": [
           {
            "marker": {
             "pattern": {
              "fillmode": "overlay",
              "size": 10,
              "solidity": 0.2
             }
            },
            "type": "histogram"
           }
          ],
          "histogram2d": [
           {
            "colorbar": {
             "outlinewidth": 0,
             "ticks": ""
            },
            "colorscale": [
             [
              0,
              "#0d0887"
             ],
             [
              0.1111111111111111,
              "#46039f"
             ],
             [
              0.2222222222222222,
              "#7201a8"
             ],
             [
              0.3333333333333333,
              "#9c179e"
             ],
             [
              0.4444444444444444,
              "#bd3786"
             ],
             [
              0.5555555555555556,
              "#d8576b"
             ],
             [
              0.6666666666666666,
              "#ed7953"
             ],
             [
              0.7777777777777778,
              "#fb9f3a"
             ],
             [
              0.8888888888888888,
              "#fdca26"
             ],
             [
              1,
              "#f0f921"
             ]
            ],
            "type": "histogram2d"
           }
          ],
          "histogram2dcontour": [
           {
            "colorbar": {
             "outlinewidth": 0,
             "ticks": ""
            },
            "colorscale": [
             [
              0,
              "#0d0887"
             ],
             [
              0.1111111111111111,
              "#46039f"
             ],
             [
              0.2222222222222222,
              "#7201a8"
             ],
             [
              0.3333333333333333,
              "#9c179e"
             ],
             [
              0.4444444444444444,
              "#bd3786"
             ],
             [
              0.5555555555555556,
              "#d8576b"
             ],
             [
              0.6666666666666666,
              "#ed7953"
             ],
             [
              0.7777777777777778,
              "#fb9f3a"
             ],
             [
              0.8888888888888888,
              "#fdca26"
             ],
             [
              1,
              "#f0f921"
             ]
            ],
            "type": "histogram2dcontour"
           }
          ],
          "mesh3d": [
           {
            "colorbar": {
             "outlinewidth": 0,
             "ticks": ""
            },
            "type": "mesh3d"
           }
          ],
          "parcoords": [
           {
            "line": {
             "colorbar": {
              "outlinewidth": 0,
              "ticks": ""
             }
            },
            "type": "parcoords"
           }
          ],
          "pie": [
           {
            "automargin": true,
            "type": "pie"
           }
          ],
          "scatter": [
           {
            "fillpattern": {
             "fillmode": "overlay",
             "size": 10,
             "solidity": 0.2
            },
            "type": "scatter"
           }
          ],
          "scatter3d": [
           {
            "line": {
             "colorbar": {
              "outlinewidth": 0,
              "ticks": ""
             }
            },
            "marker": {
             "colorbar": {
              "outlinewidth": 0,
              "ticks": ""
             }
            },
            "type": "scatter3d"
           }
          ],
          "scattercarpet": [
           {
            "marker": {
             "colorbar": {
              "outlinewidth": 0,
              "ticks": ""
             }
            },
            "type": "scattercarpet"
           }
          ],
          "scattergeo": [
           {
            "marker": {
             "colorbar": {
              "outlinewidth": 0,
              "ticks": ""
             }
            },
            "type": "scattergeo"
           }
          ],
          "scattergl": [
           {
            "marker": {
             "colorbar": {
              "outlinewidth": 0,
              "ticks": ""
             }
            },
            "type": "scattergl"
           }
          ],
          "scattermapbox": [
           {
            "marker": {
             "colorbar": {
              "outlinewidth": 0,
              "ticks": ""
             }
            },
            "type": "scattermapbox"
           }
          ],
          "scatterpolar": [
           {
            "marker": {
             "colorbar": {
              "outlinewidth": 0,
              "ticks": ""
             }
            },
            "type": "scatterpolar"
           }
          ],
          "scatterpolargl": [
           {
            "marker": {
             "colorbar": {
              "outlinewidth": 0,
              "ticks": ""
             }
            },
            "type": "scatterpolargl"
           }
          ],
          "scatterternary": [
           {
            "marker": {
             "colorbar": {
              "outlinewidth": 0,
              "ticks": ""
             }
            },
            "type": "scatterternary"
           }
          ],
          "surface": [
           {
            "colorbar": {
             "outlinewidth": 0,
             "ticks": ""
            },
            "colorscale": [
             [
              0,
              "#0d0887"
             ],
             [
              0.1111111111111111,
              "#46039f"
             ],
             [
              0.2222222222222222,
              "#7201a8"
             ],
             [
              0.3333333333333333,
              "#9c179e"
             ],
             [
              0.4444444444444444,
              "#bd3786"
             ],
             [
              0.5555555555555556,
              "#d8576b"
             ],
             [
              0.6666666666666666,
              "#ed7953"
             ],
             [
              0.7777777777777778,
              "#fb9f3a"
             ],
             [
              0.8888888888888888,
              "#fdca26"
             ],
             [
              1,
              "#f0f921"
             ]
            ],
            "type": "surface"
           }
          ],
          "table": [
           {
            "cells": {
             "fill": {
              "color": "#EBF0F8"
             },
             "line": {
              "color": "white"
             }
            },
            "header": {
             "fill": {
              "color": "#C8D4E3"
             },
             "line": {
              "color": "white"
             }
            },
            "type": "table"
           }
          ]
         },
         "layout": {
          "annotationdefaults": {
           "arrowcolor": "#2a3f5f",
           "arrowhead": 0,
           "arrowwidth": 1
          },
          "autotypenumbers": "strict",
          "coloraxis": {
           "colorbar": {
            "outlinewidth": 0,
            "ticks": ""
           }
          },
          "colorscale": {
           "diverging": [
            [
             0,
             "#8e0152"
            ],
            [
             0.1,
             "#c51b7d"
            ],
            [
             0.2,
             "#de77ae"
            ],
            [
             0.3,
             "#f1b6da"
            ],
            [
             0.4,
             "#fde0ef"
            ],
            [
             0.5,
             "#f7f7f7"
            ],
            [
             0.6,
             "#e6f5d0"
            ],
            [
             0.7,
             "#b8e186"
            ],
            [
             0.8,
             "#7fbc41"
            ],
            [
             0.9,
             "#4d9221"
            ],
            [
             1,
             "#276419"
            ]
           ],
           "sequential": [
            [
             0,
             "#0d0887"
            ],
            [
             0.1111111111111111,
             "#46039f"
            ],
            [
             0.2222222222222222,
             "#7201a8"
            ],
            [
             0.3333333333333333,
             "#9c179e"
            ],
            [
             0.4444444444444444,
             "#bd3786"
            ],
            [
             0.5555555555555556,
             "#d8576b"
            ],
            [
             0.6666666666666666,
             "#ed7953"
            ],
            [
             0.7777777777777778,
             "#fb9f3a"
            ],
            [
             0.8888888888888888,
             "#fdca26"
            ],
            [
             1,
             "#f0f921"
            ]
           ],
           "sequentialminus": [
            [
             0,
             "#0d0887"
            ],
            [
             0.1111111111111111,
             "#46039f"
            ],
            [
             0.2222222222222222,
             "#7201a8"
            ],
            [
             0.3333333333333333,
             "#9c179e"
            ],
            [
             0.4444444444444444,
             "#bd3786"
            ],
            [
             0.5555555555555556,
             "#d8576b"
            ],
            [
             0.6666666666666666,
             "#ed7953"
            ],
            [
             0.7777777777777778,
             "#fb9f3a"
            ],
            [
             0.8888888888888888,
             "#fdca26"
            ],
            [
             1,
             "#f0f921"
            ]
           ]
          },
          "colorway": [
           "#636efa",
           "#EF553B",
           "#00cc96",
           "#ab63fa",
           "#FFA15A",
           "#19d3f3",
           "#FF6692",
           "#B6E880",
           "#FF97FF",
           "#FECB52"
          ],
          "font": {
           "color": "#2a3f5f"
          },
          "geo": {
           "bgcolor": "white",
           "lakecolor": "white",
           "landcolor": "#E5ECF6",
           "showlakes": true,
           "showland": true,
           "subunitcolor": "white"
          },
          "hoverlabel": {
           "align": "left"
          },
          "hovermode": "closest",
          "mapbox": {
           "style": "light"
          },
          "paper_bgcolor": "white",
          "plot_bgcolor": "#E5ECF6",
          "polar": {
           "angularaxis": {
            "gridcolor": "white",
            "linecolor": "white",
            "ticks": ""
           },
           "bgcolor": "#E5ECF6",
           "radialaxis": {
            "gridcolor": "white",
            "linecolor": "white",
            "ticks": ""
           }
          },
          "scene": {
           "xaxis": {
            "backgroundcolor": "#E5ECF6",
            "gridcolor": "white",
            "gridwidth": 2,
            "linecolor": "white",
            "showbackground": true,
            "ticks": "",
            "zerolinecolor": "white"
           },
           "yaxis": {
            "backgroundcolor": "#E5ECF6",
            "gridcolor": "white",
            "gridwidth": 2,
            "linecolor": "white",
            "showbackground": true,
            "ticks": "",
            "zerolinecolor": "white"
           },
           "zaxis": {
            "backgroundcolor": "#E5ECF6",
            "gridcolor": "white",
            "gridwidth": 2,
            "linecolor": "white",
            "showbackground": true,
            "ticks": "",
            "zerolinecolor": "white"
           }
          },
          "shapedefaults": {
           "line": {
            "color": "#2a3f5f"
           }
          },
          "ternary": {
           "aaxis": {
            "gridcolor": "white",
            "linecolor": "white",
            "ticks": ""
           },
           "baxis": {
            "gridcolor": "white",
            "linecolor": "white",
            "ticks": ""
           },
           "bgcolor": "#E5ECF6",
           "caxis": {
            "gridcolor": "white",
            "linecolor": "white",
            "ticks": ""
           }
          },
          "title": {
           "x": 0.05
          },
          "xaxis": {
           "automargin": true,
           "gridcolor": "white",
           "linecolor": "white",
           "ticks": "",
           "title": {
            "standoff": 15
           },
           "zerolinecolor": "white",
           "zerolinewidth": 2
          },
          "yaxis": {
           "automargin": true,
           "gridcolor": "white",
           "linecolor": "white",
           "ticks": "",
           "title": {
            "standoff": 15
           },
           "zerolinecolor": "white",
           "zerolinewidth": 2
          }
         }
        },
        "title": {
         "text": "Testing different datasets"
        },
        "width": 800,
        "xaxis": {
         "title": {
          "text": "Dataset"
         }
        },
        "yaxis": {
         "range": [
          0.3,
          0.42
         ],
         "title": {
          "text": "F1 Score (macro avg)"
         }
        }
       }
      }
     },
     "metadata": {},
     "output_type": "display_data"
    }
   ],
   "source": [
    "fig = go.Figure(data=[go.Bar(\n",
    "    x=data[data[\"name\"]==name][\"hidden\"],\n",
    "    y=data[data[\"name\"]==name][\"scores\"],\n",
    "    text=data[data[\"name\"]==name][\"scores\"],\n",
    "    textangle=90,\n",
    "    name=name,\n",
    ") for name in data[\"name\"].unique()])\n",
    "fig.update_layout(\n",
    "    xaxis_title=\"Dataset\",\n",
    "    yaxis_title=\"F1 Score (macro avg)\",\n",
    "    title=\"Testing different datasets\",\n",
    "    # legend_title=\"Parameter Set\",\n",
    "    width=800,\n",
    "    height=600,\n",
    "    showlegend=True,\n",
    "    yaxis_range=[0.3,0.42]\n",
    ")\n",
    "fig.show()"
   ]
  },
  {
   "cell_type": "code",
   "execution_count": 189,
   "metadata": {},
   "outputs": [],
   "source": [
    "import numpy as np\n",
    "np.random.seed(0)\n",
    "import torch\n",
    "from torch.utils.data import Dataset, DataLoader\n",
    "torch.manual_seed(0)\n",
    "import pandas as pd\n",
    "from geopy import distance\n",
    "\n",
    "from sklearn.manifold import TSNE\n",
    "from sklearn.svm import LinearSVC\n",
    "from sklearn.metrics import classification_report, f1_score\n",
    "from sklearn.metrics.pairwise import cosine_similarity\n",
    "\n",
    "from contrastive_learning import Encoder, GridDataset"
   ]
  },
  {
   "cell_type": "code",
   "execution_count": 190,
   "metadata": {},
   "outputs": [
    {
     "name": "stderr",
     "output_type": "stream",
     "text": [
      "C:\\Users\\jakob\\AppData\\Local\\Temp\\ipykernel_25536\\3337402000.py:9: FutureWarning:\n",
      "\n",
      "You are using `torch.load` with `weights_only=False` (the current default value), which uses the default pickle module implicitly. It is possible to construct malicious pickle data which will execute arbitrary code during unpickling (See https://github.com/pytorch/pytorch/blob/main/SECURITY.md#untrusted-models for more details). In a future release, the default value for `weights_only` will be flipped to `True`. This limits the functions that could be executed during unpickling. Arbitrary objects will no longer be allowed to be loaded via this mode unless they are explicitly allowlisted by the user via `torch.serialization.add_safe_globals`. We recommend you start setting `weights_only=True` for any use case where you don't have full control of the loaded file. Please open an issue on GitHub for any issues related to this experimental feature.\n",
      "\n"
     ]
    }
   ],
   "source": [
    "categories = \"lvl2\"\n",
    "square_size = 1000\n",
    "neighbors = False\n",
    "check_ins = False\n",
    "cities = \"WORLD\"\n",
    "\n",
    "\n",
    "encoder = Encoder(405 if check_ins else 404,64,(256,128))\n",
    "encoder.load_state_dict(torch.load(rf\"models\\encoder_{categories}_cats_{square_size}m{'_neighbors' if neighbors else ''}{'_checkins' if check_ins else ''}{'_'+cities if cities != 'DEFAULT' else ''}.pth\"))\n",
    "\n",
    "org_data = pd.read_csv(\n",
    "        f\"data/squares_{categories}_cats_{square_size}m{'_neighbors' if neighbors else ''}{'_checkins' if check_ins else ''}{'_'+cities if cities != 'DEFAULT' else ''}.csv\"\n",
    "    )\n",
    "org_data = org_data.loc[:, org_data.columns[6:]]\n",
    "\n",
    "cities = \"DEFAULT\"\n",
    "data = pd.read_csv(\n",
    "        f\"data/squares_{categories}_cats_{square_size}m{'_neighbors' if neighbors else ''}{'_checkins' if check_ins else ''}{'_'+cities if cities != 'DEFAULT' else ''}.csv\"\n",
    "    )\n",
    "data = data.loc[:, data.columns[6:]]\n",
    "\n",
    "data = data.assign(**{col: 0 for col in org_data.columns if col not in data.columns})\n",
    "\n",
    "batch_size = 512\n",
    "\n",
    "dataset = GridDataset(data)\n",
    "full_loader = DataLoader(dataset, batch_size=batch_size, shuffle=True)\n",
    "train_data, val_data, test_data = torch.utils.data.random_split(\n",
    "    dataset, [0.7, 0.15, 0.15]\n",
    ")\n",
    "train_loader = DataLoader(train_data, batch_size=batch_size, shuffle=True)\n",
    "val_loader = DataLoader(val_data, batch_size=batch_size, shuffle=True)\n",
    "test_loader = DataLoader(test_data, batch_size=batch_size, shuffle=True)"
   ]
  },
  {
   "cell_type": "code",
   "execution_count": 191,
   "metadata": {},
   "outputs": [
    {
     "name": "stdout",
     "output_type": "stream",
     "text": [
      "              precision    recall  f1-score   support\n",
      "\n",
      "           0       0.53      0.62      0.57       454\n",
      "           1       0.33      0.18      0.23       151\n",
      "           2       0.59      0.46      0.52       454\n",
      "           3       0.26      0.46      0.33       115\n",
      "\n",
      "    accuracy                           0.49      1174\n",
      "   macro avg       0.43      0.43      0.41      1174\n",
      "weighted avg       0.50      0.49      0.48      1174\n",
      "\n",
      "0.412953234031247\n"
     ]
    }
   ],
   "source": [
    "with torch.no_grad():\n",
    "    embeddings = torch.tensor([])\n",
    "    labels = []\n",
    "    for batch_data, batch_labels in test_loader:\n",
    "        embeddings = torch.cat((embeddings, encoder(batch_data)))\n",
    "        labels += batch_labels\n",
    "    labels = torch.tensor(labels)\n",
    "\n",
    "# SVM classifier\n",
    "svm_classifier = LinearSVC(class_weight=\"balanced\")\n",
    "svm_classifier.fit(embeddings.detach().numpy(), labels.numpy())\n",
    "predictions = svm_classifier.predict(embeddings.detach().numpy())\n",
    "\n",
    "print(classification_report(labels.numpy(), predictions))\n",
    "print(f1_score(labels.numpy(), predictions, average=\"macro\"))"
   ]
  },
  {
   "cell_type": "code",
   "execution_count": 192,
   "metadata": {},
   "outputs": [],
   "source": [
    "emb_df = pd.DataFrame(embeddings)\n",
    "emb_df[\"label\"] = labels\n",
    "avg_emb = emb_df.groupby(\"label\").mean()\n",
    "\n",
    "# Compute the cosine similarity matrix\n",
    "similarity_matrix = cosine_similarity(avg_emb)"
   ]
  },
  {
   "cell_type": "code",
   "execution_count": 193,
   "metadata": {},
   "outputs": [
    {
     "name": "stdout",
     "output_type": "stream",
     "text": [
      "\\begin{tabular}{lrrrr}\n",
      "\\toprule\n",
      " & Beijing & Nanjing & Shanghai & Xi’an \\\\\n",
      "\\midrule\n",
      "Beijing & 1.000 & 0.689 & 0.861 & 0.576 \\\\\n",
      "Nanjing & 0.689 & 1.000 & 0.673 & 0.458 \\\\\n",
      "Shanghai & 0.861 & 0.673 & 1.000 & 0.663 \\\\\n",
      "Xi’an & 0.576 & 0.458 & 0.663 & 1.000 \\\\\n",
      "\\bottomrule\n",
      "\\end{tabular}\n",
      "\n"
     ]
    }
   ],
   "source": [
    "label_mapping = list(full_loader.dataset.label_mapping.keys())\n",
    "print(\n",
    "    pd.DataFrame(similarity_matrix, index=label_mapping, columns=label_mapping)\n",
    "    .to_latex(float_format=\"%.3f\")\n",
    ")"
   ]
  },
  {
   "cell_type": "code",
   "execution_count": 194,
   "metadata": {},
   "outputs": [
    {
     "data": {
      "application/vnd.plotly.v1+json": {
       "config": {
        "plotlyServerURL": "https://plot.ly"
       },
       "data": [
        {
         "colorscale": [
          [
           0,
           "rgb(255,245,240)"
          ],
          [
           0.125,
           "rgb(254,224,210)"
          ],
          [
           0.25,
           "rgb(252,187,161)"
          ],
          [
           0.375,
           "rgb(252,146,114)"
          ],
          [
           0.5,
           "rgb(251,106,74)"
          ],
          [
           0.625,
           "rgb(239,59,44)"
          ],
          [
           0.75,
           "rgb(203,24,29)"
          ],
          [
           0.875,
           "rgb(165,15,21)"
          ],
          [
           1,
           "rgb(103,0,13)"
          ]
         ],
         "type": "heatmap",
         "x": [
          "Beijing",
          "Nanjing",
          "Shanghai",
          "Xi’an"
         ],
         "y": [
          "Beijing",
          "Nanjing",
          "Shanghai",
          "Xi’an"
         ],
         "z": [
          [
           0.9999998807907104,
           0.689293622970581,
           0.861097514629364,
           0.5763548016548157
          ],
          [
           0.689293622970581,
           1,
           0.6732009053230286,
           0.4584997296333313
          ],
          [
           0.861097514629364,
           0.6732009053230286,
           0.9999999403953552,
           0.6629350781440735
          ],
          [
           0.5763548016548157,
           0.4584997296333313,
           0.6629350781440735,
           1.0000001192092896
          ]
         ]
        }
       ],
       "layout": {
        "height": 800,
        "template": {
         "data": {
          "bar": [
           {
            "error_x": {
             "color": "#2a3f5f"
            },
            "error_y": {
             "color": "#2a3f5f"
            },
            "marker": {
             "line": {
              "color": "#E5ECF6",
              "width": 0.5
             },
             "pattern": {
              "fillmode": "overlay",
              "size": 10,
              "solidity": 0.2
             }
            },
            "type": "bar"
           }
          ],
          "barpolar": [
           {
            "marker": {
             "line": {
              "color": "#E5ECF6",
              "width": 0.5
             },
             "pattern": {
              "fillmode": "overlay",
              "size": 10,
              "solidity": 0.2
             }
            },
            "type": "barpolar"
           }
          ],
          "carpet": [
           {
            "aaxis": {
             "endlinecolor": "#2a3f5f",
             "gridcolor": "white",
             "linecolor": "white",
             "minorgridcolor": "white",
             "startlinecolor": "#2a3f5f"
            },
            "baxis": {
             "endlinecolor": "#2a3f5f",
             "gridcolor": "white",
             "linecolor": "white",
             "minorgridcolor": "white",
             "startlinecolor": "#2a3f5f"
            },
            "type": "carpet"
           }
          ],
          "choropleth": [
           {
            "colorbar": {
             "outlinewidth": 0,
             "ticks": ""
            },
            "type": "choropleth"
           }
          ],
          "contour": [
           {
            "colorbar": {
             "outlinewidth": 0,
             "ticks": ""
            },
            "colorscale": [
             [
              0,
              "#0d0887"
             ],
             [
              0.1111111111111111,
              "#46039f"
             ],
             [
              0.2222222222222222,
              "#7201a8"
             ],
             [
              0.3333333333333333,
              "#9c179e"
             ],
             [
              0.4444444444444444,
              "#bd3786"
             ],
             [
              0.5555555555555556,
              "#d8576b"
             ],
             [
              0.6666666666666666,
              "#ed7953"
             ],
             [
              0.7777777777777778,
              "#fb9f3a"
             ],
             [
              0.8888888888888888,
              "#fdca26"
             ],
             [
              1,
              "#f0f921"
             ]
            ],
            "type": "contour"
           }
          ],
          "contourcarpet": [
           {
            "colorbar": {
             "outlinewidth": 0,
             "ticks": ""
            },
            "type": "contourcarpet"
           }
          ],
          "heatmap": [
           {
            "colorbar": {
             "outlinewidth": 0,
             "ticks": ""
            },
            "colorscale": [
             [
              0,
              "#0d0887"
             ],
             [
              0.1111111111111111,
              "#46039f"
             ],
             [
              0.2222222222222222,
              "#7201a8"
             ],
             [
              0.3333333333333333,
              "#9c179e"
             ],
             [
              0.4444444444444444,
              "#bd3786"
             ],
             [
              0.5555555555555556,
              "#d8576b"
             ],
             [
              0.6666666666666666,
              "#ed7953"
             ],
             [
              0.7777777777777778,
              "#fb9f3a"
             ],
             [
              0.8888888888888888,
              "#fdca26"
             ],
             [
              1,
              "#f0f921"
             ]
            ],
            "type": "heatmap"
           }
          ],
          "heatmapgl": [
           {
            "colorbar": {
             "outlinewidth": 0,
             "ticks": ""
            },
            "colorscale": [
             [
              0,
              "#0d0887"
             ],
             [
              0.1111111111111111,
              "#46039f"
             ],
             [
              0.2222222222222222,
              "#7201a8"
             ],
             [
              0.3333333333333333,
              "#9c179e"
             ],
             [
              0.4444444444444444,
              "#bd3786"
             ],
             [
              0.5555555555555556,
              "#d8576b"
             ],
             [
              0.6666666666666666,
              "#ed7953"
             ],
             [
              0.7777777777777778,
              "#fb9f3a"
             ],
             [
              0.8888888888888888,
              "#fdca26"
             ],
             [
              1,
              "#f0f921"
             ]
            ],
            "type": "heatmapgl"
           }
          ],
          "histogram": [
           {
            "marker": {
             "pattern": {
              "fillmode": "overlay",
              "size": 10,
              "solidity": 0.2
             }
            },
            "type": "histogram"
           }
          ],
          "histogram2d": [
           {
            "colorbar": {
             "outlinewidth": 0,
             "ticks": ""
            },
            "colorscale": [
             [
              0,
              "#0d0887"
             ],
             [
              0.1111111111111111,
              "#46039f"
             ],
             [
              0.2222222222222222,
              "#7201a8"
             ],
             [
              0.3333333333333333,
              "#9c179e"
             ],
             [
              0.4444444444444444,
              "#bd3786"
             ],
             [
              0.5555555555555556,
              "#d8576b"
             ],
             [
              0.6666666666666666,
              "#ed7953"
             ],
             [
              0.7777777777777778,
              "#fb9f3a"
             ],
             [
              0.8888888888888888,
              "#fdca26"
             ],
             [
              1,
              "#f0f921"
             ]
            ],
            "type": "histogram2d"
           }
          ],
          "histogram2dcontour": [
           {
            "colorbar": {
             "outlinewidth": 0,
             "ticks": ""
            },
            "colorscale": [
             [
              0,
              "#0d0887"
             ],
             [
              0.1111111111111111,
              "#46039f"
             ],
             [
              0.2222222222222222,
              "#7201a8"
             ],
             [
              0.3333333333333333,
              "#9c179e"
             ],
             [
              0.4444444444444444,
              "#bd3786"
             ],
             [
              0.5555555555555556,
              "#d8576b"
             ],
             [
              0.6666666666666666,
              "#ed7953"
             ],
             [
              0.7777777777777778,
              "#fb9f3a"
             ],
             [
              0.8888888888888888,
              "#fdca26"
             ],
             [
              1,
              "#f0f921"
             ]
            ],
            "type": "histogram2dcontour"
           }
          ],
          "mesh3d": [
           {
            "colorbar": {
             "outlinewidth": 0,
             "ticks": ""
            },
            "type": "mesh3d"
           }
          ],
          "parcoords": [
           {
            "line": {
             "colorbar": {
              "outlinewidth": 0,
              "ticks": ""
             }
            },
            "type": "parcoords"
           }
          ],
          "pie": [
           {
            "automargin": true,
            "type": "pie"
           }
          ],
          "scatter": [
           {
            "fillpattern": {
             "fillmode": "overlay",
             "size": 10,
             "solidity": 0.2
            },
            "type": "scatter"
           }
          ],
          "scatter3d": [
           {
            "line": {
             "colorbar": {
              "outlinewidth": 0,
              "ticks": ""
             }
            },
            "marker": {
             "colorbar": {
              "outlinewidth": 0,
              "ticks": ""
             }
            },
            "type": "scatter3d"
           }
          ],
          "scattercarpet": [
           {
            "marker": {
             "colorbar": {
              "outlinewidth": 0,
              "ticks": ""
             }
            },
            "type": "scattercarpet"
           }
          ],
          "scattergeo": [
           {
            "marker": {
             "colorbar": {
              "outlinewidth": 0,
              "ticks": ""
             }
            },
            "type": "scattergeo"
           }
          ],
          "scattergl": [
           {
            "marker": {
             "colorbar": {
              "outlinewidth": 0,
              "ticks": ""
             }
            },
            "type": "scattergl"
           }
          ],
          "scattermapbox": [
           {
            "marker": {
             "colorbar": {
              "outlinewidth": 0,
              "ticks": ""
             }
            },
            "type": "scattermapbox"
           }
          ],
          "scatterpolar": [
           {
            "marker": {
             "colorbar": {
              "outlinewidth": 0,
              "ticks": ""
             }
            },
            "type": "scatterpolar"
           }
          ],
          "scatterpolargl": [
           {
            "marker": {
             "colorbar": {
              "outlinewidth": 0,
              "ticks": ""
             }
            },
            "type": "scatterpolargl"
           }
          ],
          "scatterternary": [
           {
            "marker": {
             "colorbar": {
              "outlinewidth": 0,
              "ticks": ""
             }
            },
            "type": "scatterternary"
           }
          ],
          "surface": [
           {
            "colorbar": {
             "outlinewidth": 0,
             "ticks": ""
            },
            "colorscale": [
             [
              0,
              "#0d0887"
             ],
             [
              0.1111111111111111,
              "#46039f"
             ],
             [
              0.2222222222222222,
              "#7201a8"
             ],
             [
              0.3333333333333333,
              "#9c179e"
             ],
             [
              0.4444444444444444,
              "#bd3786"
             ],
             [
              0.5555555555555556,
              "#d8576b"
             ],
             [
              0.6666666666666666,
              "#ed7953"
             ],
             [
              0.7777777777777778,
              "#fb9f3a"
             ],
             [
              0.8888888888888888,
              "#fdca26"
             ],
             [
              1,
              "#f0f921"
             ]
            ],
            "type": "surface"
           }
          ],
          "table": [
           {
            "cells": {
             "fill": {
              "color": "#EBF0F8"
             },
             "line": {
              "color": "white"
             }
            },
            "header": {
             "fill": {
              "color": "#C8D4E3"
             },
             "line": {
              "color": "white"
             }
            },
            "type": "table"
           }
          ]
         },
         "layout": {
          "annotationdefaults": {
           "arrowcolor": "#2a3f5f",
           "arrowhead": 0,
           "arrowwidth": 1
          },
          "autotypenumbers": "strict",
          "coloraxis": {
           "colorbar": {
            "outlinewidth": 0,
            "ticks": ""
           }
          },
          "colorscale": {
           "diverging": [
            [
             0,
             "#8e0152"
            ],
            [
             0.1,
             "#c51b7d"
            ],
            [
             0.2,
             "#de77ae"
            ],
            [
             0.3,
             "#f1b6da"
            ],
            [
             0.4,
             "#fde0ef"
            ],
            [
             0.5,
             "#f7f7f7"
            ],
            [
             0.6,
             "#e6f5d0"
            ],
            [
             0.7,
             "#b8e186"
            ],
            [
             0.8,
             "#7fbc41"
            ],
            [
             0.9,
             "#4d9221"
            ],
            [
             1,
             "#276419"
            ]
           ],
           "sequential": [
            [
             0,
             "#0d0887"
            ],
            [
             0.1111111111111111,
             "#46039f"
            ],
            [
             0.2222222222222222,
             "#7201a8"
            ],
            [
             0.3333333333333333,
             "#9c179e"
            ],
            [
             0.4444444444444444,
             "#bd3786"
            ],
            [
             0.5555555555555556,
             "#d8576b"
            ],
            [
             0.6666666666666666,
             "#ed7953"
            ],
            [
             0.7777777777777778,
             "#fb9f3a"
            ],
            [
             0.8888888888888888,
             "#fdca26"
            ],
            [
             1,
             "#f0f921"
            ]
           ],
           "sequentialminus": [
            [
             0,
             "#0d0887"
            ],
            [
             0.1111111111111111,
             "#46039f"
            ],
            [
             0.2222222222222222,
             "#7201a8"
            ],
            [
             0.3333333333333333,
             "#9c179e"
            ],
            [
             0.4444444444444444,
             "#bd3786"
            ],
            [
             0.5555555555555556,
             "#d8576b"
            ],
            [
             0.6666666666666666,
             "#ed7953"
            ],
            [
             0.7777777777777778,
             "#fb9f3a"
            ],
            [
             0.8888888888888888,
             "#fdca26"
            ],
            [
             1,
             "#f0f921"
            ]
           ]
          },
          "colorway": [
           "#636efa",
           "#EF553B",
           "#00cc96",
           "#ab63fa",
           "#FFA15A",
           "#19d3f3",
           "#FF6692",
           "#B6E880",
           "#FF97FF",
           "#FECB52"
          ],
          "font": {
           "color": "#2a3f5f"
          },
          "geo": {
           "bgcolor": "white",
           "lakecolor": "white",
           "landcolor": "#E5ECF6",
           "showlakes": true,
           "showland": true,
           "subunitcolor": "white"
          },
          "hoverlabel": {
           "align": "left"
          },
          "hovermode": "closest",
          "mapbox": {
           "style": "light"
          },
          "paper_bgcolor": "white",
          "plot_bgcolor": "#E5ECF6",
          "polar": {
           "angularaxis": {
            "gridcolor": "white",
            "linecolor": "white",
            "ticks": ""
           },
           "bgcolor": "#E5ECF6",
           "radialaxis": {
            "gridcolor": "white",
            "linecolor": "white",
            "ticks": ""
           }
          },
          "scene": {
           "xaxis": {
            "backgroundcolor": "#E5ECF6",
            "gridcolor": "white",
            "gridwidth": 2,
            "linecolor": "white",
            "showbackground": true,
            "ticks": "",
            "zerolinecolor": "white"
           },
           "yaxis": {
            "backgroundcolor": "#E5ECF6",
            "gridcolor": "white",
            "gridwidth": 2,
            "linecolor": "white",
            "showbackground": true,
            "ticks": "",
            "zerolinecolor": "white"
           },
           "zaxis": {
            "backgroundcolor": "#E5ECF6",
            "gridcolor": "white",
            "gridwidth": 2,
            "linecolor": "white",
            "showbackground": true,
            "ticks": "",
            "zerolinecolor": "white"
           }
          },
          "shapedefaults": {
           "line": {
            "color": "#2a3f5f"
           }
          },
          "ternary": {
           "aaxis": {
            "gridcolor": "white",
            "linecolor": "white",
            "ticks": ""
           },
           "baxis": {
            "gridcolor": "white",
            "linecolor": "white",
            "ticks": ""
           },
           "bgcolor": "#E5ECF6",
           "caxis": {
            "gridcolor": "white",
            "linecolor": "white",
            "ticks": ""
           }
          },
          "title": {
           "x": 0.05
          },
          "xaxis": {
           "automargin": true,
           "gridcolor": "white",
           "linecolor": "white",
           "ticks": "",
           "title": {
            "standoff": 15
           },
           "zerolinecolor": "white",
           "zerolinewidth": 2
          },
          "yaxis": {
           "automargin": true,
           "gridcolor": "white",
           "linecolor": "white",
           "ticks": "",
           "title": {
            "standoff": 15
           },
           "zerolinecolor": "white",
           "zerolinewidth": 2
          }
         }
        },
        "title": {
         "text": "Cosine Similarity between categories"
        },
        "width": 800,
        "yaxis": {
         "autorange": "reversed"
        }
       }
      }
     },
     "metadata": {},
     "output_type": "display_data"
    }
   ],
   "source": [
    "\n",
    "# Create a heatmap\n",
    "fig = go.Figure(data=go.Heatmap(\n",
    "    z=similarity_matrix,\n",
    "    x=list(label_mapping),\n",
    "    y=list(label_mapping),\n",
    "    colorscale='reds',\n",
    "))\n",
    "fig.update_layout(\n",
    "    title=\"Cosine Similarity between categories\",\n",
    "    width=800,\n",
    "    height=800,\n",
    "    yaxis=dict(autorange='reversed')\n",
    ")\n",
    "fig.show()"
   ]
  },
  {
   "cell_type": "code",
   "execution_count": 195,
   "metadata": {},
   "outputs": [],
   "source": [
    "city_df = pd.read_csv(\"worldcities.csv\")"
   ]
  },
  {
   "cell_type": "code",
   "execution_count": 196,
   "metadata": {},
   "outputs": [
    {
     "data": {
      "text/html": [
       "<div>\n",
       "<style scoped>\n",
       "    .dataframe tbody tr th:only-of-type {\n",
       "        vertical-align: middle;\n",
       "    }\n",
       "\n",
       "    .dataframe tbody tr th {\n",
       "        vertical-align: top;\n",
       "    }\n",
       "\n",
       "    .dataframe thead th {\n",
       "        text-align: right;\n",
       "    }\n",
       "</style>\n",
       "<table border=\"1\" class=\"dataframe\">\n",
       "  <thead>\n",
       "    <tr style=\"text-align: right;\">\n",
       "      <th></th>\n",
       "      <th>distance</th>\n",
       "      <th>similarity</th>\n",
       "    </tr>\n",
       "  </thead>\n",
       "  <tbody>\n",
       "    <tr>\n",
       "      <th>distance</th>\n",
       "      <td>1.000000</td>\n",
       "      <td>0.067926</td>\n",
       "    </tr>\n",
       "    <tr>\n",
       "      <th>similarity</th>\n",
       "      <td>0.067926</td>\n",
       "      <td>1.000000</td>\n",
       "    </tr>\n",
       "  </tbody>\n",
       "</table>\n",
       "</div>"
      ],
      "text/plain": [
       "            distance  similarity\n",
       "distance    1.000000    0.067926\n",
       "similarity  0.067926    1.000000"
      ]
     },
     "execution_count": 196,
     "metadata": {},
     "output_type": "execute_result"
    }
   ],
   "source": [
    "distances = pd.DataFrame([\n",
    "        [\n",
    "            distance.distance(city_df[city_df[\"city\"]==a].loc[:,[\"lat\", \"lng\"]].values,city_df[city_df[\"city\"]==b].loc[:,[\"lat\", \"lng\"]].values).km\n",
    "            for b in label_mapping\n",
    "        ] \n",
    "        for a in label_mapping\n",
    "    ],\n",
    "    index=label_mapping,\n",
    "    columns=label_mapping\n",
    ")\n",
    "\n",
    "similarities = pd.DataFrame(similarity_matrix, index=label_mapping, columns=label_mapping)\n",
    "\n",
    "pairs = distances.reset_index().melt(id_vars=\"index\")\n",
    "pairs = pairs.rename(columns={\"index\":\"city1\",\"variable\":\"city2\",\"value\":\"distance\"})\n",
    "pairs[\"similarity\"] = similarities.reset_index().melt(id_vars=\"index\")[\"value\"]\n",
    "pairs[pairs[\"city1\"]!=pairs[\"city2\"]].corr(numeric_only=True)"
   ]
  },
  {
   "cell_type": "code",
   "execution_count": 198,
   "metadata": {},
   "outputs": [
    {
     "name": "stdout",
     "output_type": "stream",
     "text": [
      "\\begin{tabular}{lrrrr}\n",
      "\\toprule\n",
      " & Beijing & Nanjing & Shanghai & Xi’an \\\\\n",
      "\\midrule\n",
      "Beijing & 0.0 & 896.6 & 1066.7 & 911.5 \\\\\n",
      "Nanjing & 896.6 & 0.0 & 271.8 & 949.0 \\\\\n",
      "Shanghai & 1066.7 & 271.8 & 0.0 & 1220.8 \\\\\n",
      "Xi’an & 911.5 & 949.0 & 1220.8 & 0.0 \\\\\n",
      "\\bottomrule\n",
      "\\end{tabular}\n",
      "\n"
     ]
    }
   ],
   "source": [
    "print(\n",
    "    distances\n",
    "    .to_latex(float_format=\"%.1f\")\n",
    ")"
   ]
  },
  {
   "cell_type": "code",
   "execution_count": null,
   "metadata": {},
   "outputs": [],
   "source": []
  },
  {
   "cell_type": "code",
   "execution_count": 200,
   "metadata": {},
   "outputs": [],
   "source": [
    "np.random.seed(0)\n",
    "torch.manual_seed(0)\n",
    "\n",
    "cities = \"WORLD\"\n",
    "data = pd.read_csv(\n",
    "        f\"data/squares_{categories}_cats_{square_size}m{'_neighbors' if neighbors else ''}{'_checkins' if check_ins else ''}{'_'+cities if cities != 'DEFAULT' else ''}.csv\"\n",
    "    )\n",
    "data = data.loc[:, data.columns[6:]]\n",
    "\n",
    "dataset = GridDataset(data)\n",
    "full_loader = DataLoader(dataset, batch_size=batch_size, shuffle=True)\n",
    "train_data, val_data, test_data = torch.utils.data.random_split(\n",
    "    dataset, [0.7, 0.15, 0.15]\n",
    ")\n",
    "train_loader = DataLoader(train_data, batch_size=batch_size, shuffle=True)\n",
    "val_loader = DataLoader(val_data, batch_size=batch_size, shuffle=True)\n",
    "test_loader = DataLoader(test_data, batch_size=batch_size, shuffle=True)"
   ]
  },
  {
   "cell_type": "code",
   "execution_count": 201,
   "metadata": {},
   "outputs": [],
   "source": [
    "with torch.no_grad():\n",
    "    embeddings = torch.tensor([])\n",
    "    labels = []\n",
    "    for batch_data, batch_labels in test_loader:\n",
    "        embeddings = torch.cat((embeddings, encoder(batch_data)))\n",
    "        labels += batch_labels\n",
    "    labels = torch.tensor(labels)\n",
    "label_mapping = full_loader.dataset.label_mapping.keys()"
   ]
  },
  {
   "cell_type": "code",
   "execution_count": null,
   "metadata": {},
   "outputs": [
    {
     "data": {
      "application/vnd.plotly.v1+json": {
       "config": {
        "plotlyServerURL": "https://plot.ly"
       },
       "data": [
        {
         "colorscale": [
          [
           0,
           "rgb(23, 28, 66)"
          ],
          [
           0.09090909090909091,
           "rgb(41, 58, 143)"
          ],
          [
           0.18181818181818182,
           "rgb(11, 102, 189)"
          ],
          [
           0.2727272727272727,
           "rgb(69, 144, 185)"
          ],
          [
           0.36363636363636365,
           "rgb(142, 181, 194)"
          ],
          [
           0.45454545454545453,
           "rgb(210, 216, 219)"
          ],
          [
           0.5454545454545454,
           "rgb(230, 210, 204)"
          ],
          [
           0.6363636363636364,
           "rgb(213, 157, 137)"
          ],
          [
           0.7272727272727273,
           "rgb(196, 101, 72)"
          ],
          [
           0.8181818181818182,
           "rgb(172, 43, 36)"
          ],
          [
           0.9090909090909091,
           "rgb(120, 14, 40)"
          ],
          [
           1,
           "rgb(60, 9, 17)"
          ]
         ],
         "type": "heatmap",
         "x": [
          "Baghdad",
          "Bangalore",
          "Bangkok",
          "Beijing",
          "Bogotá",
          "Buenos Aires",
          "Cairo",
          "Chattogram",
          "Chicago",
          "Dar es Salaam",
          "Delhi",
          "Dhaka",
          "Guangzhou",
          "Hanoi",
          "Ho Chi Minh City",
          "Hong Kong",
          "Istanbul",
          "Jakarta",
          "Johannesburg",
          "Karachi",
          "Khartoum",
          "Kinshasa",
          "Kolkāta",
          "Kuala Lumpur",
          "Lagos",
          "Lahore",
          "Lima",
          "London",
          "Los Angeles",
          "Luanda",
          "Madrid",
          "Manila",
          "Mexico City",
          "Miami",
          "Moscow",
          "Mumbai",
          "Nagoya",
          "New York",
          "Paris",
          "Rio de Janeiro",
          "Riyadh",
          "Santiago",
          "Seoul",
          "Shanghai",
          "Shenzhen",
          "Surabaya",
          "São Paulo",
          "Tehran",
          "Tokyo",
          "Ōsaka"
         ],
         "y": [
          "Baghdad",
          "Bangalore",
          "Bangkok",
          "Beijing",
          "Bogotá",
          "Buenos Aires",
          "Cairo",
          "Chattogram",
          "Chicago",
          "Dar es Salaam",
          "Delhi",
          "Dhaka",
          "Guangzhou",
          "Hanoi",
          "Ho Chi Minh City",
          "Hong Kong",
          "Istanbul",
          "Jakarta",
          "Johannesburg",
          "Karachi",
          "Khartoum",
          "Kinshasa",
          "Kolkāta",
          "Kuala Lumpur",
          "Lagos",
          "Lahore",
          "Lima",
          "London",
          "Los Angeles",
          "Luanda",
          "Madrid",
          "Manila",
          "Mexico City",
          "Miami",
          "Moscow",
          "Mumbai",
          "Nagoya",
          "New York",
          "Paris",
          "Rio de Janeiro",
          "Riyadh",
          "Santiago",
          "Seoul",
          "Shanghai",
          "Shenzhen",
          "Surabaya",
          "São Paulo",
          "Tehran",
          "Tokyo",
          "Ōsaka"
         ],
         "z": [
          [
           1,
           0.22333291172981262,
           0.028130322694778442,
           0.23370230197906494,
           0.35597822070121765,
           0.37151604890823364,
           0.5307681560516357,
           0.003887737402692437,
           -0.16096341609954834,
           0.36978381872177124,
           0.1409875899553299,
           0.21206700801849365,
           0.18105143308639526,
           0.17500616610050201,
           0.18311616778373718,
           0.31186819076538086,
           -0.1117287203669548,
           -0.1165340319275856,
           0.3589976131916046,
           0.13962924480438232,
           0.1620643585920334,
           0.10686605423688889,
           0.3102285861968994,
           -0.02358034811913967,
           0.09602638334035873,
           0.2897070050239563,
           0.32254764437675476,
           -0.02539815381169319,
           -0.07503723353147507,
           0.4624210298061371,
           0.2875363826751709,
           0.060653652995824814,
           -0.026623040437698364,
           -0.1668872833251953,
           0.08737927675247192,
           0.11802821606397629,
           -0.06593849509954453,
           -0.007379291113466024,
           0.1753564029932022,
           -0.018477020785212517,
           -0.02436637319624424,
           0.3226299583911896,
           -0.05837051942944527,
           0.19690822064876556,
           0.1659528762102127,
           -0.0018774020718410611,
           0.018238550052046776,
           0.08209968358278275,
           0.12049806118011475,
           0.006347221322357655
          ],
          [
           0.22333291172981262,
           1.0000001192092896,
           -0.35700368881225586,
           -0.09015907347202301,
           0.5502417087554932,
           0.13081449270248413,
           0.10630182921886444,
           -0.07284387946128845,
           -0.07564055919647217,
           -0.12656420469284058,
           0.9003632664680481,
           0.04153357073664665,
           -0.01217409037053585,
           -0.20838959515094757,
           -0.06134219840168953,
           0.2018367350101471,
           0.10281509160995483,
           0.018546003848314285,
           0.12179286032915115,
           0.26561862230300903,
           -0.1251617819070816,
           -0.157335102558136,
           0.7613809108734131,
           -0.02715497650206089,
           -0.09560979157686234,
           0.06002005189657211,
           0.603175699710846,
           0.10911597311496735,
           -0.022993551567196846,
           -0.14643354713916779,
           0.3482886850833893,
           0.4107864499092102,
           0.10583969205617905,
           0.20657940208911896,
           0.010441324673593044,
           0.8402559161186218,
           0.001858610543422401,
           -0.006875147111713886,
           0.21202324330806732,
           0.038452982902526855,
           0.008841067552566528,
           0.31371936202049255,
           0.061806339770555496,
           -0.2168532758951187,
           -0.02491023577749729,
           0.10051652789115906,
           0.11670102179050446,
           -0.21004649996757507,
           -0.04570766165852547,
           0.008801220916211605
          ],
          [
           0.028130322694778442,
           -0.35700368881225586,
           1,
           0.06612217426300049,
           -0.057661235332489014,
           0.15998587012290955,
           0.20356722176074982,
           -0.014561312273144722,
           -0.1378776878118515,
           0.05587112158536911,
           -0.35727280378341675,
           0.1669454574584961,
           0.0877886489033699,
           0.5812678933143616,
           0.5988092422485352,
           0.164860799908638,
           -0.0944540947675705,
           0.2787734568119049,
           0.14547206461429596,
           0.23947425186634064,
           0.14643160998821259,
           -0.21826475858688354,
           -0.23688830435276031,
           0.6479100584983826,
           -0.021562298759818077,
           0.09071410447359085,
           -0.17729409039020538,
           -0.039241865277290344,
           -0.009125192649662495,
           0.12278468906879425,
           0.051310084760189056,
           -0.0017705722711980343,
           0.08970840275287628,
           -0.21412158012390137,
           0.03239321708679199,
           -0.38951751589775085,
           0.07786155492067337,
           -0.10899044573307037,
           -0.17144788801670074,
           -0.01734304241836071,
           0.03628290072083473,
           0.010441276244819164,
           0.19421930611133575,
           0.19613465666770935,
           0.05691644921898842,
           0.24995547533035278,
           0.14937211573123932,
           0.109542116522789,
           0.09713125973939896,
           0.04104256629943848
          ],
          [
           0.23370230197906494,
           -0.09015907347202301,
           0.06612217426300049,
           1,
           0.03676551580429077,
           0.2224302738904953,
           0.07571127265691757,
           0.05987398698925972,
           -0.09359339624643326,
           0.16392438113689423,
           -0.08630328625440598,
           0.14013399183750153,
           0.7656448483467102,
           0.349826842546463,
           0.2551577389240265,
           0.35942840576171875,
           -0.030732745304703712,
           -0.12441528588533401,
           0.020149219781160355,
           -0.08948064595460892,
           -0.04202759265899658,
           -0.09110336750745773,
           -0.08013638108968735,
           0.0075921593233942986,
           0.09179691970348358,
           0.020988788455724716,
           -0.09490709006786346,
           0.012669703923165798,
           -0.06565327197313309,
           0.09055027365684509,
           0.07519721239805222,
           0.0007178647210821509,
           -0.13363364338874817,
           -0.11712140589952469,
           -0.08466929197311401,
           -0.11679848283529282,
           0.07693356275558472,
           -0.03542079031467438,
           0.0288676880300045,
           -0.09740006178617477,
           -0.09032008051872253,
           0.06768599152565002,
           0.28820714354515076,
           0.8630003929138184,
           0.7938072085380554,
           -0.10761863738298416,
           -0.06594598293304443,
           -0.09302721172571182,
           0.0044683595187962055,
           0.01769474893808365
          ],
          [
           0.35597822070121765,
           0.5502417087554932,
           -0.057661235332489014,
           0.03676551580429077,
           1,
           0.6175544261932373,
           0.2730489671230316,
           -0.2755891978740692,
           -0.15916301310062408,
           -0.09036637842655182,
           0.4127148985862732,
           -0.0520944744348526,
           0.13937819004058838,
           0.1412849724292755,
           0.3728506863117218,
           0.5226092338562012,
           0.24949540197849274,
           -0.03585813567042351,
           0.2414882481098175,
           0.07332592457532883,
           -0.05817171558737755,
           0.014112839475274086,
           0.335512638092041,
           0.213148832321167,
           -0.2530486285686493,
           -0.16705122590065002,
           0.6655687093734741,
           -0.03697356954216957,
           -0.14092886447906494,
           -0.041580311954021454,
           0.5535926818847656,
           0.3212381899356842,
           0.2044582962989807,
           -0.08118823170661926,
           0.10943390429019928,
           0.4172755479812622,
           -0.09357433021068573,
           0.03674258291721344,
           0.05215637385845184,
           0.14206010103225708,
           -0.01510709524154663,
           0.6086181998252869,
           0.23621992766857147,
           0.056793212890625,
           0.10568839311599731,
           0.05018531531095505,
           0.3441617488861084,
           -0.15541702508926392,
           -0.038958773016929626,
           -0.05693243443965912
          ],
          [
           0.37151604890823364,
           0.13081449270248413,
           0.15998587012290955,
           0.2224302738904953,
           0.6175544261932373,
           1.0000001192092896,
           0.27516716718673706,
           -0.2523117661476135,
           -0.050665728747844696,
           0.05913053825497627,
           -0.03350061923265457,
           0.27026358246803284,
           0.08630726486444473,
           0.3809151351451874,
           0.40108954906463623,
           0.6284514665603638,
           0.2189391702413559,
           -0.12107764184474945,
           0.12907911837100983,
           0.2510133385658264,
           -0.004703674465417862,
           0.010759815573692322,
           0.22561326622962952,
           0.32479310035705566,
           -0.1788644790649414,
           0.07598291337490082,
           0.32443058490753174,
           0.078241728246212,
           -0.033689819276332855,
           0.10178360342979431,
           0.6074780225753784,
           0.1979409158229828,
           0.1928916871547699,
           -0.12344039231538773,
           0.09152988344430923,
           0.07228472083806992,
           0.15622815489768982,
           0.21405938267707825,
           0.3753640651702881,
           0.4127237796783447,
           0.01576291024684906,
           0.4810014069080353,
           0.30245357751846313,
           0.26112109422683716,
           0.09756437689065933,
           -0.056913189589977264,
           0.49505287408828735,
           0.2708964943885803,
           0.21402829885482788,
           0.19602732360363007
          ],
          [
           0.5307681560516357,
           0.10630182921886444,
           0.20356722176074982,
           0.07571127265691757,
           0.2730489671230316,
           0.27516716718673706,
           0.9999999403953552,
           -0.05301322788000107,
           -0.07853484898805618,
           0.28089356422424316,
           0.07085675746202469,
           0.30896681547164917,
           0.1353641003370285,
           0.29596808552742004,
           0.3061392307281494,
           0.2197575867176056,
           0.11061475425958633,
           -0.2332652509212494,
           0.5422086715698242,
           0.26133859157562256,
           0.38320428133010864,
           0.06261160969734192,
           0.14183366298675537,
           -0.11531433463096619,
           0.024304024875164032,
           0.2839941382408142,
           0.28855887055397034,
           -0.008663704618811607,
           0.05387737601995468,
           0.11895748227834702,
           0.1529662311077118,
           -0.19382266700267792,
           0.07722155749797821,
           -0.022230006754398346,
           0.0716143399477005,
           -0.08942694962024689,
           -0.10575616359710693,
           -0.08162717521190643,
           -0.09138055145740509,
           -0.08647029101848602,
           0.15985971689224243,
           0.20088516175746918,
           -0.03071514330804348,
           0.10913709551095963,
           0.1518712341785431,
           -0.17279891669750214,
           -0.014841139316558838,
           0.20515096187591553,
           -0.05371103808283806,
           -0.07836976647377014
          ],
          [
           0.003887737402692437,
           -0.07284387946128845,
           -0.014561312273144722,
           0.05987398698925972,
           -0.2755891978740692,
           -0.2523117661476135,
           -0.05301322788000107,
           1,
           0.034255918115377426,
           0.128747820854187,
           -0.05812886357307434,
           0.18802276253700256,
           0.10137908160686493,
           -0.1883576363325119,
           -0.19341535866260529,
           -0.26698681712150574,
           -0.05552629381418228,
           0.20358620584011078,
           0.09936888515949249,
           0.01468733325600624,
           0.186215341091156,
           0.21833673119544983,
           -0.027727443724870682,
           -0.06123504042625427,
           0.48508840799331665,
           0.3041148781776428,
           -0.06775519996881485,
           -0.09597714245319366,
           -0.0786859393119812,
           0.18235352635383606,
           -0.3331996202468872,
           -0.1676437109708786,
           -0.04546670615673065,
           -0.06561002135276794,
           -0.14691400527954102,
           -0.08578582853078842,
           -0.07779689133167267,
           -0.09818796813488007,
           -0.06392470002174377,
           0.0653412714600563,
           -0.04463624581694603,
           0.040957529097795486,
           -0.2427608221769333,
           -0.0015507489442825317,
           0.08539756387472153,
           0.1995798945426941,
           -0.07691245526075363,
           0.13675054907798767,
           -0.05612724646925926,
           -0.06612145155668259
          ],
          [
           -0.16096341609954834,
           -0.07564055919647217,
           -0.1378776878118515,
           -0.09359339624643326,
           -0.15916301310062408,
           -0.050665728747844696,
           -0.07853484898805618,
           0.034255918115377426,
           0.9999999403953552,
           -0.021695062518119812,
           0.02285962551832199,
           0.14348500967025757,
           -0.18204548954963684,
           -0.2778761684894562,
           -0.3178085386753082,
           -0.11626706272363663,
           -0.01846485584974289,
           0.04085608571767807,
           -0.053498074412345886,
           -0.05494614318013191,
           -0.1535973846912384,
           0.04479580372571945,
           -0.07636462152004242,
           -0.08321751654148102,
           0.039078257977962494,
           -0.15735457837581635,
           -0.07065515220165253,
           -0.016598926857113838,
           0.655454695224762,
           0.039088085293769836,
           -0.06481444090604782,
           0.10014176368713379,
           0.05515877157449722,
           0.7844170928001404,
           0.09386105090379715,
           0.11649444699287415,
           0.10607779771089554,
           0.6686475872993469,
           0.09685348719358444,
           -0.004199526272714138,
           -0.16194164752960205,
           -0.1104993000626564,
           -0.004826413933187723,
           -0.20235422253608704,
           -0.19060102105140686,
           -0.04319092258810997,
           -0.08879169076681137,
           0.09268136322498322,
           0.1837165206670761,
           0.10208804905414581
          ],
          [
           0.36978381872177124,
           -0.12656420469284058,
           0.05587112158536911,
           0.16392438113689423,
           -0.09036637842655182,
           0.05913053825497627,
           0.28089356422424316,
           0.128747820854187,
           -0.021695062518119812,
           1,
           -0.021997418254613876,
           0.31584492325782776,
           0.2288152575492859,
           0.06509318947792053,
           -0.025256849825382233,
           0.02189759910106659,
           -0.18866512179374695,
           -0.11445154249668121,
           0.2634926736354828,
           0.1678430140018463,
           0.1703779250383377,
           0.13731195032596588,
           0.09441166371107101,
           -0.11471652239561081,
           0.19658668339252472,
           0.1086406484246254,
           -0.06836214661598206,
           -0.11965000629425049,
           -0.01922544836997986,
           0.21983732283115387,
           0.03314449265599251,
           -0.05459068343043327,
           -0.1404508650302887,
           -0.11289829760789871,
           0.12893855571746826,
           -0.16676224768161774,
           0.016221242025494576,
           -0.02477068454027176,
           0.05456257238984108,
           0.09304623305797577,
           -0.11771330237388611,
           0.03791150450706482,
           0.038529977202415466,
           0.13768497109413147,
           0.14935407042503357,
           -0.09657760709524155,
           0.07081420719623566,
           0.13761131465435028,
           -0.014742860570549965,
           -0.03475625813007355
          ],
          [
           0.1409875899553299,
           0.9003632664680481,
           -0.35727280378341675,
           -0.08630328625440598,
           0.4127148985862732,
           -0.03350061923265457,
           0.07085675746202469,
           -0.05812886357307434,
           0.02285962551832199,
           -0.021997418254613876,
           1,
           0.07140615582466125,
           0.006458907388150692,
           -0.16835011541843414,
           -0.056324899196624756,
           0.13699811697006226,
           0.10211654007434845,
           0.05939652770757675,
           0.0698382705450058,
           0.22511497139930725,
           -0.13583114743232727,
           -0.18091827630996704,
           0.6521430611610413,
           -0.09497565776109695,
           -0.14075182378292084,
           0.05565386265516281,
           0.4798392951488495,
           0.23867343366146088,
           0.06826043874025345,
           -0.17561963200569153,
           0.2855278551578522,
           0.4012642204761505,
           0.026813805103302002,
           0.34711313247680664,
           0.03856152296066284,
           0.8108221888542175,
           0.02678322233259678,
           0.000039312566514126956,
           0.11506686359643936,
           -0.13098905980587006,
           -0.0408182330429554,
           0.10512808710336685,
           0.05865342542529106,
           -0.170262411236763,
           0.014925568364560604,
           0.11722631752490997,
           -0.04569268971681595,
           -0.26943716406822205,
           -0.02320161648094654,
           0.0045692166313529015
          ],
          [
           0.21206700801849365,
           0.04153357073664665,
           0.1669454574584961,
           0.14013399183750153,
           -0.0520944744348526,
           0.27026358246803284,
           0.30896681547164917,
           0.18802276253700256,
           0.14348500967025757,
           0.31584492325782776,
           0.07140615582466125,
           0.9999998807907104,
           0.08506560325622559,
           0.271647572517395,
           0.14236688613891602,
           0.2552771270275116,
           0.02593671716749668,
           0.0655846893787384,
           0.06551283597946167,
           0.4204752445220947,
           0.36609312891960144,
           0.24805386364459991,
           0.15098434686660767,
           0.20553460717201233,
           0.056797269731760025,
           0.18252302706241608,
           -0.2324991077184677,
           0.046264201402664185,
           -0.0760437473654747,
           0.06867694109678268,
           -0.1578812152147293,
           0.057147156447172165,
           -0.2633536756038666,
           -0.015109186060726643,
           0.13485537469387054,
           0.08444452285766602,
           0.10046319663524628,
           -0.05270553007721901,
           -0.06759937852621078,
           0.10151482373476028,
           0.06375724822282791,
           0.10871175676584244,
           0.08928515762090683,
           0.11987505108118057,
           0.10462209582328796,
           0.05499251186847687,
           0.11117982119321823,
           0.4828258454799652,
           0.02259361557662487,
           0.06276031583547592
          ],
          [
           0.18105143308639526,
           -0.01217409037053585,
           0.0877886489033699,
           0.7656448483467102,
           0.13937819004058838,
           0.08630726486444473,
           0.1353641003370285,
           0.10137908160686493,
           -0.18204548954963684,
           0.2288152575492859,
           0.006458907388150692,
           0.08506560325622559,
           1.0000001192092896,
           0.40963631868362427,
           0.412387877702713,
           0.39276206493377686,
           -0.02352152392268181,
           0.024301797151565552,
           0.020752474665641785,
           -0.035210080444812775,
           -0.08319544792175293,
           -0.03500409424304962,
           -0.03861237317323685,
           0.057443682104349136,
           0.0027606089133769274,
           -0.024932079017162323,
           -0.0723448395729065,
           -0.06844885647296906,
           -0.15313170850276947,
           0.06958454102277756,
           0.02094261534512043,
           -0.0006494412082247436,
           -0.2285355180501938,
           -0.17862549424171448,
           -0.16583490371704102,
           -0.08056163042783737,
           -0.09957025945186615,
           -0.163482204079628,
           -0.14351843297481537,
           -0.03942522034049034,
           0.02440735697746277,
           0.1480068415403366,
           0.33308836817741394,
           0.7486122846603394,
           0.8771148324012756,
           0.04431045427918434,
           0.02206132374703884,
           -0.17074227333068848,
           -0.17407763004302979,
           -0.1253754049539566
          ],
          [
           0.17500616610050201,
           -0.20838959515094757,
           0.5812678933143616,
           0.349826842546463,
           0.1412849724292755,
           0.3809151351451874,
           0.29596808552742004,
           -0.1883576363325119,
           -0.2778761684894562,
           0.06509318947792053,
           -0.16835011541843414,
           0.271647572517395,
           0.40963631868362427,
           1,
           0.8527734875679016,
           0.6132488250732422,
           0.13261015713214874,
           0.024058088660240173,
           -0.12377143651247025,
           0.34456580877304077,
           0.16795434057712555,
           -0.18747693300247192,
           -0.19892755150794983,
           0.5389285683631897,
           -0.2925865054130554,
           0.016084298491477966,
           -0.20684587955474854,
           0.08408825099468231,
           -0.17640723288059235,
           0.12405388802289963,
           0.1986149251461029,
           0.026766739785671234,
           -0.06876593083143234,
           -0.28851884603500366,
           -0.1068505123257637,
           -0.25547870993614197,
           0.04272175580263138,
           -0.1643465906381607,
           -0.1608639657497406,
           -0.10720770806074142,
           0.285751610994339,
           -0.03722173720598221,
           0.4835982918739319,
           0.5541983246803284,
           0.40435290336608887,
           0.021280448883771896,
           0.07239461690187454,
           0.13613402843475342,
           0.0005035780486650765,
           0.013604909181594849
          ],
          [
           0.18311616778373718,
           -0.06134219840168953,
           0.5988092422485352,
           0.2551577389240265,
           0.3728506863117218,
           0.40108954906463623,
           0.3061392307281494,
           -0.19341535866260529,
           -0.3178085386753082,
           -0.025256849825382233,
           -0.056324899196624756,
           0.14236688613891602,
           0.412387877702713,
           0.8527734875679016,
           1.0000001192092896,
           0.6235948801040649,
           0.14315274357795715,
           0.09598477184772491,
           0.05730167776346207,
           0.3352981507778168,
           0.17857855558395386,
           -0.16801097989082336,
           -0.09997545182704926,
           0.5748225450515747,
           -0.3015133738517761,
           -0.04655080288648605,
           -0.05013188347220421,
           0.07890859991312027,
           -0.15026849508285522,
           0.00402573449537158,
           0.32696184515953064,
           0.08641424030065536,
           -0.08543138206005096,
           -0.24163596332073212,
           -0.12297414243221283,
           -0.14848819375038147,
           -0.017121020704507828,
           -0.09671587496995926,
           -0.1411207914352417,
           -0.024017982184886932,
           0.26826831698417664,
           0.11129922419786453,
           0.4998854994773865,
           0.4221351444721222,
           0.37127885222435,
           0.10074108093976974,
           0.23132620751857758,
           0.031057486310601234,
           -0.03720906004309654,
           -0.04066884145140648
          ],
          [
           0.31186819076538086,
           0.2018367350101471,
           0.164860799908638,
           0.35942840576171875,
           0.5226092338562012,
           0.6284514665603638,
           0.2197575867176056,
           -0.26698681712150574,
           -0.11626706272363663,
           0.02189759910106659,
           0.13699811697006226,
           0.2552771270275116,
           0.39276206493377686,
           0.6132488250732422,
           0.6235948801040649,
           1,
           0.16525527834892273,
           -0.09391187131404877,
           -0.08537579327821732,
           0.3395672142505646,
           -0.05529789254069328,
           -0.03966269642114639,
           0.07392618060112,
           0.40975189208984375,
           -0.291823148727417,
           -0.1554177850484848,
           -0.0021278243511915207,
           0.04152848944067955,
           -0.12118204683065414,
           0.0960409864783287,
           0.29782480001449585,
           0.2935400605201721,
           -0.04644060134887695,
           -0.1645178198814392,
           -0.11791501194238663,
           0.23350323736667633,
           0.14887411892414093,
           0.07520150393247604,
           -0.06310626119375229,
           0.18963131308555603,
           -0.04839980602264404,
           0.2706972062587738,
           0.5497119426727295,
           0.5094810128211975,
           0.38810309767723083,
           -0.08880257606506348,
           0.3725031912326813,
           -0.04852714017033577,
           0.0664508193731308,
           0.16819363832473755
          ],
          [
           -0.1117287203669548,
           0.10281509160995483,
           -0.0944540947675705,
           -0.030732745304703712,
           0.24949540197849274,
           0.2189391702413559,
           0.11061475425958633,
           -0.05552629381418228,
           -0.01846485584974289,
           -0.18866512179374695,
           0.10211654007434845,
           0.02593671716749668,
           -0.02352152392268181,
           0.13261015713214874,
           0.14315274357795715,
           0.16525527834892273,
           1.0000001192092896,
           0.04963558167219162,
           0.03537812829017639,
           0.1061093732714653,
           0.17161531746387482,
           -0.09950754791498184,
           0.011819320730865002,
           0.08178520947694778,
           0.0683685839176178,
           0.2028016597032547,
           0.06980203092098236,
           -0.039117153733968735,
           -0.09111388772726059,
           -0.05703027918934822,
           0.05449443683028221,
           0.07301969081163406,
           -0.12222511321306229,
           0.0023626212496310472,
           -0.10104922950267792,
           0.11266081035137177,
           0.06003580614924431,
           -0.03407329320907593,
           -0.010447941720485687,
           0.03939639404416084,
           0.0687519758939743,
           0.2346542924642563,
           0.07449641823768616,
           0.156785786151886,
           0.06876252591609955,
           0.11974694579839706,
           0.017114434391260147,
           0.08839762955904007,
           0.04925035312771797,
           0.07151412963867188
          ],
          [
           -0.1165340319275856,
           0.018546003848314285,
           0.2787734568119049,
           -0.12441528588533401,
           -0.03585813567042351,
           -0.12107764184474945,
           -0.2332652509212494,
           0.20358620584011078,
           0.04085608571767807,
           -0.11445154249668121,
           0.05939652770757675,
           0.0655846893787384,
           0.024301797151565552,
           0.024058088660240173,
           0.09598477184772491,
           -0.09391187131404877,
           0.04963558167219162,
           1.0000001192092896,
           -0.005816224962472916,
           -0.03607045114040375,
           -0.12896378338336945,
           -0.013202104717493057,
           -0.0873175635933876,
           0.4569052755832672,
           0.20427319407463074,
           -0.10623487830162048,
           -0.043074607849121094,
           0.0018123055342584848,
           -0.0017660966841503978,
           0.17978717386722565,
           -0.1130627766251564,
           0.38916918635368347,
           -0.09379637241363525,
           0.06614749133586884,
           0.011509479954838753,
           0.15040430426597595,
           -0.0090536680072546,
           0.015918336808681488,
           -0.0035674814134836197,
           0.11250625550746918,
           -0.03860143572092056,
           0.16231893002986908,
           0.07364588230848312,
           -0.1074565127491951,
           -0.10054754465818405,
           0.9531945586204529,
           0.15797032415866852,
           -0.17721739411354065,
           0.03284243866801262,
           -0.0007994159823283553
          ],
          [
           0.3589976131916046,
           0.12179286032915115,
           0.14547206461429596,
           0.020149219781160355,
           0.2414882481098175,
           0.12907911837100983,
           0.5422086715698242,
           0.09936888515949249,
           -0.053498074412345886,
           0.2634926736354828,
           0.0698382705450058,
           0.06551283597946167,
           0.020752474665641785,
           -0.12377143651247025,
           0.05730167776346207,
           -0.08537579327821732,
           0.03537812829017639,
           -0.005816224962472916,
           1,
           0.07096946984529495,
           0.17772547900676727,
           0.0948217585682869,
           0.1758822351694107,
           -0.10443571954965591,
           0.24605780839920044,
           0.19253703951835632,
           0.3257509171962738,
           0.0250868983566761,
           0.06858629733324051,
           0.3029443025588989,
           0.18664240837097168,
           -0.19984886050224304,
           -0.05980059504508972,
           0.05446803942322731,
           -0.024179747328162193,
           -0.09264969080686569,
           -0.09814150631427765,
           -0.040118660777807236,
           0.020941685885190964,
           0.12668845057487488,
           -0.06096737086772919,
           0.34648415446281433,
           -0.16683603823184967,
           -0.09687472879886627,
           0.01905776560306549,
           0.018389057368040085,
           0.1435888558626175,
           -0.004655030090361834,
           -0.03227759525179863,
           -0.08397573977708817
          ],
          [
           0.13962924480438232,
           0.26561862230300903,
           0.23947425186634064,
           -0.08948064595460892,
           0.07332592457532883,
           0.2510133385658264,
           0.26133859157562256,
           0.01468733325600624,
           -0.05494614318013191,
           0.1678430140018463,
           0.22511497139930725,
           0.4204752445220947,
           -0.035210080444812775,
           0.34456580877304077,
           0.3352981507778168,
           0.3395672142505646,
           0.1061093732714653,
           -0.03607045114040375,
           0.07096946984529495,
           1,
           0.28037068247795105,
           0.033537495881319046,
           0.40823259949684143,
           0.28752636909484863,
           -0.0894995853304863,
           0.11557408422231674,
           -0.13642317056655884,
           -0.08948119729757309,
           -0.1330118477344513,
           0.03797369450330734,
           0.06830991059541702,
           0.28864333033561707,
           -0.0699649527668953,
           -0.07607509940862656,
           0.0154902758076787,
           0.2588965594768524,
           0.4049748480319977,
           -0.017818758264183998,
           0.16924706101417542,
           0.15597528219223022,
           0.31185799837112427,
           -0.06829257309436798,
           0.3628631830215454,
           -0.019171811640262604,
           0.06924237310886383,
           -0.0499204657971859,
           0.13478341698646545,
           0.3043724000453949,
           0.2272380292415619,
           0.31638726592063904
          ],
          [
           0.1620643585920334,
           -0.1251617819070816,
           0.14643160998821259,
           -0.04202759265899658,
           -0.05817171558737755,
           -0.004703674465417862,
           0.38320428133010864,
           0.186215341091156,
           -0.1535973846912384,
           0.1703779250383377,
           -0.13583114743232727,
           0.36609312891960144,
           -0.08319544792175293,
           0.16795434057712555,
           0.17857855558395386,
           -0.05529789254069328,
           0.17161531746387482,
           -0.12896378338336945,
           0.17772547900676727,
           0.28037068247795105,
           1,
           0.16510644555091858,
           -0.09155738353729248,
           -0.0050989482551813126,
           0.1413331925868988,
           0.2583767771720886,
           -0.12845999002456665,
           -0.0714709535241127,
           -0.08646677434444427,
           0.10725243389606476,
           -0.13097508251667023,
           -0.16616825759410858,
           -0.11319738626480103,
           -0.20539450645446777,
           -0.02941320091485977,
           -0.15769721567630768,
           -0.11316581815481186,
           -0.08303293585777283,
           -0.0984317883849144,
           -0.04047100991010666,
           0.3966561257839203,
           -0.045642025768756866,
           -0.01643872633576393,
           0.06883706897497177,
           0.014276270754635334,
           -0.08910515159368515,
           0.04413862153887749,
           0.44780221581459045,
           -0.10177893936634064,
           -0.12183328717947006
          ],
          [
           0.10686605423688889,
           -0.157335102558136,
           -0.21826475858688354,
           -0.09110336750745773,
           0.014112839475274086,
           0.010759815573692322,
           0.06261160969734192,
           0.21833673119544983,
           0.04479580372571945,
           0.13731195032596588,
           -0.18091827630996704,
           0.24805386364459991,
           -0.03500409424304962,
           -0.18747693300247192,
           -0.16801097989082336,
           -0.03966269642114639,
           -0.09950754791498184,
           -0.013202104717493057,
           0.0948217585682869,
           0.033537495881319046,
           0.16510644555091858,
           1,
           -0.02935207262635231,
           -0.1093040406703949,
           0.206142395734787,
           -0.04552372545003891,
           -0.11031614243984222,
           -0.16593718528747559,
           -0.06709811091423035,
           0.15710583329200745,
           -0.22458840906620026,
           -0.19935400784015656,
           -0.16749930381774902,
           -0.09407166391611099,
           0.0439852811396122,
           -0.18596528470516205,
           -0.09922485798597336,
           -0.026780618354678154,
           -0.061777450144290924,
           0.23828525841236115,
           -0.15246166288852692,
           0.14487920701503754,
           -0.2057836502790451,
           -0.14298780262470245,
           0.010557995177805424,
           -0.04610634967684746,
           0.054530393332242966,
           0.17938992381095886,
           -0.06753552705049515,
           -0.060463517904281616
          ],
          [
           0.3102285861968994,
           0.7613809108734131,
           -0.23688830435276031,
           -0.08013638108968735,
           0.335512638092041,
           0.22561326622962952,
           0.14183366298675537,
           -0.027727443724870682,
           -0.07636462152004242,
           0.09441166371107101,
           0.6521430611610413,
           0.15098434686660767,
           -0.03861237317323685,
           -0.19892755150794983,
           -0.09997545182704926,
           0.07392618060112,
           0.011819320730865002,
           -0.0873175635933876,
           0.1758822351694107,
           0.40823259949684143,
           -0.09155738353729248,
           -0.02935207262635231,
           0.9999998807907104,
           -0.05827600508928299,
           -0.09137376397848129,
           0.27672070264816284,
           0.4903058707714081,
           0.035686854273080826,
           0.03041132353246212,
           -0.0836382731795311,
           0.3604140877723694,
           0.4158417284488678,
           -0.013951331377029419,
           0.1521921157836914,
           0.16904468834400177,
           0.6153852939605713,
           0.11580239981412888,
           0.0384833849966526,
           0.48380112648010254,
           0.225209578871727,
           0.045127011835575104,
           0.29656729102134705,
           -0.036128826439380646,
           -0.24108265340328217,
           -0.002860100008547306,
           0.050304632633924484,
           0.11369641870260239,
           0.0790243074297905,
           0.14698465168476105,
           0.12256010621786118
          ],
          [
           -0.02358034811913967,
           -0.02715497650206089,
           0.6479100584983826,
           0.0075921593233942986,
           0.213148832321167,
           0.32479310035705566,
           -0.11531433463096619,
           -0.06123504042625427,
           -0.08321751654148102,
           -0.11471652239561081,
           -0.09497565776109695,
           0.20553460717201233,
           0.057443682104349136,
           0.5389285683631897,
           0.5748225450515747,
           0.40975189208984375,
           0.08178520947694778,
           0.4569052755832672,
           -0.10443571954965591,
           0.28752636909484863,
           -0.0050989482551813126,
           -0.1093040406703949,
           -0.05827600508928299,
           0.9999998211860657,
           -0.09335051476955414,
           -0.10893984138965607,
           -0.04722610488533974,
           0.030831944197416306,
           -0.05076414719223976,
           0.06672228127717972,
           0.17503662407398224,
           0.3609437942504883,
           0.03506569564342499,
           -0.1715242713689804,
           -0.01107094157487154,
           0.06824454665184021,
           0.22486688196659088,
           0.07669927179813385,
           0.0033423665445297956,
           0.16314491629600525,
           -0.028837505728006363,
           0.2818596363067627,
           0.49084022641181946,
           0.14715830981731415,
           -0.06170126423239708,
           0.4258708953857422,
           0.3564806878566742,
           0.016954531893134117,
           0.24347807466983795,
           0.25469693541526794
          ],
          [
           0.09602638334035873,
           -0.09560979157686234,
           -0.021562298759818077,
           0.09179691970348358,
           -0.2530486285686493,
           -0.1788644790649414,
           0.024304024875164032,
           0.48508840799331665,
           0.039078257977962494,
           0.19658668339252472,
           -0.14075182378292084,
           0.056797269731760025,
           0.0027606089133769274,
           -0.2925865054130554,
           -0.3015133738517761,
           -0.291823148727417,
           0.0683685839176178,
           0.20427319407463074,
           0.24605780839920044,
           -0.0894995853304863,
           0.1413331925868988,
           0.206142395734787,
           -0.09137376397848129,
           -0.09335051476955414,
           0.9999998211860657,
           0.25862228870391846,
           -0.045032646507024765,
           -0.18255339562892914,
           -0.10614465922117233,
           0.2496263086795807,
           -0.25278782844543457,
           -0.21841493248939514,
           -0.08826187252998352,
           -0.10352335125207901,
           -0.12852925062179565,
           -0.11237594485282898,
           0.051726602017879486,
           -0.11776275187730789,
           -0.0707377940416336,
           0.12037716805934906,
           -0.16186927258968353,
           0.16696883738040924,
           -0.19216583669185638,
           -0.006225817371159792,
           -0.0456480011343956,
           0.20583300292491913,
           0.018050482496619225,
           -0.11448948085308075,
           -0.07861309498548508,
           0.0011348077096045017
          ],
          [
           0.2897070050239563,
           0.06002005189657211,
           0.09071410447359085,
           0.020988788455724716,
           -0.16705122590065002,
           0.07598291337490082,
           0.2839941382408142,
           0.3041148781776428,
           -0.15735457837581635,
           0.1086406484246254,
           0.05565386265516281,
           0.18252302706241608,
           -0.024932079017162323,
           0.016084298491477966,
           -0.04655080288648605,
           -0.1554177850484848,
           0.2028016597032547,
           -0.10623487830162048,
           0.19253703951835632,
           0.11557408422231674,
           0.2583767771720886,
           -0.04552372545003891,
           0.27672070264816284,
           -0.10893984138965607,
           0.25862228870391846,
           1,
           0.14945922791957855,
           0.05567120388150215,
           0.16229185461997986,
           0.16740797460079193,
           0.06896068900823593,
           -0.18860992789268494,
           0.024571826681494713,
           -0.014584466814994812,
           -0.17974145710468292,
           -0.09644203633069992,
           -0.05029026418924332,
           -0.08946419507265091,
           0.1940915882587433,
           0.07007261365652084,
           0.1338319629430771,
           0.04185120016336441,
           -0.3893783390522003,
           0.08300840109586716,
           -0.003360473085194826,
           0.07004661113023758,
           -0.04053766280412674,
           0.3717690706253052,
           0.06531042605638504,
           -0.007997419685125351
          ],
          [
           0.32254764437675476,
           0.603175699710846,
           -0.17729409039020538,
           -0.09490709006786346,
           0.6655687093734741,
           0.32443058490753174,
           0.28855887055397034,
           -0.06775519996881485,
           -0.07065515220165253,
           -0.06836214661598206,
           0.4798392951488495,
           -0.2324991077184677,
           -0.0723448395729065,
           -0.20684587955474854,
           -0.05013188347220421,
           -0.0021278243511915207,
           0.06980203092098236,
           -0.043074607849121094,
           0.3257509171962738,
           -0.13642317056655884,
           -0.12845999002456665,
           -0.11031614243984222,
           0.4903058707714081,
           -0.04722610488533974,
           -0.045032646507024765,
           0.14945922791957855,
           1,
           0.06051838397979736,
           0.02432914637029171,
           -0.02968686819076538,
           0.5860508680343628,
           0.2156957983970642,
           0.511536717414856,
           0.11773020774126053,
           0.186417818069458,
           0.4460611939430237,
           -0.10403797775506973,
           0.03438644856214523,
           0.26531097292900085,
           0.07548531889915466,
           -0.11127679795026779,
           0.5293091535568237,
           -0.0877937451004982,
           -0.19900965690612793,
           -0.10127847641706467,
           0.07157201319932938,
           0.13387739658355713,
           -0.15807875990867615,
           0.08060579001903534,
           -0.0052822791039943695
          ],
          [
           -0.02539815381169319,
           0.10911597311496735,
           -0.039241865277290344,
           0.012669703923165798,
           -0.03697356954216957,
           0.078241728246212,
           -0.008663704618811607,
           -0.09597714245319366,
           -0.016598926857113838,
           -0.11965000629425049,
           0.23867343366146088,
           0.046264201402664185,
           -0.06844885647296906,
           0.08408825099468231,
           0.07890859991312027,
           0.04152848944067955,
           -0.039117153733968735,
           0.0018123055342584848,
           0.0250868983566761,
           -0.08948119729757309,
           -0.0714709535241127,
           -0.16593718528747559,
           0.035686854273080826,
           0.030831944197416306,
           -0.18255339562892914,
           0.05567120388150215,
           0.06051838397979736,
           0.9999999403953552,
           0.1671542525291443,
           0.017372122034430504,
           0.32399696111679077,
           -0.08209627121686935,
           -0.007432535290718079,
           0.3123573362827301,
           -0.04584865644574165,
           0.13079527020454407,
           0.05002674087882042,
           0.24619968235492706,
           0.3377246856689453,
           -0.06682839244604111,
           0.006808949168771505,
           -0.004510753322392702,
           0.04172578454017639,
           0.029562022536993027,
           -0.0938953384757042,
           -0.023894445970654488,
           -0.049511365592479706,
           -0.015501157380640507,
           0.285138338804245,
           0.15870292484760284
          ],
          [
           -0.07503723353147507,
           -0.022993551567196846,
           -0.009125192649662495,
           -0.06565327197313309,
           -0.14092886447906494,
           -0.033689819276332855,
           0.05387737601995468,
           -0.0786859393119812,
           0.655454695224762,
           -0.01922544836997986,
           0.06826043874025345,
           -0.0760437473654747,
           -0.15313170850276947,
           -0.17640723288059235,
           -0.15026849508285522,
           -0.12118204683065414,
           -0.09111388772726059,
           -0.0017660966841503978,
           0.06858629733324051,
           -0.1330118477344513,
           -0.08646677434444427,
           -0.06709811091423035,
           0.03041132353246212,
           -0.05076414719223976,
           -0.10614465922117233,
           0.16229185461997986,
           0.02432914637029171,
           0.1671542525291443,
           1.0000001192092896,
           0.004798203706741333,
           0.17639711499214172,
           0.012117214500904083,
           0.03369925543665886,
           0.7812533974647522,
           -0.008924621157348156,
           -0.007947731763124466,
           -0.0016278462717309594,
           0.7492115497589111,
           0.27669093012809753,
           0.050417739897966385,
           -0.037048108875751495,
           -0.11720121651887894,
           -0.06166768819093704,
           -0.1346714347600937,
           -0.14280518889427185,
           0.002980196150019765,
           -0.010328846052289009,
           0.08388080447912216,
           0.1416449099779129,
           0.01573977619409561
          ],
          [
           0.4624210298061371,
           -0.14643354713916779,
           0.12278468906879425,
           0.09055027365684509,
           -0.041580311954021454,
           0.10178360342979431,
           0.11895748227834702,
           0.18235352635383606,
           0.039088085293769836,
           0.21983732283115387,
           -0.17561963200569153,
           0.06867694109678268,
           0.06958454102277756,
           0.12405388802289963,
           0.00402573449537158,
           0.0960409864783287,
           -0.05703027918934822,
           0.17978717386722565,
           0.3029443025588989,
           0.03797369450330734,
           0.10725243389606476,
           0.15710583329200745,
           -0.0836382731795311,
           0.06672228127717972,
           0.2496263086795807,
           0.16740797460079193,
           -0.02968686819076538,
           0.017372122034430504,
           0.004798203706741333,
           0.9999998807907104,
           0.05431024730205536,
           -0.04125354066491127,
           -0.10482332110404968,
           -0.0298053827136755,
           -0.15243692696094513,
           -0.13889440894126892,
           -0.15259359776973724,
           0.012757712043821812,
           0.023642394691705704,
           0.11729983985424042,
           -0.1249237060546875,
           0.21175600588321686,
           -0.19202503561973572,
           0.09721078723669052,
           0.014414766803383827,
           0.21518535912036896,
           0.1050705537199974,
           -0.04340502992272377,
           0.0020153475925326347,
           -0.09707097709178925
          ],
          [
           0.2875363826751709,
           0.3482886850833893,
           0.051310084760189056,
           0.07519721239805222,
           0.5535926818847656,
           0.6074780225753784,
           0.1529662311077118,
           -0.3331996202468872,
           -0.06481444090604782,
           0.03314449265599251,
           0.2855278551578522,
           -0.1578812152147293,
           0.02094261534512043,
           0.1986149251461029,
           0.32696184515953064,
           0.29782480001449585,
           0.05449443683028221,
           -0.1130627766251564,
           0.18664240837097168,
           0.06830991059541702,
           -0.13097508251667023,
           -0.22458840906620026,
           0.3604140877723694,
           0.17503662407398224,
           -0.25278782844543457,
           0.06896068900823593,
           0.5860508680343628,
           0.32399696111679077,
           0.17639711499214172,
           0.05431024730205536,
           0.9999998807907104,
           0.14227408170700073,
           0.17153172194957733,
           0.194499671459198,
           0.0659903734922409,
           0.16619764268398285,
           -0.11035018414258957,
           0.3058638274669647,
           0.524009644985199,
           0.22837714850902557,
           -0.046232614666223526,
           0.3756801187992096,
           0.1716945469379425,
           0.026027575135231018,
           -0.04666939005255699,
           -0.030917329713702202,
           0.37172216176986694,
           -0.14509110152721405,
           0.06756242364645004,
           -0.06085818633437157
          ],
          [
           0.060653652995824814,
           0.4107864499092102,
           -0.0017705722711980343,
           0.0007178647210821509,
           0.3212381899356842,
           0.1979409158229828,
           -0.19382266700267792,
           -0.1676437109708786,
           0.10014176368713379,
           -0.05459068343043327,
           0.4012642204761505,
           0.057147156447172165,
           -0.0006494412082247436,
           0.026766739785671234,
           0.08641424030065536,
           0.2935400605201721,
           0.07301969081163406,
           0.38916918635368347,
           -0.19984886050224304,
           0.28864333033561707,
           -0.16616825759410858,
           -0.19935400784015656,
           0.4158417284488678,
           0.3609437942504883,
           -0.21841493248939514,
           -0.18860992789268494,
           0.2156957983970642,
           -0.08209627121686935,
           0.012117214500904083,
           -0.04125354066491127,
           0.14227408170700073,
           1,
           0.11463459581136703,
           0.07753685861825943,
           0.43793171644210815,
           0.6390467882156372,
           0.3650853633880615,
           0.2262497842311859,
           0.34682202339172363,
           0.0375499352812767,
           -0.09618387371301651,
           0.11297035962343216,
           0.3829737901687622,
           0.06194719672203064,
           0.03383299335837364,
           0.4486978352069855,
           0.08069711923599243,
           -0.04208900406956673,
           0.3956961929798126,
           0.34320715069770813
          ],
          [
           -0.026623040437698364,
           0.10583969205617905,
           0.08970840275287628,
           -0.13363364338874817,
           0.2044582962989807,
           0.1928916871547699,
           0.07722155749797821,
           -0.04546670615673065,
           0.05515877157449722,
           -0.1404508650302887,
           0.026813805103302002,
           -0.2633536756038666,
           -0.2285355180501938,
           -0.06876593083143234,
           -0.08543138206005096,
           -0.04644060134887695,
           -0.12222511321306229,
           -0.09379637241363525,
           -0.05980059504508972,
           -0.0699649527668953,
           -0.11319738626480103,
           -0.16749930381774902,
           -0.013951331377029419,
           0.03506569564342499,
           -0.08826187252998352,
           0.024571826681494713,
           0.511536717414856,
           -0.007432535290718079,
           0.03369925543665886,
           -0.10482332110404968,
           0.17153172194957733,
           0.11463459581136703,
           1.0000001192092896,
           0.06741801649332047,
           0.04645489901304245,
           0.11435628682374954,
           0.1621912270784378,
           0.058457981795072556,
           0.07237756997346878,
           0.01190849207341671,
           -0.12674003839492798,
           -0.11897251009941101,
           0.027030399069190025,
           -0.13770532608032227,
           -0.12829960882663727,
           -0.10924512892961502,
           0.06178300455212593,
           0.04528855159878731,
           0.20637649297714233,
           0.17649096250534058
          ],
          [
           -0.1668872833251953,
           0.20657940208911896,
           -0.21412158012390137,
           -0.11712140589952469,
           -0.08118823170661926,
           -0.12344039231538773,
           -0.022230006754398346,
           -0.06561002135276794,
           0.7844170928001404,
           -0.11289829760789871,
           0.34711313247680664,
           -0.015109186060726643,
           -0.17862549424171448,
           -0.28851884603500366,
           -0.24163596332073212,
           -0.1645178198814392,
           0.0023626212496310472,
           0.06614749133586884,
           0.05446803942322731,
           -0.07607509940862656,
           -0.20539450645446777,
           -0.09407166391611099,
           0.1521921157836914,
           -0.1715242713689804,
           -0.10352335125207901,
           -0.014584466814994812,
           0.11773020774126053,
           0.3123573362827301,
           0.7812533974647522,
           -0.0298053827136755,
           0.194499671459198,
           0.07753685861825943,
           0.06741801649332047,
           0.9999998211860657,
           -0.024699630215764046,
           0.2309170365333557,
           -0.05950196087360382,
           0.6202633380889893,
           0.19462703168392181,
           -0.008264478296041489,
           -0.10500158369541168,
           -0.14673800766468048,
           -0.11516300588846207,
           -0.26998770236968994,
           -0.15432390570640564,
           0.03437096253037453,
           -0.07234743982553482,
           -0.045528292655944824,
           0.08393766731023788,
           -0.04787134751677513
          ],
          [
           0.08737927675247192,
           0.010441324673593044,
           0.03239321708679199,
           -0.08466929197311401,
           0.10943390429019928,
           0.09152988344430923,
           0.0716143399477005,
           -0.14691400527954102,
           0.09386105090379715,
           0.12893855571746826,
           0.03856152296066284,
           0.13485537469387054,
           -0.16583490371704102,
           -0.1068505123257637,
           -0.12297414243221283,
           -0.11791501194238663,
           -0.10104922950267792,
           0.011509479954838753,
           -0.024179747328162193,
           0.0154902758076787,
           -0.02941320091485977,
           0.0439852811396122,
           0.16904468834400177,
           -0.01107094157487154,
           -0.12852925062179565,
           -0.17974145710468292,
           0.186417818069458,
           -0.04584865644574165,
           -0.008924621157348156,
           -0.15243692696094513,
           0.0659903734922409,
           0.43793171644210815,
           0.04645489901304245,
           -0.024699630215764046,
           0.9999997019767761,
           0.12803460657596588,
           0.12097971141338348,
           0.12858909368515015,
           0.21717968583106995,
           -0.16895130276679993,
           0.00269923429004848,
           0.05852995067834854,
           -0.04686487838625908,
           -0.07852445542812347,
           -0.11096490174531937,
           0.04360385239124298,
           -0.18773148953914642,
           0.14281047880649567,
           0.268900066614151,
           0.1327536404132843
          ],
          [
           0.11802821606397629,
           0.8402559161186218,
           -0.38951751589775085,
           -0.11679848283529282,
           0.4172755479812622,
           0.07228472083806992,
           -0.08942694962024689,
           -0.08578582853078842,
           0.11649444699287415,
           -0.16676224768161774,
           0.8108221888542175,
           0.08444452285766602,
           -0.08056163042783737,
           -0.25547870993614197,
           -0.14848819375038147,
           0.23350323736667633,
           0.11266081035137177,
           0.15040430426597595,
           -0.09264969080686569,
           0.2588965594768524,
           -0.15769721567630768,
           -0.18596528470516205,
           0.6153852939605713,
           0.06824454665184021,
           -0.11237594485282898,
           -0.09644203633069992,
           0.4460611939430237,
           0.13079527020454407,
           -0.007947731763124466,
           -0.13889440894126892,
           0.16619764268398285,
           0.6390467882156372,
           0.11435628682374954,
           0.2309170365333557,
           0.12803460657596588,
           0.9999998211860657,
           0.3208378255367279,
           0.15996785461902618,
           0.22773733735084534,
           -0.009838130325078964,
           -0.08856294304132462,
           0.21227730810642242,
           0.26563748717308044,
           -0.17494502663612366,
           -0.08358676731586456,
           0.1750156432390213,
           0.03219648078083992,
           -0.21495617926120758,
           0.29234734177589417,
           0.352632075548172
          ],
          [
           -0.06593849509954453,
           0.001858610543422401,
           0.07786155492067337,
           0.07693356275558472,
           -0.09357433021068573,
           0.15622815489768982,
           -0.10575616359710693,
           -0.07779689133167267,
           0.10607779771089554,
           0.016221242025494576,
           0.02678322233259678,
           0.10046319663524628,
           -0.09957025945186615,
           0.04272175580263138,
           -0.017121020704507828,
           0.14887411892414093,
           0.06003580614924431,
           -0.0090536680072546,
           -0.09814150631427765,
           0.4049748480319977,
           -0.11316581815481186,
           -0.09922485798597336,
           0.11580239981412888,
           0.22486688196659088,
           0.051726602017879486,
           -0.05029026418924332,
           -0.10403797775506973,
           0.05002674087882042,
           -0.0016278462717309594,
           -0.15259359776973724,
           -0.11035018414258957,
           0.3650853633880615,
           0.1621912270784378,
           -0.05950196087360382,
           0.12097971141338348,
           0.3208378255367279,
           0.9999997615814209,
           0.17646732926368713,
           0.2921220064163208,
           0.1384955793619156,
           -0.11360170692205429,
           -0.10029202699661255,
           0.5598555207252502,
           0.13714805245399475,
           0.051360830664634705,
           -0.10552281886339188,
           -0.04531372711062431,
           0.14228171110153198,
           0.7798953652381897,
           0.935776948928833
          ],
          [
           -0.007379291113466024,
           -0.006875147111713886,
           -0.10899044573307037,
           -0.03542079031467438,
           0.03674258291721344,
           0.21405938267707825,
           -0.08162717521190643,
           -0.09818796813488007,
           0.6686475872993469,
           -0.02477068454027176,
           0.000039312566514126956,
           -0.05270553007721901,
           -0.163482204079628,
           -0.1643465906381607,
           -0.09671587496995926,
           0.07520150393247604,
           -0.03407329320907593,
           0.015918336808681488,
           -0.040118660777807236,
           -0.017818758264183998,
           -0.08303293585777283,
           -0.026780618354678154,
           0.0384833849966526,
           0.07669927179813385,
           -0.11776275187730789,
           -0.08946419507265091,
           0.03438644856214523,
           0.24619968235492706,
           0.7492115497589111,
           0.012757712043821812,
           0.3058638274669647,
           0.2262497842311859,
           0.058457981795072556,
           0.6202633380889893,
           0.12858909368515015,
           0.15996785461902618,
           0.17646732926368713,
           1.0000001192092896,
           0.5706814527511597,
           0.15426753461360931,
           0.012904773466289043,
           0.02063925191760063,
           0.18859224021434784,
           -0.06429138779640198,
           -0.17554427683353424,
           -0.022181488573551178,
           0.11657442152500153,
           0.15400153398513794,
           0.40003541111946106,
           0.2417152225971222
          ],
          [
           0.1753564029932022,
           0.21202324330806732,
           -0.17144788801670074,
           0.0288676880300045,
           0.05215637385845184,
           0.3753640651702881,
           -0.09138055145740509,
           -0.06392470002174377,
           0.09685348719358444,
           0.05456257238984108,
           0.11506686359643936,
           -0.06759937852621078,
           -0.14351843297481537,
           -0.1608639657497406,
           -0.1411207914352417,
           -0.06310626119375229,
           -0.010447941720485687,
           -0.0035674814134836197,
           0.020941685885190964,
           0.16924706101417542,
           -0.0984317883849144,
           -0.061777450144290924,
           0.48380112648010254,
           0.0033423665445297956,
           -0.0707377940416336,
           0.1940915882587433,
           0.26531097292900085,
           0.3377246856689453,
           0.27669093012809753,
           0.023642394691705704,
           0.524009644985199,
           0.34682202339172363,
           0.07237756997346878,
           0.19462703168392181,
           0.21717968583106995,
           0.22773733735084534,
           0.2921220064163208,
           0.5706814527511597,
           1,
           0.2730551064014435,
           0.04739985242486,
           0.14413227140903473,
           0.10134397447109222,
           -0.04054274410009384,
           -0.11216516047716141,
           0.05962434783577919,
           0.09535138309001923,
           0.26942703127861023,
           0.5256639719009399,
           0.3585474193096161
          ],
          [
           -0.018477020785212517,
           0.038452982902526855,
           -0.01734304241836071,
           -0.09740006178617477,
           0.14206010103225708,
           0.4127237796783447,
           -0.08647029101848602,
           0.0653412714600563,
           -0.004199526272714138,
           0.09304623305797577,
           -0.13098905980587006,
           0.10151482373476028,
           -0.03942522034049034,
           -0.10720770806074142,
           -0.024017982184886932,
           0.18963131308555603,
           0.03939639404416084,
           0.11250625550746918,
           0.12668845057487488,
           0.15597528219223022,
           -0.04047100991010666,
           0.23828525841236115,
           0.225209578871727,
           0.16314491629600525,
           0.12037716805934906,
           0.07007261365652084,
           0.07548531889915466,
           -0.06682839244604111,
           0.050417739897966385,
           0.11729983985424042,
           0.22837714850902557,
           0.0375499352812767,
           0.01190849207341671,
           -0.008264478296041489,
           -0.16895130276679993,
           -0.009838130325078964,
           0.1384955793619156,
           0.15426753461360931,
           0.2730551064014435,
           1,
           -0.0587349459528923,
           0.42406612634658813,
           0.06458692252635956,
           -0.1137704998254776,
           0.012267259880900383,
           0.1308104544878006,
           0.8644771575927734,
           0.27549436688423157,
           0.005707062315195799,
           0.15804935991764069
          ],
          [
           -0.02436637319624424,
           0.008841067552566528,
           0.03628290072083473,
           -0.09032008051872253,
           -0.01510709524154663,
           0.01576291024684906,
           0.15985971689224243,
           -0.04463624581694603,
           -0.16194164752960205,
           -0.11771330237388611,
           -0.0408182330429554,
           0.06375724822282791,
           0.02440735697746277,
           0.285751610994339,
           0.26826831698417664,
           -0.04839980602264404,
           0.0687519758939743,
           -0.03860143572092056,
           -0.06096737086772919,
           0.31185799837112427,
           0.3966561257839203,
           -0.15246166288852692,
           0.045127011835575104,
           -0.028837505728006363,
           -0.16186927258968353,
           0.1338319629430771,
           -0.11127679795026779,
           0.006808949168771505,
           -0.037048108875751495,
           -0.1249237060546875,
           -0.046232614666223526,
           -0.09618387371301651,
           -0.12674003839492798,
           -0.10500158369541168,
           0.00269923429004848,
           -0.08856294304132462,
           -0.11360170692205429,
           0.012904773466289043,
           0.04739985242486,
           -0.0587349459528923,
           1,
           -0.1309872418642044,
           0.013895105570554733,
           0.0025868811644613743,
           0.0665932446718216,
           -0.014183097518980503,
           -0.018478885293006897,
           0.4537027180194855,
           -0.1286928802728653,
           -0.12377318739891052
          ],
          [
           0.3226299583911896,
           0.31371936202049255,
           0.010441276244819164,
           0.06768599152565002,
           0.6086181998252869,
           0.4810014069080353,
           0.20088516175746918,
           0.040957529097795486,
           -0.1104993000626564,
           0.03791150450706482,
           0.10512808710336685,
           0.10871175676584244,
           0.1480068415403366,
           -0.03722173720598221,
           0.11129922419786453,
           0.2706972062587738,
           0.2346542924642563,
           0.16231893002986908,
           0.34648415446281433,
           -0.06829257309436798,
           -0.045642025768756866,
           0.14487920701503754,
           0.29656729102134705,
           0.2818596363067627,
           0.16696883738040924,
           0.04185120016336441,
           0.5293091535568237,
           -0.004510753322392702,
           -0.11720121651887894,
           0.21175600588321686,
           0.3756801187992096,
           0.11297035962343216,
           -0.11897251009941101,
           -0.14673800766468048,
           0.05852995067834854,
           0.21227730810642242,
           -0.10029202699661255,
           0.02063925191760063,
           0.14413227140903473,
           0.42406612634658813,
           -0.1309872418642044,
           0.9999998211860657,
           0.050665244460105896,
           0.02117801085114479,
           -0.004289102740585804,
           0.26200562715530396,
           0.45973655581474304,
           -0.07485990226268768,
           -0.00015028283814899623,
           0.02153637818992138
          ],
          [
           -0.05837051942944527,
           0.061806339770555496,
           0.19421930611133575,
           0.28820714354515076,
           0.23621992766857147,
           0.30245357751846313,
           -0.03071514330804348,
           -0.2427608221769333,
           -0.004826413933187723,
           0.038529977202415466,
           0.05865342542529106,
           0.08928515762090683,
           0.33308836817741394,
           0.4835982918739319,
           0.4998854994773865,
           0.5497119426727295,
           0.07449641823768616,
           0.07364588230848312,
           -0.16683603823184967,
           0.3628631830215454,
           -0.01643872633576393,
           -0.2057836502790451,
           -0.036128826439380646,
           0.49084022641181946,
           -0.19216583669185638,
           -0.3893783390522003,
           -0.0877937451004982,
           0.04172578454017639,
           -0.06166768819093704,
           -0.19202503561973572,
           0.1716945469379425,
           0.3829737901687622,
           0.027030399069190025,
           -0.11516300588846207,
           -0.04686487838625908,
           0.26563748717308044,
           0.5598555207252502,
           0.18859224021434784,
           0.10134397447109222,
           0.06458692252635956,
           0.013895105570554733,
           0.050665244460105896,
           1.0000001192092896,
           0.37731310725212097,
           0.31995463371276855,
           -0.022934479638934135,
           0.17300961911678314,
           -0.12421909719705582,
           0.35565826296806335,
           0.5061905384063721
          ],
          [
           0.19690822064876556,
           -0.2168532758951187,
           0.19613465666770935,
           0.8630003929138184,
           0.056793212890625,
           0.26112109422683716,
           0.10913709551095963,
           -0.0015507489442825317,
           -0.20235422253608704,
           0.13768497109413147,
           -0.170262411236763,
           0.11987505108118057,
           0.7486122846603394,
           0.5541983246803284,
           0.4221351444721222,
           0.5094810128211975,
           0.156785786151886,
           -0.1074565127491951,
           -0.09687472879886627,
           -0.019171811640262604,
           0.06883706897497177,
           -0.14298780262470245,
           -0.24108265340328217,
           0.14715830981731415,
           -0.006225817371159792,
           0.08300840109586716,
           -0.19900965690612793,
           0.029562022536993027,
           -0.1346714347600937,
           0.09721078723669052,
           0.026027575135231018,
           0.06194719672203064,
           -0.13770532608032227,
           -0.26998770236968994,
           -0.07852445542812347,
           -0.17494502663612366,
           0.13714805245399475,
           -0.06429138779640198,
           -0.04054274410009384,
           -0.1137704998254776,
           0.0025868811644613743,
           0.02117801085114479,
           0.37731310725212097,
           1,
           0.7915448546409607,
           -0.07731962203979492,
           -0.054055459797382355,
           0.023609619587659836,
           0.10243519395589828,
           0.12056904286146164
          ],
          [
           0.1659528762102127,
           -0.02491023577749729,
           0.05691644921898842,
           0.7938072085380554,
           0.10568839311599731,
           0.09756437689065933,
           0.1518712341785431,
           0.08539756387472153,
           -0.19060102105140686,
           0.14935407042503357,
           0.014925568364560604,
           0.10462209582328796,
           0.8771148324012756,
           0.40435290336608887,
           0.37127885222435,
           0.38810309767723083,
           0.06876252591609955,
           -0.10054754465818405,
           0.01905776560306549,
           0.06924237310886383,
           0.014276270754635334,
           0.010557995177805424,
           -0.002860100008547306,
           -0.06170126423239708,
           -0.0456480011343956,
           -0.003360473085194826,
           -0.10127847641706467,
           -0.0938953384757042,
           -0.14280518889427185,
           0.014414766803383827,
           -0.04666939005255699,
           0.03383299335837364,
           -0.12829960882663727,
           -0.15432390570640564,
           -0.11096490174531937,
           -0.08358676731586456,
           0.051360830664634705,
           -0.17554427683353424,
           -0.11216516047716141,
           0.012267259880900383,
           0.0665932446718216,
           -0.004289102740585804,
           0.31995463371276855,
           0.7915448546409607,
           1,
           -0.0863318219780922,
           -0.021848060190677643,
           -0.0017722175689414144,
           -0.06515082716941833,
           -0.010776150971651077
          ],
          [
           -0.0018774020718410611,
           0.10051652789115906,
           0.24995547533035278,
           -0.10761863738298416,
           0.05018531531095505,
           -0.056913189589977264,
           -0.17279891669750214,
           0.1995798945426941,
           -0.04319092258810997,
           -0.09657760709524155,
           0.11722631752490997,
           0.05499251186847687,
           0.04431045427918434,
           0.021280448883771896,
           0.10074108093976974,
           -0.08880257606506348,
           0.11974694579839706,
           0.9531945586204529,
           0.018389057368040085,
           -0.0499204657971859,
           -0.08910515159368515,
           -0.04610634967684746,
           0.050304632633924484,
           0.4258708953857422,
           0.20583300292491913,
           0.07004661113023758,
           0.07157201319932938,
           -0.023894445970654488,
           0.002980196150019765,
           0.21518535912036896,
           -0.030917329713702202,
           0.4486978352069855,
           -0.10924512892961502,
           0.03437096253037453,
           0.04360385239124298,
           0.1750156432390213,
           -0.10552281886339188,
           -0.022181488573551178,
           0.05962434783577919,
           0.1308104544878006,
           -0.014183097518980503,
           0.26200562715530396,
           -0.022934479638934135,
           -0.07731962203979492,
           -0.0863318219780922,
           0.9999999403953552,
           0.1796267181634903,
           -0.13121072947978973,
           -0.014584314078092575,
           -0.08702497184276581
          ],
          [
           0.018238550052046776,
           0.11670102179050446,
           0.14937211573123932,
           -0.06594598293304443,
           0.3441617488861084,
           0.49505287408828735,
           -0.014841139316558838,
           -0.07691245526075363,
           -0.08879169076681137,
           0.07081420719623566,
           -0.04569268971681595,
           0.11117982119321823,
           0.02206132374703884,
           0.07239461690187454,
           0.23132620751857758,
           0.3725031912326813,
           0.017114434391260147,
           0.15797032415866852,
           0.1435888558626175,
           0.13478341698646545,
           0.04413862153887749,
           0.054530393332242966,
           0.11369641870260239,
           0.3564806878566742,
           0.018050482496619225,
           -0.04053766280412674,
           0.13387739658355713,
           -0.049511365592479706,
           -0.010328846052289009,
           0.1050705537199974,
           0.37172216176986694,
           0.08069711923599243,
           0.06178300455212593,
           -0.07234743982553482,
           -0.18773148953914642,
           0.03219648078083992,
           -0.04531372711062431,
           0.11657442152500153,
           0.09535138309001923,
           0.8644771575927734,
           -0.018478885293006897,
           0.45973655581474304,
           0.17300961911678314,
           -0.054055459797382355,
           -0.021848060190677643,
           0.1796267181634903,
           0.9999998211860657,
           0.11787185072898865,
           -0.1922616958618164,
           -0.038138214498758316
          ],
          [
           0.08209968358278275,
           -0.21004649996757507,
           0.109542116522789,
           -0.09302721172571182,
           -0.15541702508926392,
           0.2708964943885803,
           0.20515096187591553,
           0.13675054907798767,
           0.09268136322498322,
           0.13761131465435028,
           -0.26943716406822205,
           0.4828258454799652,
           -0.17074227333068848,
           0.13613402843475342,
           0.031057486310601234,
           -0.04852714017033577,
           0.08839762955904007,
           -0.17721739411354065,
           -0.004655030090361834,
           0.3043724000453949,
           0.44780221581459045,
           0.17938992381095886,
           0.0790243074297905,
           0.016954531893134117,
           -0.11448948085308075,
           0.3717690706253052,
           -0.15807875990867615,
           -0.015501157380640507,
           0.08388080447912216,
           -0.04340502992272377,
           -0.14509110152721405,
           -0.04208900406956673,
           0.04528855159878731,
           -0.045528292655944824,
           0.14281047880649567,
           -0.21495617926120758,
           0.14228171110153198,
           0.15400153398513794,
           0.26942703127861023,
           0.27549436688423157,
           0.4537027180194855,
           -0.07485990226268768,
           -0.12421909719705582,
           0.023609619587659836,
           -0.0017722175689414144,
           -0.13121072947978973,
           0.11787185072898865,
           1,
           0.25419220328330994,
           0.19404852390289307
          ],
          [
           0.12049806118011475,
           -0.04570766165852547,
           0.09713125973939896,
           0.0044683595187962055,
           -0.038958773016929626,
           0.21402829885482788,
           -0.05371103808283806,
           -0.05612724646925926,
           0.1837165206670761,
           -0.014742860570549965,
           -0.02320161648094654,
           0.02259361557662487,
           -0.17407763004302979,
           0.0005035780486650765,
           -0.03720906004309654,
           0.0664508193731308,
           0.04925035312771797,
           0.03284243866801262,
           -0.03227759525179863,
           0.2272380292415619,
           -0.10177893936634064,
           -0.06753552705049515,
           0.14698465168476105,
           0.24347807466983795,
           -0.07861309498548508,
           0.06531042605638504,
           0.08060579001903534,
           0.285138338804245,
           0.1416449099779129,
           0.0020153475925326347,
           0.06756242364645004,
           0.3956961929798126,
           0.20637649297714233,
           0.08393766731023788,
           0.268900066614151,
           0.29234734177589417,
           0.7798953652381897,
           0.40003541111946106,
           0.5256639719009399,
           0.005707062315195799,
           -0.1286928802728653,
           -0.00015028283814899623,
           0.35565826296806335,
           0.10243519395589828,
           -0.06515082716941833,
           -0.014584314078092575,
           -0.1922616958618164,
           0.25419220328330994,
           1,
           0.8971703052520752
          ],
          [
           0.006347221322357655,
           0.008801220916211605,
           0.04104256629943848,
           0.01769474893808365,
           -0.05693243443965912,
           0.19602732360363007,
           -0.07836976647377014,
           -0.06612145155668259,
           0.10208804905414581,
           -0.03475625813007355,
           0.0045692166313529015,
           0.06276031583547592,
           -0.1253754049539566,
           0.013604909181594849,
           -0.04066884145140648,
           0.16819363832473755,
           0.07151412963867188,
           -0.0007994159823283553,
           -0.08397573977708817,
           0.31638726592063904,
           -0.12183328717947006,
           -0.060463517904281616,
           0.12256010621786118,
           0.25469693541526794,
           0.0011348077096045017,
           -0.007997419685125351,
           -0.0052822791039943695,
           0.15870292484760284,
           0.01573977619409561,
           -0.09707097709178925,
           -0.06085818633437157,
           0.34320715069770813,
           0.17649096250534058,
           -0.04787134751677513,
           0.1327536404132843,
           0.352632075548172,
           0.935776948928833,
           0.2417152225971222,
           0.3585474193096161,
           0.15804935991764069,
           -0.12377318739891052,
           0.02153637818992138,
           0.5061905384063721,
           0.12056904286146164,
           -0.010776150971651077,
           -0.08702497184276581,
           -0.038138214498758316,
           0.19404852390289307,
           0.8971703052520752,
           1.0000001192092896
          ]
         ],
         "zmax": 1,
         "zmin": -1
        }
       ],
       "layout": {
        "height": 1200,
        "template": {
         "data": {
          "bar": [
           {
            "error_x": {
             "color": "#2a3f5f"
            },
            "error_y": {
             "color": "#2a3f5f"
            },
            "marker": {
             "line": {
              "color": "#E5ECF6",
              "width": 0.5
             },
             "pattern": {
              "fillmode": "overlay",
              "size": 10,
              "solidity": 0.2
             }
            },
            "type": "bar"
           }
          ],
          "barpolar": [
           {
            "marker": {
             "line": {
              "color": "#E5ECF6",
              "width": 0.5
             },
             "pattern": {
              "fillmode": "overlay",
              "size": 10,
              "solidity": 0.2
             }
            },
            "type": "barpolar"
           }
          ],
          "carpet": [
           {
            "aaxis": {
             "endlinecolor": "#2a3f5f",
             "gridcolor": "white",
             "linecolor": "white",
             "minorgridcolor": "white",
             "startlinecolor": "#2a3f5f"
            },
            "baxis": {
             "endlinecolor": "#2a3f5f",
             "gridcolor": "white",
             "linecolor": "white",
             "minorgridcolor": "white",
             "startlinecolor": "#2a3f5f"
            },
            "type": "carpet"
           }
          ],
          "choropleth": [
           {
            "colorbar": {
             "outlinewidth": 0,
             "ticks": ""
            },
            "type": "choropleth"
           }
          ],
          "contour": [
           {
            "colorbar": {
             "outlinewidth": 0,
             "ticks": ""
            },
            "colorscale": [
             [
              0,
              "#0d0887"
             ],
             [
              0.1111111111111111,
              "#46039f"
             ],
             [
              0.2222222222222222,
              "#7201a8"
             ],
             [
              0.3333333333333333,
              "#9c179e"
             ],
             [
              0.4444444444444444,
              "#bd3786"
             ],
             [
              0.5555555555555556,
              "#d8576b"
             ],
             [
              0.6666666666666666,
              "#ed7953"
             ],
             [
              0.7777777777777778,
              "#fb9f3a"
             ],
             [
              0.8888888888888888,
              "#fdca26"
             ],
             [
              1,
              "#f0f921"
             ]
            ],
            "type": "contour"
           }
          ],
          "contourcarpet": [
           {
            "colorbar": {
             "outlinewidth": 0,
             "ticks": ""
            },
            "type": "contourcarpet"
           }
          ],
          "heatmap": [
           {
            "colorbar": {
             "outlinewidth": 0,
             "ticks": ""
            },
            "colorscale": [
             [
              0,
              "#0d0887"
             ],
             [
              0.1111111111111111,
              "#46039f"
             ],
             [
              0.2222222222222222,
              "#7201a8"
             ],
             [
              0.3333333333333333,
              "#9c179e"
             ],
             [
              0.4444444444444444,
              "#bd3786"
             ],
             [
              0.5555555555555556,
              "#d8576b"
             ],
             [
              0.6666666666666666,
              "#ed7953"
             ],
             [
              0.7777777777777778,
              "#fb9f3a"
             ],
             [
              0.8888888888888888,
              "#fdca26"
             ],
             [
              1,
              "#f0f921"
             ]
            ],
            "type": "heatmap"
           }
          ],
          "heatmapgl": [
           {
            "colorbar": {
             "outlinewidth": 0,
             "ticks": ""
            },
            "colorscale": [
             [
              0,
              "#0d0887"
             ],
             [
              0.1111111111111111,
              "#46039f"
             ],
             [
              0.2222222222222222,
              "#7201a8"
             ],
             [
              0.3333333333333333,
              "#9c179e"
             ],
             [
              0.4444444444444444,
              "#bd3786"
             ],
             [
              0.5555555555555556,
              "#d8576b"
             ],
             [
              0.6666666666666666,
              "#ed7953"
             ],
             [
              0.7777777777777778,
              "#fb9f3a"
             ],
             [
              0.8888888888888888,
              "#fdca26"
             ],
             [
              1,
              "#f0f921"
             ]
            ],
            "type": "heatmapgl"
           }
          ],
          "histogram": [
           {
            "marker": {
             "pattern": {
              "fillmode": "overlay",
              "size": 10,
              "solidity": 0.2
             }
            },
            "type": "histogram"
           }
          ],
          "histogram2d": [
           {
            "colorbar": {
             "outlinewidth": 0,
             "ticks": ""
            },
            "colorscale": [
             [
              0,
              "#0d0887"
             ],
             [
              0.1111111111111111,
              "#46039f"
             ],
             [
              0.2222222222222222,
              "#7201a8"
             ],
             [
              0.3333333333333333,
              "#9c179e"
             ],
             [
              0.4444444444444444,
              "#bd3786"
             ],
             [
              0.5555555555555556,
              "#d8576b"
             ],
             [
              0.6666666666666666,
              "#ed7953"
             ],
             [
              0.7777777777777778,
              "#fb9f3a"
             ],
             [
              0.8888888888888888,
              "#fdca26"
             ],
             [
              1,
              "#f0f921"
             ]
            ],
            "type": "histogram2d"
           }
          ],
          "histogram2dcontour": [
           {
            "colorbar": {
             "outlinewidth": 0,
             "ticks": ""
            },
            "colorscale": [
             [
              0,
              "#0d0887"
             ],
             [
              0.1111111111111111,
              "#46039f"
             ],
             [
              0.2222222222222222,
              "#7201a8"
             ],
             [
              0.3333333333333333,
              "#9c179e"
             ],
             [
              0.4444444444444444,
              "#bd3786"
             ],
             [
              0.5555555555555556,
              "#d8576b"
             ],
             [
              0.6666666666666666,
              "#ed7953"
             ],
             [
              0.7777777777777778,
              "#fb9f3a"
             ],
             [
              0.8888888888888888,
              "#fdca26"
             ],
             [
              1,
              "#f0f921"
             ]
            ],
            "type": "histogram2dcontour"
           }
          ],
          "mesh3d": [
           {
            "colorbar": {
             "outlinewidth": 0,
             "ticks": ""
            },
            "type": "mesh3d"
           }
          ],
          "parcoords": [
           {
            "line": {
             "colorbar": {
              "outlinewidth": 0,
              "ticks": ""
             }
            },
            "type": "parcoords"
           }
          ],
          "pie": [
           {
            "automargin": true,
            "type": "pie"
           }
          ],
          "scatter": [
           {
            "fillpattern": {
             "fillmode": "overlay",
             "size": 10,
             "solidity": 0.2
            },
            "type": "scatter"
           }
          ],
          "scatter3d": [
           {
            "line": {
             "colorbar": {
              "outlinewidth": 0,
              "ticks": ""
             }
            },
            "marker": {
             "colorbar": {
              "outlinewidth": 0,
              "ticks": ""
             }
            },
            "type": "scatter3d"
           }
          ],
          "scattercarpet": [
           {
            "marker": {
             "colorbar": {
              "outlinewidth": 0,
              "ticks": ""
             }
            },
            "type": "scattercarpet"
           }
          ],
          "scattergeo": [
           {
            "marker": {
             "colorbar": {
              "outlinewidth": 0,
              "ticks": ""
             }
            },
            "type": "scattergeo"
           }
          ],
          "scattergl": [
           {
            "marker": {
             "colorbar": {
              "outlinewidth": 0,
              "ticks": ""
             }
            },
            "type": "scattergl"
           }
          ],
          "scattermapbox": [
           {
            "marker": {
             "colorbar": {
              "outlinewidth": 0,
              "ticks": ""
             }
            },
            "type": "scattermapbox"
           }
          ],
          "scatterpolar": [
           {
            "marker": {
             "colorbar": {
              "outlinewidth": 0,
              "ticks": ""
             }
            },
            "type": "scatterpolar"
           }
          ],
          "scatterpolargl": [
           {
            "marker": {
             "colorbar": {
              "outlinewidth": 0,
              "ticks": ""
             }
            },
            "type": "scatterpolargl"
           }
          ],
          "scatterternary": [
           {
            "marker": {
             "colorbar": {
              "outlinewidth": 0,
              "ticks": ""
             }
            },
            "type": "scatterternary"
           }
          ],
          "surface": [
           {
            "colorbar": {
             "outlinewidth": 0,
             "ticks": ""
            },
            "colorscale": [
             [
              0,
              "#0d0887"
             ],
             [
              0.1111111111111111,
              "#46039f"
             ],
             [
              0.2222222222222222,
              "#7201a8"
             ],
             [
              0.3333333333333333,
              "#9c179e"
             ],
             [
              0.4444444444444444,
              "#bd3786"
             ],
             [
              0.5555555555555556,
              "#d8576b"
             ],
             [
              0.6666666666666666,
              "#ed7953"
             ],
             [
              0.7777777777777778,
              "#fb9f3a"
             ],
             [
              0.8888888888888888,
              "#fdca26"
             ],
             [
              1,
              "#f0f921"
             ]
            ],
            "type": "surface"
           }
          ],
          "table": [
           {
            "cells": {
             "fill": {
              "color": "#EBF0F8"
             },
             "line": {
              "color": "white"
             }
            },
            "header": {
             "fill": {
              "color": "#C8D4E3"
             },
             "line": {
              "color": "white"
             }
            },
            "type": "table"
           }
          ]
         },
         "layout": {
          "annotationdefaults": {
           "arrowcolor": "#2a3f5f",
           "arrowhead": 0,
           "arrowwidth": 1
          },
          "autotypenumbers": "strict",
          "coloraxis": {
           "colorbar": {
            "outlinewidth": 0,
            "ticks": ""
           }
          },
          "colorscale": {
           "diverging": [
            [
             0,
             "#8e0152"
            ],
            [
             0.1,
             "#c51b7d"
            ],
            [
             0.2,
             "#de77ae"
            ],
            [
             0.3,
             "#f1b6da"
            ],
            [
             0.4,
             "#fde0ef"
            ],
            [
             0.5,
             "#f7f7f7"
            ],
            [
             0.6,
             "#e6f5d0"
            ],
            [
             0.7,
             "#b8e186"
            ],
            [
             0.8,
             "#7fbc41"
            ],
            [
             0.9,
             "#4d9221"
            ],
            [
             1,
             "#276419"
            ]
           ],
           "sequential": [
            [
             0,
             "#0d0887"
            ],
            [
             0.1111111111111111,
             "#46039f"
            ],
            [
             0.2222222222222222,
             "#7201a8"
            ],
            [
             0.3333333333333333,
             "#9c179e"
            ],
            [
             0.4444444444444444,
             "#bd3786"
            ],
            [
             0.5555555555555556,
             "#d8576b"
            ],
            [
             0.6666666666666666,
             "#ed7953"
            ],
            [
             0.7777777777777778,
             "#fb9f3a"
            ],
            [
             0.8888888888888888,
             "#fdca26"
            ],
            [
             1,
             "#f0f921"
            ]
           ],
           "sequentialminus": [
            [
             0,
             "#0d0887"
            ],
            [
             0.1111111111111111,
             "#46039f"
            ],
            [
             0.2222222222222222,
             "#7201a8"
            ],
            [
             0.3333333333333333,
             "#9c179e"
            ],
            [
             0.4444444444444444,
             "#bd3786"
            ],
            [
             0.5555555555555556,
             "#d8576b"
            ],
            [
             0.6666666666666666,
             "#ed7953"
            ],
            [
             0.7777777777777778,
             "#fb9f3a"
            ],
            [
             0.8888888888888888,
             "#fdca26"
            ],
            [
             1,
             "#f0f921"
            ]
           ]
          },
          "colorway": [
           "#636efa",
           "#EF553B",
           "#00cc96",
           "#ab63fa",
           "#FFA15A",
           "#19d3f3",
           "#FF6692",
           "#B6E880",
           "#FF97FF",
           "#FECB52"
          ],
          "font": {
           "color": "#2a3f5f"
          },
          "geo": {
           "bgcolor": "white",
           "lakecolor": "white",
           "landcolor": "#E5ECF6",
           "showlakes": true,
           "showland": true,
           "subunitcolor": "white"
          },
          "hoverlabel": {
           "align": "left"
          },
          "hovermode": "closest",
          "mapbox": {
           "style": "light"
          },
          "paper_bgcolor": "white",
          "plot_bgcolor": "#E5ECF6",
          "polar": {
           "angularaxis": {
            "gridcolor": "white",
            "linecolor": "white",
            "ticks": ""
           },
           "bgcolor": "#E5ECF6",
           "radialaxis": {
            "gridcolor": "white",
            "linecolor": "white",
            "ticks": ""
           }
          },
          "scene": {
           "xaxis": {
            "backgroundcolor": "#E5ECF6",
            "gridcolor": "white",
            "gridwidth": 2,
            "linecolor": "white",
            "showbackground": true,
            "ticks": "",
            "zerolinecolor": "white"
           },
           "yaxis": {
            "backgroundcolor": "#E5ECF6",
            "gridcolor": "white",
            "gridwidth": 2,
            "linecolor": "white",
            "showbackground": true,
            "ticks": "",
            "zerolinecolor": "white"
           },
           "zaxis": {
            "backgroundcolor": "#E5ECF6",
            "gridcolor": "white",
            "gridwidth": 2,
            "linecolor": "white",
            "showbackground": true,
            "ticks": "",
            "zerolinecolor": "white"
           }
          },
          "shapedefaults": {
           "line": {
            "color": "#2a3f5f"
           }
          },
          "ternary": {
           "aaxis": {
            "gridcolor": "white",
            "linecolor": "white",
            "ticks": ""
           },
           "baxis": {
            "gridcolor": "white",
            "linecolor": "white",
            "ticks": ""
           },
           "bgcolor": "#E5ECF6",
           "caxis": {
            "gridcolor": "white",
            "linecolor": "white",
            "ticks": ""
           }
          },
          "title": {
           "x": 0.05
          },
          "xaxis": {
           "automargin": true,
           "gridcolor": "white",
           "linecolor": "white",
           "ticks": "",
           "title": {
            "standoff": 15
           },
           "zerolinecolor": "white",
           "zerolinewidth": 2
          },
          "yaxis": {
           "automargin": true,
           "gridcolor": "white",
           "linecolor": "white",
           "ticks": "",
           "title": {
            "standoff": 15
           },
           "zerolinecolor": "white",
           "zerolinewidth": 2
          }
         }
        },
        "title": {
         "text": "Cosine Similarity between categories"
        },
        "width": 1200,
        "yaxis": {
         "autorange": "reversed"
        }
       }
      }
     },
     "metadata": {},
     "output_type": "display_data"
    }
   ],
   "source": [
    "emb_df = pd.DataFrame(embeddings)\n",
    "emb_df[\"label\"] = labels\n",
    "avg_emb = emb_df.groupby(\"label\").mean()\n",
    "\n",
    "# Compute the cosine similarity matrix\n",
    "similarity_matrix = cosine_similarity(avg_emb)\n",
    "\n",
    "# Create a heatmap\n",
    "fig = go.Figure(data=go.Heatmap(\n",
    "    z=similarity_matrix,\n",
    "    x=list(label_mapping),\n",
    "    y=list(label_mapping),\n",
    "    colorscale='balance',\n",
    "    zmin=-1,\n",
    "    zmax=1\n",
    "))\n",
    "fig.update_layout(\n",
    "    title=\"Cosine Similarity between categories\",\n",
    "    width=1200,\n",
    "    height=1200,\n",
    "    yaxis=dict(autorange='reversed')\n",
    ")\n",
    "fig.write_html(\"similarities.html\")\n",
    "fig.show()"
   ]
  },
  {
   "cell_type": "code",
   "execution_count": 203,
   "metadata": {},
   "outputs": [],
   "source": [
    "cities_country = [f'{city} ({city_df[city_df[\"city\"]==city].iloc[0][\"iso3\"]})' for city in list(label_mapping)]\n",
    "similarities = pd.DataFrame(\n",
    "    similarity_matrix-np.eye(*similarity_matrix.shape), \n",
    "    index=cities_country,\n",
    "    columns=cities_country\n",
    ")"
   ]
  },
  {
   "cell_type": "code",
   "execution_count": 204,
   "metadata": {},
   "outputs": [
    {
     "name": "stdout",
     "output_type": "stream",
     "text": [
      "\\begin{tabular}{llr}\n",
      "\\toprule\n",
      "index & variable & value \\\\\n",
      "\\midrule\n",
      "Jakarta (IDN) & Surabaya (IDN) & 0.953 \\\\\n",
      "Nagoya (JPN) & Ōsaka (JPN) & 0.936 \\\\\n",
      "Delhi (IND) & Bangalore (IND) & 0.900 \\\\\n",
      "Ōsaka (JPN) & Tokyo (JPN) & 0.897 \\\\\n",
      "Guangzhou (CHN) & Shenzhen (CHN) & 0.877 \\\\\n",
      "\\bottomrule\n",
      "\\end{tabular}\n",
      "\n"
     ]
    }
   ],
   "source": [
    "print(\n",
    "    similarities\n",
    "    .reset_index()\n",
    "    .melt(id_vars=\"index\")\n",
    "    .sort_values(\"value\", ascending=False)\n",
    "    .head(10)\n",
    "    .iloc[range(0,10,2),:]\n",
    "    .to_latex(index=False, float_format=\"%.3f\")\n",
    ")"
   ]
  },
  {
   "cell_type": "code",
   "execution_count": 205,
   "metadata": {},
   "outputs": [
    {
     "name": "stdout",
     "output_type": "stream",
     "text": [
      "\\begin{tabular}{llr}\n",
      "\\toprule\n",
      "index & variable & value \\\\\n",
      "\\midrule\n",
      "Chattogram (BGD) & Madrid (ESP) & -0.333 \\\\\n",
      "Bangkok (THA) & Bangalore (IND) & -0.357 \\\\\n",
      "Bangkok (THA) & Delhi (IND) & -0.357 \\\\\n",
      "Seoul (KOR) & Lahore (PAK) & -0.389 \\\\\n",
      "Mumbai (IND) & Bangkok (THA) & -0.390 \\\\\n",
      "\\bottomrule\n",
      "\\end{tabular}\n",
      "\n"
     ]
    }
   ],
   "source": [
    "print(\n",
    "    similarities\n",
    "    .reset_index()\n",
    "    .melt(id_vars=\"index\")\n",
    "    .sort_values(\"value\", ascending=False)\n",
    "    .tail(10)\n",
    "    .iloc[range(0,10,2),:]\n",
    "    .to_latex(index=False, float_format=\"%.3f\")\n",
    ")"
   ]
  },
  {
   "cell_type": "code",
   "execution_count": 206,
   "metadata": {},
   "outputs": [
    {
     "data": {
      "text/html": [
       "<div>\n",
       "<style scoped>\n",
       "    .dataframe tbody tr th:only-of-type {\n",
       "        vertical-align: middle;\n",
       "    }\n",
       "\n",
       "    .dataframe tbody tr th {\n",
       "        vertical-align: top;\n",
       "    }\n",
       "\n",
       "    .dataframe thead th {\n",
       "        text-align: right;\n",
       "    }\n",
       "</style>\n",
       "<table border=\"1\" class=\"dataframe\">\n",
       "  <thead>\n",
       "    <tr style=\"text-align: right;\">\n",
       "      <th></th>\n",
       "      <th>distance</th>\n",
       "      <th>similarity</th>\n",
       "    </tr>\n",
       "  </thead>\n",
       "  <tbody>\n",
       "    <tr>\n",
       "      <th>distance</th>\n",
       "      <td>1.000000</td>\n",
       "      <td>-0.255391</td>\n",
       "    </tr>\n",
       "    <tr>\n",
       "      <th>similarity</th>\n",
       "      <td>-0.255391</td>\n",
       "      <td>1.000000</td>\n",
       "    </tr>\n",
       "  </tbody>\n",
       "</table>\n",
       "</div>"
      ],
      "text/plain": [
       "            distance  similarity\n",
       "distance    1.000000   -0.255391\n",
       "similarity -0.255391    1.000000"
      ]
     },
     "execution_count": 206,
     "metadata": {},
     "output_type": "execute_result"
    }
   ],
   "source": [
    "distances = pd.DataFrame([\n",
    "        [\n",
    "            distance.distance(city_df[city_df[\"city\"]==a].loc[:,[\"lat\", \"lng\"]].values[0],city_df[city_df[\"city\"]==b].loc[:,[\"lat\", \"lng\"]].values[0]).km\n",
    "            for b in label_mapping\n",
    "        ] \n",
    "        for a in label_mapping\n",
    "    ],\n",
    "    index=label_mapping,\n",
    "    columns=label_mapping\n",
    ")\n",
    "similarities = pd.DataFrame(similarity_matrix, index=label_mapping, columns=label_mapping)\n",
    "\n",
    "pairs = distances.reset_index().melt(id_vars=\"index\")\n",
    "pairs = pairs.rename(columns={\"index\":\"city1\",\"variable\":\"city2\",\"value\":\"distance\"})\n",
    "pairs[\"similarity\"] = similarities.reset_index().melt(id_vars=\"index\")[\"value\"]\n",
    "pairs[pairs[\"city1\"]!=pairs[\"city2\"]].corr(numeric_only=True)"
   ]
  },
  {
   "cell_type": "code",
   "execution_count": null,
   "metadata": {},
   "outputs": [],
   "source": []
  }
 ],
 "metadata": {
  "kernelspec": {
   "display_name": "test",
   "language": "python",
   "name": "python3"
  },
  "language_info": {
   "codemirror_mode": {
    "name": "ipython",
    "version": 3
   },
   "file_extension": ".py",
   "mimetype": "text/x-python",
   "name": "python",
   "nbconvert_exporter": "python",
   "pygments_lexer": "ipython3",
   "version": "3.11.8"
  }
 },
 "nbformat": 4,
 "nbformat_minor": 2
}
